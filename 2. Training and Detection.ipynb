{
 "cells": [
  {
   "cell_type": "markdown",
   "metadata": {
    "id": "QUANWN3rpfC9"
   },
   "source": [
    "# 0. Setup Paths"
   ]
  },
  {
   "cell_type": "code",
   "execution_count": 1,
   "metadata": {
    "id": "146BB11JpfDA"
   },
   "outputs": [],
   "source": [
    "import os"
   ]
  },
  {
   "cell_type": "code",
   "execution_count": 2,
   "metadata": {
    "id": "42hJEdo_pfDB"
   },
   "outputs": [],
   "source": [
    "CUSTOM_MODEL_NAME = 'my_ssd_mobnet' \n",
    "PRETRAINED_MODEL_NAME = 'ssd_mobilenet_v2_fpnlite_320x320_coco17_tpu-8'\n",
    "PRETRAINED_MODEL_URL = 'http://download.tensorflow.org/models/object_detection/tf2/20200711/ssd_mobilenet_v2_fpnlite_320x320_coco17_tpu-8.tar.gz'\n",
    "TF_RECORD_SCRIPT_NAME = 'generate_tfrecord.py'\n",
    "LABEL_MAP_NAME = 'label_map.pbtxt'"
   ]
  },
  {
   "cell_type": "code",
   "execution_count": 3,
   "metadata": {
    "id": "hbPhYVy_pfDB"
   },
   "outputs": [],
   "source": [
    "paths = {\n",
    "    'WORKSPACE_PATH': os.path.join('Tensorflow', 'workspace'),\n",
    "    'SCRIPTS_PATH': os.path.join('Tensorflow','scripts'),\n",
    "    'APIMODEL_PATH': os.path.join('Tensorflow','models'),\n",
    "    'ANNOTATION_PATH': os.path.join('Tensorflow', 'workspace','annotations'),\n",
    "    'IMAGE_PATH': os.path.join('Tensorflow', 'workspace','images'),\n",
    "    'MODEL_PATH': os.path.join('Tensorflow', 'workspace','models'),\n",
    "    'PRETRAINED_MODEL_PATH': os.path.join('Tensorflow', 'workspace','pre-trained-models'),\n",
    "    'CHECKPOINT_PATH': os.path.join('Tensorflow', 'workspace','models',CUSTOM_MODEL_NAME), \n",
    "    'OUTPUT_PATH': os.path.join('Tensorflow', 'workspace','models',CUSTOM_MODEL_NAME, 'export'), \n",
    "    'TFJS_PATH':os.path.join('Tensorflow', 'workspace','models',CUSTOM_MODEL_NAME, 'tfjsexport'), \n",
    "    'TFLITE_PATH':os.path.join('Tensorflow', 'workspace','models',CUSTOM_MODEL_NAME, 'tfliteexport'), \n",
    "    'PROTOC_PATH':os.path.join('Tensorflow','protoc')\n",
    " }"
   ]
  },
  {
   "cell_type": "code",
   "execution_count": 4,
   "metadata": {
    "id": "LwhWZMI0pfDC"
   },
   "outputs": [],
   "source": [
    "files = {\n",
    "    'PIPELINE_CONFIG':os.path.join('Tensorflow', 'workspace','models', CUSTOM_MODEL_NAME, 'pipeline.config'),\n",
    "    'TF_RECORD_SCRIPT': os.path.join(paths['SCRIPTS_PATH'], TF_RECORD_SCRIPT_NAME), \n",
    "    'LABELMAP': os.path.join(paths['ANNOTATION_PATH'], LABEL_MAP_NAME)\n",
    "}"
   ]
  },
  {
   "cell_type": "code",
   "execution_count": 5,
   "metadata": {
    "id": "HR-TfDGrpfDC"
   },
   "outputs": [],
   "source": [
    "for path in paths.values():\n",
    "    if not os.path.exists(path):\n",
    "        if os.name == 'posix':\n",
    "            !mkdir -p {path}\n",
    "        if os.name == 'nt':\n",
    "            !mkdir {path}"
   ]
  },
  {
   "cell_type": "markdown",
   "metadata": {
    "id": "OLU-rs_ipfDE"
   },
   "source": [
    "# 1. Download TF Models Pretrained Models from Tensorflow Model Zoo and Install TFOD"
   ]
  },
  {
   "cell_type": "code",
   "execution_count": 6,
   "metadata": {},
   "outputs": [],
   "source": [
    "# https://www.tensorflow.org/install/source_windows"
   ]
  },
  {
   "cell_type": "code",
   "execution_count": 7,
   "metadata": {
    "id": "K-Cmz2edpfDE",
    "scrolled": true
   },
   "outputs": [],
   "source": [
    "if os.name=='nt':\n",
    "    !pip install wget\n",
    "    import wget"
   ]
  },
  {
   "cell_type": "code",
   "execution_count": 8,
   "metadata": {
    "id": "iA1DIq5OpfDE"
   },
   "outputs": [],
   "source": [
    "if not os.path.exists(os.path.join(paths['APIMODEL_PATH'], 'research', 'object_detection')):\n",
    "    !git clone https://github.com/tensorflow/models {paths['APIMODEL_PATH']}"
   ]
  },
  {
   "cell_type": "code",
   "execution_count": 9,
   "metadata": {
    "id": "rJjMHbnDs3Tv"
   },
   "outputs": [
    {
     "name": "stdout",
     "output_type": "stream",
     "text": [
      "E: Could not open lock file /var/lib/dpkg/lock-frontend - open (13: Permission denied)\n",
      "E: Unable to acquire the dpkg frontend lock (/var/lib/dpkg/lock-frontend), are you root?\n",
      "Processing /home/shivani/PycharmProjects/obj-localization-animal/Tensorflow/models/research\n",
      "  Preparing metadata (setup.py) ... \u001b[?25ldone\n",
      "\u001b[?25hRequirement already satisfied: avro-python3 in /home/shivani/PycharmProjects/obj-localization-animal/venv/lib/python3.8/site-packages (from object-detection==0.1) (1.10.2)\n",
      "Requirement already satisfied: apache-beam in /home/shivani/PycharmProjects/obj-localization-animal/venv/lib/python3.8/site-packages (from object-detection==0.1) (2.43.0)\n",
      "Requirement already satisfied: pillow in /home/shivani/PycharmProjects/obj-localization-animal/venv/lib/python3.8/site-packages (from object-detection==0.1) (9.4.0)\n",
      "Requirement already satisfied: lxml in /home/shivani/PycharmProjects/obj-localization-animal/venv/lib/python3.8/site-packages (from object-detection==0.1) (4.9.2)\n",
      "Requirement already satisfied: matplotlib in /home/shivani/PycharmProjects/obj-localization-animal/venv/lib/python3.8/site-packages (from object-detection==0.1) (3.2.0)\n",
      "Requirement already satisfied: Cython in /home/shivani/PycharmProjects/obj-localization-animal/venv/lib/python3.8/site-packages (from object-detection==0.1) (0.29.32)\n",
      "Requirement already satisfied: contextlib2 in /home/shivani/PycharmProjects/obj-localization-animal/venv/lib/python3.8/site-packages (from object-detection==0.1) (21.6.0)\n",
      "Requirement already satisfied: tf-slim in /home/shivani/PycharmProjects/obj-localization-animal/venv/lib/python3.8/site-packages (from object-detection==0.1) (1.1.0)\n",
      "Requirement already satisfied: six in /home/shivani/PycharmProjects/obj-localization-animal/venv/lib/python3.8/site-packages (from object-detection==0.1) (1.16.0)\n",
      "Requirement already satisfied: pycocotools in /home/shivani/PycharmProjects/obj-localization-animal/venv/lib/python3.8/site-packages (from object-detection==0.1) (2.0.6)\n",
      "Requirement already satisfied: lvis in /home/shivani/PycharmProjects/obj-localization-animal/venv/lib/python3.8/site-packages (from object-detection==0.1) (0.5.3)\n",
      "Requirement already satisfied: scipy in /home/shivani/PycharmProjects/obj-localization-animal/venv/lib/python3.8/site-packages (from object-detection==0.1) (1.9.3)\n",
      "Requirement already satisfied: pandas in /home/shivani/PycharmProjects/obj-localization-animal/venv/lib/python3.8/site-packages (from object-detection==0.1) (1.5.2)\n",
      "Requirement already satisfied: tf-models-official>=2.5.1 in /home/shivani/PycharmProjects/obj-localization-animal/venv/lib/python3.8/site-packages (from object-detection==0.1) (2.11.2)\n",
      "Requirement already satisfied: tensorflow_io in /home/shivani/PycharmProjects/obj-localization-animal/venv/lib/python3.8/site-packages (from object-detection==0.1) (0.29.0)\n",
      "Requirement already satisfied: keras in /home/shivani/PycharmProjects/obj-localization-animal/venv/lib/python3.8/site-packages (from object-detection==0.1) (2.11.0)\n",
      "Requirement already satisfied: pyparsing==2.4.7 in /home/shivani/PycharmProjects/obj-localization-animal/venv/lib/python3.8/site-packages (from object-detection==0.1) (2.4.7)\n",
      "Requirement already satisfied: sacrebleu<=2.2.0 in /home/shivani/PycharmProjects/obj-localization-animal/venv/lib/python3.8/site-packages (from object-detection==0.1) (2.2.0)\n",
      "Requirement already satisfied: colorama in /home/shivani/PycharmProjects/obj-localization-animal/venv/lib/python3.8/site-packages (from sacrebleu<=2.2.0->object-detection==0.1) (0.4.6)\n",
      "Requirement already satisfied: numpy>=1.17 in /home/shivani/PycharmProjects/obj-localization-animal/venv/lib/python3.8/site-packages (from sacrebleu<=2.2.0->object-detection==0.1) (1.22.4)\n",
      "Requirement already satisfied: portalocker in /home/shivani/PycharmProjects/obj-localization-animal/venv/lib/python3.8/site-packages (from sacrebleu<=2.2.0->object-detection==0.1) (2.6.0)\n",
      "Requirement already satisfied: regex in /home/shivani/PycharmProjects/obj-localization-animal/venv/lib/python3.8/site-packages (from sacrebleu<=2.2.0->object-detection==0.1) (2022.10.31)\n",
      "Requirement already satisfied: tabulate>=0.8.9 in /home/shivani/PycharmProjects/obj-localization-animal/venv/lib/python3.8/site-packages (from sacrebleu<=2.2.0->object-detection==0.1) (0.9.0)\n",
      "Requirement already satisfied: tensorflow-text~=2.11.0 in /home/shivani/PycharmProjects/obj-localization-animal/venv/lib/python3.8/site-packages (from tf-models-official>=2.5.1->object-detection==0.1) (2.11.0)\n",
      "Requirement already satisfied: oauth2client in /home/shivani/PycharmProjects/obj-localization-animal/venv/lib/python3.8/site-packages (from tf-models-official>=2.5.1->object-detection==0.1) (4.1.3)\n",
      "Requirement already satisfied: tensorflow-datasets in /home/shivani/PycharmProjects/obj-localization-animal/venv/lib/python3.8/site-packages (from tf-models-official>=2.5.1->object-detection==0.1) (4.8.0)\n",
      "Requirement already satisfied: tensorflow~=2.11.0 in /home/shivani/PycharmProjects/obj-localization-animal/venv/lib/python3.8/site-packages (from tf-models-official>=2.5.1->object-detection==0.1) (2.11.0)\n",
      "Requirement already satisfied: pyyaml<6.0,>=5.1 in /home/shivani/PycharmProjects/obj-localization-animal/venv/lib/python3.8/site-packages (from tf-models-official>=2.5.1->object-detection==0.1) (5.4.1)\n",
      "Requirement already satisfied: google-api-python-client>=1.6.7 in /home/shivani/PycharmProjects/obj-localization-animal/venv/lib/python3.8/site-packages (from tf-models-official>=2.5.1->object-detection==0.1) (2.70.0)\n",
      "Requirement already satisfied: immutabledict in /home/shivani/PycharmProjects/obj-localization-animal/venv/lib/python3.8/site-packages (from tf-models-official>=2.5.1->object-detection==0.1) (2.2.3)\n",
      "Requirement already satisfied: psutil>=5.4.3 in /home/shivani/PycharmProjects/obj-localization-animal/venv/lib/python3.8/site-packages (from tf-models-official>=2.5.1->object-detection==0.1) (5.9.4)\n",
      "Requirement already satisfied: py-cpuinfo>=3.3.0 in /home/shivani/PycharmProjects/obj-localization-animal/venv/lib/python3.8/site-packages (from tf-models-official>=2.5.1->object-detection==0.1) (9.0.0)\n",
      "Requirement already satisfied: tensorflow-addons in /home/shivani/PycharmProjects/obj-localization-animal/venv/lib/python3.8/site-packages (from tf-models-official>=2.5.1->object-detection==0.1) (0.19.0)\n",
      "Requirement already satisfied: sentencepiece in /home/shivani/PycharmProjects/obj-localization-animal/venv/lib/python3.8/site-packages (from tf-models-official>=2.5.1->object-detection==0.1) (0.1.97)\n",
      "Requirement already satisfied: gin-config in /home/shivani/PycharmProjects/obj-localization-animal/venv/lib/python3.8/site-packages (from tf-models-official>=2.5.1->object-detection==0.1) (0.5.0)\n",
      "Requirement already satisfied: tensorflow-model-optimization>=0.4.1 in /home/shivani/PycharmProjects/obj-localization-animal/venv/lib/python3.8/site-packages (from tf-models-official>=2.5.1->object-detection==0.1) (0.7.3)\n",
      "Requirement already satisfied: seqeval in /home/shivani/PycharmProjects/obj-localization-animal/venv/lib/python3.8/site-packages (from tf-models-official>=2.5.1->object-detection==0.1) (1.2.2)\n",
      "Requirement already satisfied: tensorflow-hub>=0.6.0 in /home/shivani/PycharmProjects/obj-localization-animal/venv/lib/python3.8/site-packages (from tf-models-official>=2.5.1->object-detection==0.1) (0.12.0)\n",
      "Requirement already satisfied: kaggle>=1.3.9 in /home/shivani/PycharmProjects/obj-localization-animal/venv/lib/python3.8/site-packages (from tf-models-official>=2.5.1->object-detection==0.1) (1.5.12)\n",
      "Requirement already satisfied: opencv-python-headless in /home/shivani/PycharmProjects/obj-localization-animal/venv/lib/python3.8/site-packages (from tf-models-official>=2.5.1->object-detection==0.1) (4.7.0.68)\n",
      "Requirement already satisfied: pytz>=2020.1 in /home/shivani/PycharmProjects/obj-localization-animal/venv/lib/python3.8/site-packages (from pandas->object-detection==0.1) (2022.7)\n",
      "Requirement already satisfied: python-dateutil>=2.8.1 in /home/shivani/PycharmProjects/obj-localization-animal/venv/lib/python3.8/site-packages (from pandas->object-detection==0.1) (2.8.2)\n",
      "Requirement already satisfied: absl-py>=0.2.2 in /home/shivani/PycharmProjects/obj-localization-animal/venv/lib/python3.8/site-packages (from tf-slim->object-detection==0.1) (1.3.0)\n"
     ]
    },
    {
     "name": "stdout",
     "output_type": "stream",
     "text": [
      "Requirement already satisfied: proto-plus<2,>=1.7.1 in /home/shivani/PycharmProjects/obj-localization-animal/venv/lib/python3.8/site-packages (from apache-beam->object-detection==0.1) (1.22.1)\n",
      "Requirement already satisfied: zstandard<1,>=0.18.0 in /home/shivani/PycharmProjects/obj-localization-animal/venv/lib/python3.8/site-packages (from apache-beam->object-detection==0.1) (0.19.0)\n",
      "Requirement already satisfied: grpcio!=1.48.0,<2,>=1.33.1 in /home/shivani/PycharmProjects/obj-localization-animal/venv/lib/python3.8/site-packages (from apache-beam->object-detection==0.1) (1.51.1)\n",
      "Requirement already satisfied: dill<0.3.2,>=0.3.1.1 in /home/shivani/PycharmProjects/obj-localization-animal/venv/lib/python3.8/site-packages (from apache-beam->object-detection==0.1) (0.3.1.1)\n",
      "Requirement already satisfied: fasteners<1.0,>=0.3 in /home/shivani/PycharmProjects/obj-localization-animal/venv/lib/python3.8/site-packages (from apache-beam->object-detection==0.1) (0.18)\n",
      "Requirement already satisfied: requests<3.0.0,>=2.24.0 in /home/shivani/PycharmProjects/obj-localization-animal/venv/lib/python3.8/site-packages (from apache-beam->object-detection==0.1) (2.28.1)\n",
      "Requirement already satisfied: objsize<0.6.0,>=0.5.2 in /home/shivani/PycharmProjects/obj-localization-animal/venv/lib/python3.8/site-packages (from apache-beam->object-detection==0.1) (0.5.2)\n",
      "Requirement already satisfied: httplib2<0.21.0,>=0.8 in /home/shivani/PycharmProjects/obj-localization-animal/venv/lib/python3.8/site-packages (from apache-beam->object-detection==0.1) (0.20.4)\n",
      "Requirement already satisfied: pydot<2,>=1.2.0 in /home/shivani/PycharmProjects/obj-localization-animal/venv/lib/python3.8/site-packages (from apache-beam->object-detection==0.1) (1.4.2)\n",
      "Requirement already satisfied: orjson<4.0 in /home/shivani/PycharmProjects/obj-localization-animal/venv/lib/python3.8/site-packages (from apache-beam->object-detection==0.1) (3.8.3)\n",
      "Requirement already satisfied: protobuf<4,>3.12.2 in /home/shivani/PycharmProjects/obj-localization-animal/venv/lib/python3.8/site-packages (from apache-beam->object-detection==0.1) (3.20.3)\n",
      "Requirement already satisfied: typing-extensions>=3.7.0 in /home/shivani/PycharmProjects/obj-localization-animal/venv/lib/python3.8/site-packages (from apache-beam->object-detection==0.1) (4.4.0)\n",
      "Requirement already satisfied: fastavro<2,>=0.23.6 in /home/shivani/PycharmProjects/obj-localization-animal/venv/lib/python3.8/site-packages (from apache-beam->object-detection==0.1) (1.7.0)\n",
      "Requirement already satisfied: pymongo<4.0.0,>=3.8.0 in /home/shivani/PycharmProjects/obj-localization-animal/venv/lib/python3.8/site-packages (from apache-beam->object-detection==0.1) (3.13.0)\n",
      "Requirement already satisfied: crcmod<2.0,>=1.7 in /home/shivani/PycharmProjects/obj-localization-animal/venv/lib/python3.8/site-packages (from apache-beam->object-detection==0.1) (1.7)\n",
      "Requirement already satisfied: pyarrow<10.0.0,>=0.15.1 in /home/shivani/PycharmProjects/obj-localization-animal/venv/lib/python3.8/site-packages (from apache-beam->object-detection==0.1) (9.0.0)\n",
      "Requirement already satisfied: cloudpickle~=2.2.0 in /home/shivani/PycharmProjects/obj-localization-animal/venv/lib/python3.8/site-packages (from apache-beam->object-detection==0.1) (2.2.0)\n",
      "Requirement already satisfied: hdfs<3.0.0,>=2.1.0 in /home/shivani/PycharmProjects/obj-localization-animal/venv/lib/python3.8/site-packages (from apache-beam->object-detection==0.1) (2.7.0)\n",
      "Requirement already satisfied: cycler>=0.10.0 in /home/shivani/PycharmProjects/obj-localization-animal/venv/lib/python3.8/site-packages (from lvis->object-detection==0.1) (0.11.0)\n",
      "Requirement already satisfied: kiwisolver>=1.1.0 in /home/shivani/PycharmProjects/obj-localization-animal/venv/lib/python3.8/site-packages (from lvis->object-detection==0.1) (1.4.4)\n",
      "Requirement already satisfied: opencv-python>=4.1.0.25 in /home/shivani/PycharmProjects/obj-localization-animal/venv/lib/python3.8/site-packages (from lvis->object-detection==0.1) (4.7.0.68)\n",
      "Requirement already satisfied: tensorflow-io-gcs-filesystem==0.29.0 in /home/shivani/PycharmProjects/obj-localization-animal/venv/lib/python3.8/site-packages (from tensorflow_io->object-detection==0.1) (0.29.0)\n",
      "Requirement already satisfied: google-auth<3.0.0dev,>=1.19.0 in /home/shivani/PycharmProjects/obj-localization-animal/venv/lib/python3.8/site-packages (from google-api-python-client>=1.6.7->tf-models-official>=2.5.1->object-detection==0.1) (2.15.0)\n",
      "Requirement already satisfied: google-api-core!=2.0.*,!=2.1.*,!=2.2.*,!=2.3.0,<3.0.0dev,>=1.31.5 in /home/shivani/PycharmProjects/obj-localization-animal/venv/lib/python3.8/site-packages (from google-api-python-client>=1.6.7->tf-models-official>=2.5.1->object-detection==0.1) (2.11.0)\n",
      "Requirement already satisfied: google-auth-httplib2>=0.1.0 in /home/shivani/PycharmProjects/obj-localization-animal/venv/lib/python3.8/site-packages (from google-api-python-client>=1.6.7->tf-models-official>=2.5.1->object-detection==0.1) (0.1.0)\n",
      "Requirement already satisfied: uritemplate<5,>=3.0.1 in /home/shivani/PycharmProjects/obj-localization-animal/venv/lib/python3.8/site-packages (from google-api-python-client>=1.6.7->tf-models-official>=2.5.1->object-detection==0.1) (4.1.1)\n",
      "Requirement already satisfied: docopt in /home/shivani/PycharmProjects/obj-localization-animal/venv/lib/python3.8/site-packages (from hdfs<3.0.0,>=2.1.0->apache-beam->object-detection==0.1) (0.6.2)\n",
      "Requirement already satisfied: urllib3 in /home/shivani/PycharmProjects/obj-localization-animal/venv/lib/python3.8/site-packages (from kaggle>=1.3.9->tf-models-official>=2.5.1->object-detection==0.1) (1.26.13)\n",
      "Requirement already satisfied: certifi in /home/shivani/PycharmProjects/obj-localization-animal/venv/lib/python3.8/site-packages (from kaggle>=1.3.9->tf-models-official>=2.5.1->object-detection==0.1) (2022.12.7)\n",
      "Requirement already satisfied: python-slugify in /home/shivani/PycharmProjects/obj-localization-animal/venv/lib/python3.8/site-packages (from kaggle>=1.3.9->tf-models-official>=2.5.1->object-detection==0.1) (7.0.0)\n",
      "Requirement already satisfied: tqdm in /home/shivani/PycharmProjects/obj-localization-animal/venv/lib/python3.8/site-packages (from kaggle>=1.3.9->tf-models-official>=2.5.1->object-detection==0.1) (4.64.1)\n",
      "Requirement already satisfied: charset-normalizer<3,>=2 in /home/shivani/PycharmProjects/obj-localization-animal/venv/lib/python3.8/site-packages (from requests<3.0.0,>=2.24.0->apache-beam->object-detection==0.1) (2.1.1)\n",
      "Requirement already satisfied: idna<4,>=2.5 in /home/shivani/PycharmProjects/obj-localization-animal/venv/lib/python3.8/site-packages (from requests<3.0.0,>=2.24.0->apache-beam->object-detection==0.1) (3.4)\n",
      "Requirement already satisfied: h5py>=2.9.0 in /home/shivani/PycharmProjects/obj-localization-animal/venv/lib/python3.8/site-packages (from tensorflow~=2.11.0->tf-models-official>=2.5.1->object-detection==0.1) (3.7.0)\n",
      "Requirement already satisfied: flatbuffers>=2.0 in /home/shivani/PycharmProjects/obj-localization-animal/venv/lib/python3.8/site-packages (from tensorflow~=2.11.0->tf-models-official>=2.5.1->object-detection==0.1) (22.12.6)\n",
      "Requirement already satisfied: termcolor>=1.1.0 in /home/shivani/PycharmProjects/obj-localization-animal/venv/lib/python3.8/site-packages (from tensorflow~=2.11.0->tf-models-official>=2.5.1->object-detection==0.1) (2.1.1)\n",
      "Requirement already satisfied: opt-einsum>=2.3.2 in /home/shivani/PycharmProjects/obj-localization-animal/venv/lib/python3.8/site-packages (from tensorflow~=2.11.0->tf-models-official>=2.5.1->object-detection==0.1) (3.3.0)\n",
      "Requirement already satisfied: gast<=0.4.0,>=0.2.1 in /home/shivani/PycharmProjects/obj-localization-animal/venv/lib/python3.8/site-packages (from tensorflow~=2.11.0->tf-models-official>=2.5.1->object-detection==0.1) (0.4.0)\n",
      "Requirement already satisfied: libclang>=13.0.0 in /home/shivani/PycharmProjects/obj-localization-animal/venv/lib/python3.8/site-packages (from tensorflow~=2.11.0->tf-models-official>=2.5.1->object-detection==0.1) (14.0.6)\n",
      "Collecting protobuf<4,>3.12.2\n",
      "  Using cached protobuf-3.19.6-cp38-cp38-manylinux_2_17_x86_64.manylinux2014_x86_64.whl (1.1 MB)\n",
      "Requirement already satisfied: tensorboard<2.12,>=2.11 in /home/shivani/PycharmProjects/obj-localization-animal/venv/lib/python3.8/site-packages (from tensorflow~=2.11.0->tf-models-official>=2.5.1->object-detection==0.1) (2.11.0)\n",
      "Requirement already satisfied: tensorflow-estimator<2.12,>=2.11.0 in /home/shivani/PycharmProjects/obj-localization-animal/venv/lib/python3.8/site-packages (from tensorflow~=2.11.0->tf-models-official>=2.5.1->object-detection==0.1) (2.11.0)\n",
      "Requirement already satisfied: wrapt>=1.11.0 in /home/shivani/PycharmProjects/obj-localization-animal/venv/lib/python3.8/site-packages (from tensorflow~=2.11.0->tf-models-official>=2.5.1->object-detection==0.1) (1.14.1)\n",
      "Requirement already satisfied: google-pasta>=0.1.1 in /home/shivani/PycharmProjects/obj-localization-animal/venv/lib/python3.8/site-packages (from tensorflow~=2.11.0->tf-models-official>=2.5.1->object-detection==0.1) (0.2.0)\n",
      "Requirement already satisfied: astunparse>=1.6.0 in /home/shivani/PycharmProjects/obj-localization-animal/venv/lib/python3.8/site-packages (from tensorflow~=2.11.0->tf-models-official>=2.5.1->object-detection==0.1) (1.6.3)\n",
      "Requirement already satisfied: setuptools in /home/shivani/PycharmProjects/obj-localization-animal/venv/lib/python3.8/site-packages (from tensorflow~=2.11.0->tf-models-official>=2.5.1->object-detection==0.1) (60.2.0)\n",
      "Requirement already satisfied: packaging in /home/shivani/PycharmProjects/obj-localization-animal/venv/lib/python3.8/site-packages (from tensorflow~=2.11.0->tf-models-official>=2.5.1->object-detection==0.1) (22.0)\n"
     ]
    },
    {
     "name": "stdout",
     "output_type": "stream",
     "text": [
      "Requirement already satisfied: dm-tree~=0.1.1 in /home/shivani/PycharmProjects/obj-localization-animal/venv/lib/python3.8/site-packages (from tensorflow-model-optimization>=0.4.1->tf-models-official>=2.5.1->object-detection==0.1) (0.1.8)\n",
      "Requirement already satisfied: rsa>=3.1.4 in /home/shivani/PycharmProjects/obj-localization-animal/venv/lib/python3.8/site-packages (from oauth2client->tf-models-official>=2.5.1->object-detection==0.1) (4.9)\n",
      "Requirement already satisfied: pyasn1-modules>=0.0.5 in /home/shivani/PycharmProjects/obj-localization-animal/venv/lib/python3.8/site-packages (from oauth2client->tf-models-official>=2.5.1->object-detection==0.1) (0.2.8)\n",
      "Requirement already satisfied: pyasn1>=0.1.7 in /home/shivani/PycharmProjects/obj-localization-animal/venv/lib/python3.8/site-packages (from oauth2client->tf-models-official>=2.5.1->object-detection==0.1) (0.4.8)\n",
      "Requirement already satisfied: scikit-learn>=0.21.3 in /home/shivani/PycharmProjects/obj-localization-animal/venv/lib/python3.8/site-packages (from seqeval->tf-models-official>=2.5.1->object-detection==0.1) (1.2.0)\n",
      "Requirement already satisfied: typeguard>=2.7 in /home/shivani/PycharmProjects/obj-localization-animal/venv/lib/python3.8/site-packages (from tensorflow-addons->tf-models-official>=2.5.1->object-detection==0.1) (2.13.3)\n",
      "Requirement already satisfied: importlib-resources in /home/shivani/PycharmProjects/obj-localization-animal/venv/lib/python3.8/site-packages (from tensorflow-datasets->tf-models-official>=2.5.1->object-detection==0.1) (5.10.2)\n",
      "Requirement already satisfied: tensorflow-metadata in /home/shivani/PycharmProjects/obj-localization-animal/venv/lib/python3.8/site-packages (from tensorflow-datasets->tf-models-official>=2.5.1->object-detection==0.1) (1.12.0)\n",
      "Requirement already satisfied: click in /home/shivani/PycharmProjects/obj-localization-animal/venv/lib/python3.8/site-packages (from tensorflow-datasets->tf-models-official>=2.5.1->object-detection==0.1) (8.1.3)\n",
      "Requirement already satisfied: toml in /home/shivani/PycharmProjects/obj-localization-animal/venv/lib/python3.8/site-packages (from tensorflow-datasets->tf-models-official>=2.5.1->object-detection==0.1) (0.10.2)\n",
      "Requirement already satisfied: promise in /home/shivani/PycharmProjects/obj-localization-animal/venv/lib/python3.8/site-packages (from tensorflow-datasets->tf-models-official>=2.5.1->object-detection==0.1) (2.3)\n",
      "Requirement already satisfied: etils[epath] in /home/shivani/PycharmProjects/obj-localization-animal/venv/lib/python3.8/site-packages (from tensorflow-datasets->tf-models-official>=2.5.1->object-detection==0.1) (0.9.0)\n",
      "Requirement already satisfied: wheel<1.0,>=0.23.0 in /home/shivani/PycharmProjects/obj-localization-animal/venv/lib/python3.8/site-packages (from astunparse>=1.6.0->tensorflow~=2.11.0->tf-models-official>=2.5.1->object-detection==0.1) (0.37.1)\n",
      "Requirement already satisfied: googleapis-common-protos<2.0dev,>=1.56.2 in /home/shivani/PycharmProjects/obj-localization-animal/venv/lib/python3.8/site-packages (from google-api-core!=2.0.*,!=2.1.*,!=2.2.*,!=2.3.0,<3.0.0dev,>=1.31.5->google-api-python-client>=1.6.7->tf-models-official>=2.5.1->object-detection==0.1) (1.57.0)\n",
      "Requirement already satisfied: cachetools<6.0,>=2.0.0 in /home/shivani/PycharmProjects/obj-localization-animal/venv/lib/python3.8/site-packages (from google-auth<3.0.0dev,>=1.19.0->google-api-python-client>=1.6.7->tf-models-official>=2.5.1->object-detection==0.1) (5.2.0)\n",
      "Requirement already satisfied: threadpoolctl>=2.0.0 in /home/shivani/PycharmProjects/obj-localization-animal/venv/lib/python3.8/site-packages (from scikit-learn>=0.21.3->seqeval->tf-models-official>=2.5.1->object-detection==0.1) (3.1.0)\n",
      "Requirement already satisfied: joblib>=1.1.1 in /home/shivani/PycharmProjects/obj-localization-animal/venv/lib/python3.8/site-packages (from scikit-learn>=0.21.3->seqeval->tf-models-official>=2.5.1->object-detection==0.1) (1.2.0)\n",
      "Requirement already satisfied: tensorboard-data-server<0.7.0,>=0.6.0 in /home/shivani/PycharmProjects/obj-localization-animal/venv/lib/python3.8/site-packages (from tensorboard<2.12,>=2.11->tensorflow~=2.11.0->tf-models-official>=2.5.1->object-detection==0.1) (0.6.1)\n",
      "Requirement already satisfied: markdown>=2.6.8 in /home/shivani/PycharmProjects/obj-localization-animal/venv/lib/python3.8/site-packages (from tensorboard<2.12,>=2.11->tensorflow~=2.11.0->tf-models-official>=2.5.1->object-detection==0.1) (3.4.1)\n",
      "Requirement already satisfied: werkzeug>=1.0.1 in /home/shivani/PycharmProjects/obj-localization-animal/venv/lib/python3.8/site-packages (from tensorboard<2.12,>=2.11->tensorflow~=2.11.0->tf-models-official>=2.5.1->object-detection==0.1) (2.2.2)\n",
      "Requirement already satisfied: google-auth-oauthlib<0.5,>=0.4.1 in /home/shivani/PycharmProjects/obj-localization-animal/venv/lib/python3.8/site-packages (from tensorboard<2.12,>=2.11->tensorflow~=2.11.0->tf-models-official>=2.5.1->object-detection==0.1) (0.4.6)\n",
      "Requirement already satisfied: tensorboard-plugin-wit>=1.6.0 in /home/shivani/PycharmProjects/obj-localization-animal/venv/lib/python3.8/site-packages (from tensorboard<2.12,>=2.11->tensorflow~=2.11.0->tf-models-official>=2.5.1->object-detection==0.1) (1.8.1)\n",
      "Requirement already satisfied: zipp in /home/shivani/PycharmProjects/obj-localization-animal/venv/lib/python3.8/site-packages (from etils[epath]->tensorflow-datasets->tf-models-official>=2.5.1->object-detection==0.1) (3.11.0)\n",
      "Requirement already satisfied: text-unidecode>=1.3 in /home/shivani/PycharmProjects/obj-localization-animal/venv/lib/python3.8/site-packages (from python-slugify->kaggle>=1.3.9->tf-models-official>=2.5.1->object-detection==0.1) (1.3)\n",
      "Requirement already satisfied: requests-oauthlib>=0.7.0 in /home/shivani/PycharmProjects/obj-localization-animal/venv/lib/python3.8/site-packages (from google-auth-oauthlib<0.5,>=0.4.1->tensorboard<2.12,>=2.11->tensorflow~=2.11.0->tf-models-official>=2.5.1->object-detection==0.1) (1.3.1)\n",
      "Requirement already satisfied: importlib-metadata>=4.4 in /home/shivani/PycharmProjects/obj-localization-animal/venv/lib/python3.8/site-packages (from markdown>=2.6.8->tensorboard<2.12,>=2.11->tensorflow~=2.11.0->tf-models-official>=2.5.1->object-detection==0.1) (6.0.0)\n",
      "Requirement already satisfied: MarkupSafe>=2.1.1 in /home/shivani/PycharmProjects/obj-localization-animal/venv/lib/python3.8/site-packages (from werkzeug>=1.0.1->tensorboard<2.12,>=2.11->tensorflow~=2.11.0->tf-models-official>=2.5.1->object-detection==0.1) (2.1.1)\n",
      "Requirement already satisfied: oauthlib>=3.0.0 in /home/shivani/PycharmProjects/obj-localization-animal/venv/lib/python3.8/site-packages (from requests-oauthlib>=0.7.0->google-auth-oauthlib<0.5,>=0.4.1->tensorboard<2.12,>=2.11->tensorflow~=2.11.0->tf-models-official>=2.5.1->object-detection==0.1) (3.2.2)\n",
      "Building wheels for collected packages: object-detection\n",
      "  Building wheel for object-detection (setup.py) ... \u001b[?25ldone\n",
      "\u001b[?25h  Created wheel for object-detection: filename=object_detection-0.1-py3-none-any.whl size=1697337 sha256=97ec1e2b39bfd93e7fd57077a54b585dbfdcb42dcb74f0f26d036bb53a429916\n",
      "  Stored in directory: /tmp/pip-ephem-wheel-cache-yhu1372z/wheels/ed/7b/c7/febfa642cfa6db927b44094c4649870371a74b6272ae5f02b9\n",
      "Successfully built object-detection\n",
      "Installing collected packages: protobuf, object-detection\n",
      "  Attempting uninstall: protobuf\n",
      "    Found existing installation: protobuf 3.20.3\n",
      "    Uninstalling protobuf-3.20.3:\n",
      "      Successfully uninstalled protobuf-3.20.3\n",
      "  Attempting uninstall: object-detection\n",
      "    Found existing installation: object-detection 0.1\n",
      "    Uninstalling object-detection-0.1:\n",
      "      Successfully uninstalled object-detection-0.1\n",
      "Successfully installed object-detection-0.1 protobuf-3.19.6\n"
     ]
    }
   ],
   "source": [
    "# Install Tensorflow Object Detection \n",
    "if os.name=='posix':  \n",
    "    !apt-get install protobuf-compiler\n",
    "    !cd Tensorflow/models/research && protoc object_detection/protos/*.proto --python_out=. && cp object_detection/packages/tf2/setup.py . && python -m pip install . \n",
    "    \n",
    "if os.name=='nt':\n",
    "    url=\"https://github.com/protocolbuffers/protobuf/releases/download/v3.15.6/protoc-3.15.6-win64.zip\"\n",
    "    wget.download(url)\n",
    "    !move protoc-3.15.6-win64.zip {paths['PROTOC_PATH']}\n",
    "    !cd {paths['PROTOC_PATH']} && tar -xf protoc-3.15.6-win64.zip\n",
    "    os.environ['PATH'] += os.pathsep + os.path.abspath(os.path.join(paths['PROTOC_PATH'], 'bin'))   \n",
    "    !cd Tensorflow/models/research && protoc object_detection/protos/*.proto --python_out=. && copy object_detection\\\\packages\\\\tf2\\\\setup.py setup.py && python setup.py build && python setup.py install\n",
    "    !cd Tensorflow/models/research/slim && pip install -e . "
   ]
  },
  {
   "cell_type": "code",
   "execution_count": 10,
   "metadata": {
    "scrolled": true
   },
   "outputs": [
    {
     "name": "stdout",
     "output_type": "stream",
     "text": [
      "2023-01-02 15:49:28.398781: I tensorflow/core/platform/cpu_feature_guard.cc:193] This TensorFlow binary is optimized with oneAPI Deep Neural Network Library (oneDNN) to use the following CPU instructions in performance-critical operations:  AVX2 FMA\n",
      "To enable them in other operations, rebuild TensorFlow with the appropriate compiler flags.\n",
      "2023-01-02 15:49:29.392317: W tensorflow/compiler/xla/stream_executor/platform/default/dso_loader.cc:64] Could not load dynamic library 'libnvinfer.so.7'; dlerror: libnvinfer.so.7: cannot open shared object file: No such file or directory\n",
      "2023-01-02 15:49:29.392395: W tensorflow/compiler/xla/stream_executor/platform/default/dso_loader.cc:64] Could not load dynamic library 'libnvinfer_plugin.so.7'; dlerror: libnvinfer_plugin.so.7: cannot open shared object file: No such file or directory\n",
      "2023-01-02 15:49:29.392409: W tensorflow/compiler/tf2tensorrt/utils/py_utils.cc:38] TF-TRT Warning: Cannot dlopen some TensorRT libraries. If you would like to use Nvidia GPU with TensorRT, please make sure the missing libraries mentioned above are installed properly.\n",
      "2023-01-02 15:49:31.119826: E tensorflow/compiler/xla/stream_executor/cuda/cuda_driver.cc:267] failed call to cuInit: CUDA_ERROR_NO_DEVICE: no CUDA-capable device is detected\n",
      "2023-01-02 15:49:31.119897: I tensorflow/compiler/xla/stream_executor/cuda/cuda_diagnostics.cc:156] kernel driver does not appear to be running on this host (Shivani): /proc/driver/nvidia/version does not exist\n",
      "Running tests under Python 3.8.10: /home/shivani/PycharmProjects/obj-localization-animal/venv/bin/python\n",
      "[ RUN      ] ModelBuilderTF2Test.test_create_center_net_deepmac\n",
      "2023-01-02 15:49:31.250550: I tensorflow/core/platform/cpu_feature_guard.cc:193] This TensorFlow binary is optimized with oneAPI Deep Neural Network Library (oneDNN) to use the following CPU instructions in performance-critical operations:  AVX2 FMA\n",
      "To enable them in other operations, rebuild TensorFlow with the appropriate compiler flags.\n",
      "/home/shivani/PycharmProjects/obj-localization-animal/venv/lib/python3.8/site-packages/object_detection/builders/model_builder.py:1112: DeprecationWarning: The 'warn' function is deprecated, use 'warning' instead\n",
      "  logging.warn(('Building experimental DeepMAC meta-arch.'\n",
      "W0102 15:49:31.579565 140115304486720 model_builder.py:1112] Building experimental DeepMAC meta-arch. Some features may be omitted.\n",
      "INFO:tensorflow:time(__main__.ModelBuilderTF2Test.test_create_center_net_deepmac): 0.72s\n",
      "I0102 15:49:31.845685 140115304486720 test_util.py:2457] time(__main__.ModelBuilderTF2Test.test_create_center_net_deepmac): 0.72s\n",
      "[       OK ] ModelBuilderTF2Test.test_create_center_net_deepmac\n",
      "[ RUN      ] ModelBuilderTF2Test.test_create_center_net_model0 (customize_head_params=True)\n",
      "INFO:tensorflow:time(__main__.ModelBuilderTF2Test.test_create_center_net_model0 (customize_head_params=True)): 0.75s\n",
      "I0102 15:49:32.597107 140115304486720 test_util.py:2457] time(__main__.ModelBuilderTF2Test.test_create_center_net_model0 (customize_head_params=True)): 0.75s\n",
      "[       OK ] ModelBuilderTF2Test.test_create_center_net_model0 (customize_head_params=True)\n",
      "[ RUN      ] ModelBuilderTF2Test.test_create_center_net_model1 (customize_head_params=False)\n",
      "INFO:tensorflow:time(__main__.ModelBuilderTF2Test.test_create_center_net_model1 (customize_head_params=False)): 0.25s\n",
      "I0102 15:49:32.846969 140115304486720 test_util.py:2457] time(__main__.ModelBuilderTF2Test.test_create_center_net_model1 (customize_head_params=False)): 0.25s\n",
      "[       OK ] ModelBuilderTF2Test.test_create_center_net_model1 (customize_head_params=False)\n",
      "[ RUN      ] ModelBuilderTF2Test.test_create_center_net_model_from_keypoints\n",
      "INFO:tensorflow:time(__main__.ModelBuilderTF2Test.test_create_center_net_model_from_keypoints): 0.23s\n",
      "I0102 15:49:33.072732 140115304486720 test_util.py:2457] time(__main__.ModelBuilderTF2Test.test_create_center_net_model_from_keypoints): 0.23s\n",
      "[       OK ] ModelBuilderTF2Test.test_create_center_net_model_from_keypoints\n",
      "[ RUN      ] ModelBuilderTF2Test.test_create_center_net_model_mobilenet\n",
      "INFO:tensorflow:time(__main__.ModelBuilderTF2Test.test_create_center_net_model_mobilenet): 1.95s\n",
      "I0102 15:49:35.026332 140115304486720 test_util.py:2457] time(__main__.ModelBuilderTF2Test.test_create_center_net_model_mobilenet): 1.95s\n",
      "[       OK ] ModelBuilderTF2Test.test_create_center_net_model_mobilenet\n",
      "[ RUN      ] ModelBuilderTF2Test.test_create_experimental_model\n",
      "INFO:tensorflow:time(__main__.ModelBuilderTF2Test.test_create_experimental_model): 0.0s\n",
      "I0102 15:49:35.030852 140115304486720 test_util.py:2457] time(__main__.ModelBuilderTF2Test.test_create_experimental_model): 0.0s\n",
      "[       OK ] ModelBuilderTF2Test.test_create_experimental_model\n",
      "[ RUN      ] ModelBuilderTF2Test.test_create_faster_rcnn_from_config_with_crop_feature0 (True)\n",
      "INFO:tensorflow:time(__main__.ModelBuilderTF2Test.test_create_faster_rcnn_from_config_with_crop_feature0 (True)): 0.02s\n",
      "I0102 15:49:35.053884 140115304486720 test_util.py:2457] time(__main__.ModelBuilderTF2Test.test_create_faster_rcnn_from_config_with_crop_feature0 (True)): 0.02s\n",
      "[       OK ] ModelBuilderTF2Test.test_create_faster_rcnn_from_config_with_crop_feature0 (True)\n",
      "[ RUN      ] ModelBuilderTF2Test.test_create_faster_rcnn_from_config_with_crop_feature1 (False)\n",
      "INFO:tensorflow:time(__main__.ModelBuilderTF2Test.test_create_faster_rcnn_from_config_with_crop_feature1 (False)): 0.02s\n",
      "I0102 15:49:35.072818 140115304486720 test_util.py:2457] time(__main__.ModelBuilderTF2Test.test_create_faster_rcnn_from_config_with_crop_feature1 (False)): 0.02s\n",
      "[       OK ] ModelBuilderTF2Test.test_create_faster_rcnn_from_config_with_crop_feature1 (False)\n",
      "[ RUN      ] ModelBuilderTF2Test.test_create_faster_rcnn_model_from_config_with_example_miner\n",
      "INFO:tensorflow:time(__main__.ModelBuilderTF2Test.test_create_faster_rcnn_model_from_config_with_example_miner): 0.02s\n",
      "I0102 15:49:35.092520 140115304486720 test_util.py:2457] time(__main__.ModelBuilderTF2Test.test_create_faster_rcnn_model_from_config_with_example_miner): 0.02s\n",
      "[       OK ] ModelBuilderTF2Test.test_create_faster_rcnn_model_from_config_with_example_miner\n",
      "[ RUN      ] ModelBuilderTF2Test.test_create_faster_rcnn_models_from_config_faster_rcnn_with_matmul\n",
      "INFO:tensorflow:time(__main__.ModelBuilderTF2Test.test_create_faster_rcnn_models_from_config_faster_rcnn_with_matmul): 0.25s\n",
      "I0102 15:49:35.347779 140115304486720 test_util.py:2457] time(__main__.ModelBuilderTF2Test.test_create_faster_rcnn_models_from_config_faster_rcnn_with_matmul): 0.25s\n",
      "[       OK ] ModelBuilderTF2Test.test_create_faster_rcnn_models_from_config_faster_rcnn_with_matmul\n",
      "[ RUN      ] ModelBuilderTF2Test.test_create_faster_rcnn_models_from_config_faster_rcnn_without_matmul\n",
      "INFO:tensorflow:time(__main__.ModelBuilderTF2Test.test_create_faster_rcnn_models_from_config_faster_rcnn_without_matmul): 0.11s\n",
      "I0102 15:49:35.455047 140115304486720 test_util.py:2457] time(__main__.ModelBuilderTF2Test.test_create_faster_rcnn_models_from_config_faster_rcnn_without_matmul): 0.11s\n",
      "[       OK ] ModelBuilderTF2Test.test_create_faster_rcnn_models_from_config_faster_rcnn_without_matmul\n",
      "[ RUN      ] ModelBuilderTF2Test.test_create_faster_rcnn_models_from_config_mask_rcnn_with_matmul\n",
      "INFO:tensorflow:time(__main__.ModelBuilderTF2Test.test_create_faster_rcnn_models_from_config_mask_rcnn_with_matmul): 0.1s\n",
      "I0102 15:49:35.554506 140115304486720 test_util.py:2457] time(__main__.ModelBuilderTF2Test.test_create_faster_rcnn_models_from_config_mask_rcnn_with_matmul): 0.1s\n",
      "[       OK ] ModelBuilderTF2Test.test_create_faster_rcnn_models_from_config_mask_rcnn_with_matmul\n",
      "[ RUN      ] ModelBuilderTF2Test.test_create_faster_rcnn_models_from_config_mask_rcnn_without_matmul\n",
      "INFO:tensorflow:time(__main__.ModelBuilderTF2Test.test_create_faster_rcnn_models_from_config_mask_rcnn_without_matmul): 0.1s\n",
      "I0102 15:49:35.651736 140115304486720 test_util.py:2457] time(__main__.ModelBuilderTF2Test.test_create_faster_rcnn_models_from_config_mask_rcnn_without_matmul): 0.1s\n",
      "[       OK ] ModelBuilderTF2Test.test_create_faster_rcnn_models_from_config_mask_rcnn_without_matmul\n",
      "[ RUN      ] ModelBuilderTF2Test.test_create_rfcn_model_from_config\n",
      "INFO:tensorflow:time(__main__.ModelBuilderTF2Test.test_create_rfcn_model_from_config): 0.11s\n",
      "I0102 15:49:35.758955 140115304486720 test_util.py:2457] time(__main__.ModelBuilderTF2Test.test_create_rfcn_model_from_config): 0.11s\n",
      "[       OK ] ModelBuilderTF2Test.test_create_rfcn_model_from_config\n",
      "[ RUN      ] ModelBuilderTF2Test.test_create_ssd_fpn_model_from_config\n"
     ]
    },
    {
     "name": "stdout",
     "output_type": "stream",
     "text": [
      "INFO:tensorflow:time(__main__.ModelBuilderTF2Test.test_create_ssd_fpn_model_from_config): 0.04s\n",
      "I0102 15:49:35.797604 140115304486720 test_util.py:2457] time(__main__.ModelBuilderTF2Test.test_create_ssd_fpn_model_from_config): 0.04s\n",
      "[       OK ] ModelBuilderTF2Test.test_create_ssd_fpn_model_from_config\n",
      "[ RUN      ] ModelBuilderTF2Test.test_create_ssd_models_from_config\n",
      "I0102 15:49:36.032074 140115304486720 ssd_efficientnet_bifpn_feature_extractor.py:150] EfficientDet EfficientNet backbone version: efficientnet-b0\n",
      "I0102 15:49:36.032193 140115304486720 ssd_efficientnet_bifpn_feature_extractor.py:152] EfficientDet BiFPN num filters: 64\n",
      "I0102 15:49:36.032243 140115304486720 ssd_efficientnet_bifpn_feature_extractor.py:153] EfficientDet BiFPN num iterations: 3\n",
      "I0102 15:49:36.035399 140115304486720 efficientnet_model.py:143] round_filter input=32 output=32\n",
      "I0102 15:49:36.062791 140115304486720 efficientnet_model.py:143] round_filter input=32 output=32\n",
      "I0102 15:49:36.062896 140115304486720 efficientnet_model.py:143] round_filter input=16 output=16\n",
      "I0102 15:49:36.145258 140115304486720 efficientnet_model.py:143] round_filter input=16 output=16\n",
      "I0102 15:49:36.145405 140115304486720 efficientnet_model.py:143] round_filter input=24 output=24\n",
      "I0102 15:49:36.351700 140115304486720 efficientnet_model.py:143] round_filter input=24 output=24\n",
      "I0102 15:49:36.351808 140115304486720 efficientnet_model.py:143] round_filter input=40 output=40\n",
      "I0102 15:49:36.534341 140115304486720 efficientnet_model.py:143] round_filter input=40 output=40\n",
      "I0102 15:49:36.534461 140115304486720 efficientnet_model.py:143] round_filter input=80 output=80\n",
      "I0102 15:49:36.827512 140115304486720 efficientnet_model.py:143] round_filter input=80 output=80\n",
      "I0102 15:49:36.827623 140115304486720 efficientnet_model.py:143] round_filter input=112 output=112\n",
      "I0102 15:49:37.116120 140115304486720 efficientnet_model.py:143] round_filter input=112 output=112\n",
      "I0102 15:49:37.116230 140115304486720 efficientnet_model.py:143] round_filter input=192 output=192\n",
      "I0102 15:49:37.497956 140115304486720 efficientnet_model.py:143] round_filter input=192 output=192\n",
      "I0102 15:49:37.498068 140115304486720 efficientnet_model.py:143] round_filter input=320 output=320\n",
      "I0102 15:49:37.591225 140115304486720 efficientnet_model.py:143] round_filter input=1280 output=1280\n",
      "I0102 15:49:37.649423 140115304486720 efficientnet_model.py:453] Building model efficientnet with params ModelConfig(width_coefficient=1.0, depth_coefficient=1.0, resolution=224, dropout_rate=0.2, blocks=(BlockConfig(input_filters=32, output_filters=16, kernel_size=3, num_repeat=1, expand_ratio=1, strides=(1, 1), se_ratio=0.25, id_skip=True, fused_conv=False, conv_type='depthwise'), BlockConfig(input_filters=16, output_filters=24, kernel_size=3, num_repeat=2, expand_ratio=6, strides=(2, 2), se_ratio=0.25, id_skip=True, fused_conv=False, conv_type='depthwise'), BlockConfig(input_filters=24, output_filters=40, kernel_size=5, num_repeat=2, expand_ratio=6, strides=(2, 2), se_ratio=0.25, id_skip=True, fused_conv=False, conv_type='depthwise'), BlockConfig(input_filters=40, output_filters=80, kernel_size=3, num_repeat=3, expand_ratio=6, strides=(2, 2), se_ratio=0.25, id_skip=True, fused_conv=False, conv_type='depthwise'), BlockConfig(input_filters=80, output_filters=112, kernel_size=5, num_repeat=3, expand_ratio=6, strides=(1, 1), se_ratio=0.25, id_skip=True, fused_conv=False, conv_type='depthwise'), BlockConfig(input_filters=112, output_filters=192, kernel_size=5, num_repeat=4, expand_ratio=6, strides=(2, 2), se_ratio=0.25, id_skip=True, fused_conv=False, conv_type='depthwise'), BlockConfig(input_filters=192, output_filters=320, kernel_size=3, num_repeat=1, expand_ratio=6, strides=(1, 1), se_ratio=0.25, id_skip=True, fused_conv=False, conv_type='depthwise')), stem_base_filters=32, top_base_filters=1280, activation='simple_swish', batch_norm='default', bn_momentum=0.99, bn_epsilon=0.001, weight_decay=5e-06, drop_connect_rate=0.2, depth_divisor=8, min_depth=None, use_se=True, input_channels=3, num_classes=1000, model_name='efficientnet', rescale_input=False, data_format='channels_last', dtype='float32')\n",
      "I0102 15:49:37.690996 140115304486720 ssd_efficientnet_bifpn_feature_extractor.py:150] EfficientDet EfficientNet backbone version: efficientnet-b1\n",
      "I0102 15:49:37.691114 140115304486720 ssd_efficientnet_bifpn_feature_extractor.py:152] EfficientDet BiFPN num filters: 88\n",
      "I0102 15:49:37.691179 140115304486720 ssd_efficientnet_bifpn_feature_extractor.py:153] EfficientDet BiFPN num iterations: 4\n",
      "I0102 15:49:37.692726 140115304486720 efficientnet_model.py:143] round_filter input=32 output=32\n",
      "I0102 15:49:37.712186 140115304486720 efficientnet_model.py:143] round_filter input=32 output=32\n",
      "I0102 15:49:37.712319 140115304486720 efficientnet_model.py:143] round_filter input=16 output=16\n",
      "I0102 15:49:37.850777 140115304486720 efficientnet_model.py:143] round_filter input=16 output=16\n",
      "I0102 15:49:37.850883 140115304486720 efficientnet_model.py:143] round_filter input=24 output=24\n",
      "I0102 15:49:38.088731 140115304486720 efficientnet_model.py:143] round_filter input=24 output=24\n",
      "I0102 15:49:38.088841 140115304486720 efficientnet_model.py:143] round_filter input=40 output=40\n",
      "I0102 15:49:38.350251 140115304486720 efficientnet_model.py:143] round_filter input=40 output=40\n",
      "I0102 15:49:38.350371 140115304486720 efficientnet_model.py:143] round_filter input=80 output=80\n",
      "I0102 15:49:38.821152 140115304486720 efficientnet_model.py:143] round_filter input=80 output=80\n",
      "I0102 15:49:38.821275 140115304486720 efficientnet_model.py:143] round_filter input=112 output=112\n",
      "I0102 15:49:39.156568 140115304486720 efficientnet_model.py:143] round_filter input=112 output=112\n",
      "I0102 15:49:39.156686 140115304486720 efficientnet_model.py:143] round_filter input=192 output=192\n",
      "I0102 15:49:39.606602 140115304486720 efficientnet_model.py:143] round_filter input=192 output=192\n",
      "I0102 15:49:39.606740 140115304486720 efficientnet_model.py:143] round_filter input=320 output=320\n",
      "I0102 15:49:39.844282 140115304486720 efficientnet_model.py:143] round_filter input=1280 output=1280\n",
      "I0102 15:49:39.900684 140115304486720 efficientnet_model.py:453] Building model efficientnet with params ModelConfig(width_coefficient=1.0, depth_coefficient=1.1, resolution=240, dropout_rate=0.2, blocks=(BlockConfig(input_filters=32, output_filters=16, kernel_size=3, num_repeat=1, expand_ratio=1, strides=(1, 1), se_ratio=0.25, id_skip=True, fused_conv=False, conv_type='depthwise'), BlockConfig(input_filters=16, output_filters=24, kernel_size=3, num_repeat=2, expand_ratio=6, strides=(2, 2), se_ratio=0.25, id_skip=True, fused_conv=False, conv_type='depthwise'), BlockConfig(input_filters=24, output_filters=40, kernel_size=5, num_repeat=2, expand_ratio=6, strides=(2, 2), se_ratio=0.25, id_skip=True, fused_conv=False, conv_type='depthwise'), BlockConfig(input_filters=40, output_filters=80, kernel_size=3, num_repeat=3, expand_ratio=6, strides=(2, 2), se_ratio=0.25, id_skip=True, fused_conv=False, conv_type='depthwise'), BlockConfig(input_filters=80, output_filters=112, kernel_size=5, num_repeat=3, expand_ratio=6, strides=(1, 1), se_ratio=0.25, id_skip=True, fused_conv=False, conv_type='depthwise'), BlockConfig(input_filters=112, output_filters=192, kernel_size=5, num_repeat=4, expand_ratio=6, strides=(2, 2), se_ratio=0.25, id_skip=True, fused_conv=False, conv_type='depthwise'), BlockConfig(input_filters=192, output_filters=320, kernel_size=3, num_repeat=1, expand_ratio=6, strides=(1, 1), se_ratio=0.25, id_skip=True, fused_conv=False, conv_type='depthwise')), stem_base_filters=32, top_base_filters=1280, activation='simple_swish', batch_norm='default', bn_momentum=0.99, bn_epsilon=0.001, weight_decay=5e-06, drop_connect_rate=0.2, depth_divisor=8, min_depth=None, use_se=True, input_channels=3, num_classes=1000, model_name='efficientnet', rescale_input=False, data_format='channels_last', dtype='float32')\n",
      "I0102 15:49:40.064637 140115304486720 ssd_efficientnet_bifpn_feature_extractor.py:150] EfficientDet EfficientNet backbone version: efficientnet-b2\n",
      "I0102 15:49:40.064747 140115304486720 ssd_efficientnet_bifpn_feature_extractor.py:152] EfficientDet BiFPN num filters: 112\n",
      "I0102 15:49:40.064820 140115304486720 ssd_efficientnet_bifpn_feature_extractor.py:153] EfficientDet BiFPN num iterations: 5\n",
      "I0102 15:49:40.066386 140115304486720 efficientnet_model.py:143] round_filter input=32 output=32\n"
     ]
    },
    {
     "name": "stdout",
     "output_type": "stream",
     "text": [
      "I0102 15:49:40.083697 140115304486720 efficientnet_model.py:143] round_filter input=32 output=32\n",
      "I0102 15:49:40.083816 140115304486720 efficientnet_model.py:143] round_filter input=16 output=16\n",
      "I0102 15:49:40.228729 140115304486720 efficientnet_model.py:143] round_filter input=16 output=16\n",
      "I0102 15:49:40.228873 140115304486720 efficientnet_model.py:143] round_filter input=24 output=24\n",
      "I0102 15:49:40.472389 140115304486720 efficientnet_model.py:143] round_filter input=24 output=24\n",
      "I0102 15:49:40.472499 140115304486720 efficientnet_model.py:143] round_filter input=40 output=48\n",
      "I0102 15:49:40.729732 140115304486720 efficientnet_model.py:143] round_filter input=40 output=48\n",
      "I0102 15:49:40.729839 140115304486720 efficientnet_model.py:143] round_filter input=80 output=88\n",
      "I0102 15:49:41.075174 140115304486720 efficientnet_model.py:143] round_filter input=80 output=88\n",
      "I0102 15:49:41.075284 140115304486720 efficientnet_model.py:143] round_filter input=112 output=120\n",
      "I0102 15:49:41.425330 140115304486720 efficientnet_model.py:143] round_filter input=112 output=120\n",
      "I0102 15:49:41.425439 140115304486720 efficientnet_model.py:143] round_filter input=192 output=208\n",
      "I0102 15:49:41.867589 140115304486720 efficientnet_model.py:143] round_filter input=192 output=208\n",
      "I0102 15:49:41.867699 140115304486720 efficientnet_model.py:143] round_filter input=320 output=352\n",
      "I0102 15:49:42.070745 140115304486720 efficientnet_model.py:143] round_filter input=1280 output=1408\n",
      "I0102 15:49:42.124317 140115304486720 efficientnet_model.py:453] Building model efficientnet with params ModelConfig(width_coefficient=1.1, depth_coefficient=1.2, resolution=260, dropout_rate=0.3, blocks=(BlockConfig(input_filters=32, output_filters=16, kernel_size=3, num_repeat=1, expand_ratio=1, strides=(1, 1), se_ratio=0.25, id_skip=True, fused_conv=False, conv_type='depthwise'), BlockConfig(input_filters=16, output_filters=24, kernel_size=3, num_repeat=2, expand_ratio=6, strides=(2, 2), se_ratio=0.25, id_skip=True, fused_conv=False, conv_type='depthwise'), BlockConfig(input_filters=24, output_filters=40, kernel_size=5, num_repeat=2, expand_ratio=6, strides=(2, 2), se_ratio=0.25, id_skip=True, fused_conv=False, conv_type='depthwise'), BlockConfig(input_filters=40, output_filters=80, kernel_size=3, num_repeat=3, expand_ratio=6, strides=(2, 2), se_ratio=0.25, id_skip=True, fused_conv=False, conv_type='depthwise'), BlockConfig(input_filters=80, output_filters=112, kernel_size=5, num_repeat=3, expand_ratio=6, strides=(1, 1), se_ratio=0.25, id_skip=True, fused_conv=False, conv_type='depthwise'), BlockConfig(input_filters=112, output_filters=192, kernel_size=5, num_repeat=4, expand_ratio=6, strides=(2, 2), se_ratio=0.25, id_skip=True, fused_conv=False, conv_type='depthwise'), BlockConfig(input_filters=192, output_filters=320, kernel_size=3, num_repeat=1, expand_ratio=6, strides=(1, 1), se_ratio=0.25, id_skip=True, fused_conv=False, conv_type='depthwise')), stem_base_filters=32, top_base_filters=1280, activation='simple_swish', batch_norm='default', bn_momentum=0.99, bn_epsilon=0.001, weight_decay=5e-06, drop_connect_rate=0.2, depth_divisor=8, min_depth=None, use_se=True, input_channels=3, num_classes=1000, model_name='efficientnet', rescale_input=False, data_format='channels_last', dtype='float32')\n",
      "I0102 15:49:42.189170 140115304486720 ssd_efficientnet_bifpn_feature_extractor.py:150] EfficientDet EfficientNet backbone version: efficientnet-b3\n",
      "I0102 15:49:42.189305 140115304486720 ssd_efficientnet_bifpn_feature_extractor.py:152] EfficientDet BiFPN num filters: 160\n",
      "I0102 15:49:42.189371 140115304486720 ssd_efficientnet_bifpn_feature_extractor.py:153] EfficientDet BiFPN num iterations: 6\n",
      "I0102 15:49:42.191416 140115304486720 efficientnet_model.py:143] round_filter input=32 output=40\n",
      "I0102 15:49:42.216049 140115304486720 efficientnet_model.py:143] round_filter input=32 output=40\n",
      "I0102 15:49:42.216188 140115304486720 efficientnet_model.py:143] round_filter input=16 output=24\n",
      "I0102 15:49:42.358907 140115304486720 efficientnet_model.py:143] round_filter input=16 output=24\n",
      "I0102 15:49:42.359045 140115304486720 efficientnet_model.py:143] round_filter input=24 output=32\n",
      "I0102 15:49:42.609924 140115304486720 efficientnet_model.py:143] round_filter input=24 output=32\n",
      "I0102 15:49:42.610042 140115304486720 efficientnet_model.py:143] round_filter input=40 output=48\n",
      "I0102 15:49:42.854692 140115304486720 efficientnet_model.py:143] round_filter input=40 output=48\n",
      "I0102 15:49:42.854802 140115304486720 efficientnet_model.py:143] round_filter input=80 output=96\n",
      "I0102 15:49:43.276399 140115304486720 efficientnet_model.py:143] round_filter input=80 output=96\n",
      "I0102 15:49:43.276522 140115304486720 efficientnet_model.py:143] round_filter input=112 output=136\n",
      "I0102 15:49:43.702548 140115304486720 efficientnet_model.py:143] round_filter input=112 output=136\n",
      "I0102 15:49:43.702656 140115304486720 efficientnet_model.py:143] round_filter input=192 output=232\n",
      "I0102 15:49:44.248261 140115304486720 efficientnet_model.py:143] round_filter input=192 output=232\n",
      "I0102 15:49:44.248371 140115304486720 efficientnet_model.py:143] round_filter input=320 output=384\n",
      "I0102 15:49:44.458711 140115304486720 efficientnet_model.py:143] round_filter input=1280 output=1536\n",
      "I0102 15:49:44.512461 140115304486720 efficientnet_model.py:453] Building model efficientnet with params ModelConfig(width_coefficient=1.2, depth_coefficient=1.4, resolution=300, dropout_rate=0.3, blocks=(BlockConfig(input_filters=32, output_filters=16, kernel_size=3, num_repeat=1, expand_ratio=1, strides=(1, 1), se_ratio=0.25, id_skip=True, fused_conv=False, conv_type='depthwise'), BlockConfig(input_filters=16, output_filters=24, kernel_size=3, num_repeat=2, expand_ratio=6, strides=(2, 2), se_ratio=0.25, id_skip=True, fused_conv=False, conv_type='depthwise'), BlockConfig(input_filters=24, output_filters=40, kernel_size=5, num_repeat=2, expand_ratio=6, strides=(2, 2), se_ratio=0.25, id_skip=True, fused_conv=False, conv_type='depthwise'), BlockConfig(input_filters=40, output_filters=80, kernel_size=3, num_repeat=3, expand_ratio=6, strides=(2, 2), se_ratio=0.25, id_skip=True, fused_conv=False, conv_type='depthwise'), BlockConfig(input_filters=80, output_filters=112, kernel_size=5, num_repeat=3, expand_ratio=6, strides=(1, 1), se_ratio=0.25, id_skip=True, fused_conv=False, conv_type='depthwise'), BlockConfig(input_filters=112, output_filters=192, kernel_size=5, num_repeat=4, expand_ratio=6, strides=(2, 2), se_ratio=0.25, id_skip=True, fused_conv=False, conv_type='depthwise'), BlockConfig(input_filters=192, output_filters=320, kernel_size=3, num_repeat=1, expand_ratio=6, strides=(1, 1), se_ratio=0.25, id_skip=True, fused_conv=False, conv_type='depthwise')), stem_base_filters=32, top_base_filters=1280, activation='simple_swish', batch_norm='default', bn_momentum=0.99, bn_epsilon=0.001, weight_decay=5e-06, drop_connect_rate=0.2, depth_divisor=8, min_depth=None, use_se=True, input_channels=3, num_classes=1000, model_name='efficientnet', rescale_input=False, data_format='channels_last', dtype='float32')\n",
      "I0102 15:49:44.572577 140115304486720 ssd_efficientnet_bifpn_feature_extractor.py:150] EfficientDet EfficientNet backbone version: efficientnet-b4\n",
      "I0102 15:49:44.572694 140115304486720 ssd_efficientnet_bifpn_feature_extractor.py:152] EfficientDet BiFPN num filters: 224\n",
      "I0102 15:49:44.572747 140115304486720 ssd_efficientnet_bifpn_feature_extractor.py:153] EfficientDet BiFPN num iterations: 7\n",
      "I0102 15:49:44.574197 140115304486720 efficientnet_model.py:143] round_filter input=32 output=48\n",
      "I0102 15:49:44.595326 140115304486720 efficientnet_model.py:143] round_filter input=32 output=48\n",
      "I0102 15:49:44.595474 140115304486720 efficientnet_model.py:143] round_filter input=16 output=24\n",
      "I0102 15:49:44.731972 140115304486720 efficientnet_model.py:143] round_filter input=16 output=24\n",
      "I0102 15:49:44.732087 140115304486720 efficientnet_model.py:143] round_filter input=24 output=32\n",
      "I0102 15:49:45.049903 140115304486720 efficientnet_model.py:143] round_filter input=24 output=32\n",
      "I0102 15:49:45.050014 140115304486720 efficientnet_model.py:143] round_filter input=40 output=56\n",
      "I0102 15:49:45.396315 140115304486720 efficientnet_model.py:143] round_filter input=40 output=56\n",
      "I0102 15:49:45.396426 140115304486720 efficientnet_model.py:143] round_filter input=80 output=112\n"
     ]
    },
    {
     "name": "stdout",
     "output_type": "stream",
     "text": [
      "I0102 15:49:45.887060 140115304486720 efficientnet_model.py:143] round_filter input=80 output=112\n",
      "I0102 15:49:45.887173 140115304486720 efficientnet_model.py:143] round_filter input=112 output=160\n",
      "I0102 15:49:46.643623 140115304486720 efficientnet_model.py:143] round_filter input=112 output=160\n",
      "I0102 15:49:46.643802 140115304486720 efficientnet_model.py:143] round_filter input=192 output=272\n",
      "I0102 15:49:47.499400 140115304486720 efficientnet_model.py:143] round_filter input=192 output=272\n",
      "I0102 15:49:47.499510 140115304486720 efficientnet_model.py:143] round_filter input=320 output=448\n",
      "I0102 15:49:47.757502 140115304486720 efficientnet_model.py:143] round_filter input=1280 output=1792\n",
      "I0102 15:49:47.832364 140115304486720 efficientnet_model.py:453] Building model efficientnet with params ModelConfig(width_coefficient=1.4, depth_coefficient=1.8, resolution=380, dropout_rate=0.4, blocks=(BlockConfig(input_filters=32, output_filters=16, kernel_size=3, num_repeat=1, expand_ratio=1, strides=(1, 1), se_ratio=0.25, id_skip=True, fused_conv=False, conv_type='depthwise'), BlockConfig(input_filters=16, output_filters=24, kernel_size=3, num_repeat=2, expand_ratio=6, strides=(2, 2), se_ratio=0.25, id_skip=True, fused_conv=False, conv_type='depthwise'), BlockConfig(input_filters=24, output_filters=40, kernel_size=5, num_repeat=2, expand_ratio=6, strides=(2, 2), se_ratio=0.25, id_skip=True, fused_conv=False, conv_type='depthwise'), BlockConfig(input_filters=40, output_filters=80, kernel_size=3, num_repeat=3, expand_ratio=6, strides=(2, 2), se_ratio=0.25, id_skip=True, fused_conv=False, conv_type='depthwise'), BlockConfig(input_filters=80, output_filters=112, kernel_size=5, num_repeat=3, expand_ratio=6, strides=(1, 1), se_ratio=0.25, id_skip=True, fused_conv=False, conv_type='depthwise'), BlockConfig(input_filters=112, output_filters=192, kernel_size=5, num_repeat=4, expand_ratio=6, strides=(2, 2), se_ratio=0.25, id_skip=True, fused_conv=False, conv_type='depthwise'), BlockConfig(input_filters=192, output_filters=320, kernel_size=3, num_repeat=1, expand_ratio=6, strides=(1, 1), se_ratio=0.25, id_skip=True, fused_conv=False, conv_type='depthwise')), stem_base_filters=32, top_base_filters=1280, activation='simple_swish', batch_norm='default', bn_momentum=0.99, bn_epsilon=0.001, weight_decay=5e-06, drop_connect_rate=0.2, depth_divisor=8, min_depth=None, use_se=True, input_channels=3, num_classes=1000, model_name='efficientnet', rescale_input=False, data_format='channels_last', dtype='float32')\n",
      "I0102 15:49:47.907710 140115304486720 ssd_efficientnet_bifpn_feature_extractor.py:150] EfficientDet EfficientNet backbone version: efficientnet-b5\n",
      "I0102 15:49:47.907829 140115304486720 ssd_efficientnet_bifpn_feature_extractor.py:152] EfficientDet BiFPN num filters: 288\n",
      "I0102 15:49:47.907883 140115304486720 ssd_efficientnet_bifpn_feature_extractor.py:153] EfficientDet BiFPN num iterations: 7\n",
      "I0102 15:49:47.910073 140115304486720 efficientnet_model.py:143] round_filter input=32 output=48\n",
      "I0102 15:49:47.933357 140115304486720 efficientnet_model.py:143] round_filter input=32 output=48\n",
      "I0102 15:49:47.933524 140115304486720 efficientnet_model.py:143] round_filter input=16 output=24\n",
      "I0102 15:49:48.160854 140115304486720 efficientnet_model.py:143] round_filter input=16 output=24\n",
      "I0102 15:49:48.160988 140115304486720 efficientnet_model.py:143] round_filter input=24 output=40\n",
      "I0102 15:49:48.586059 140115304486720 efficientnet_model.py:143] round_filter input=24 output=40\n",
      "I0102 15:49:48.586168 140115304486720 efficientnet_model.py:143] round_filter input=40 output=64\n",
      "I0102 15:49:48.996562 140115304486720 efficientnet_model.py:143] round_filter input=40 output=64\n",
      "I0102 15:49:48.996701 140115304486720 efficientnet_model.py:143] round_filter input=80 output=128\n",
      "I0102 15:49:49.623691 140115304486720 efficientnet_model.py:143] round_filter input=80 output=128\n",
      "I0102 15:49:49.623800 140115304486720 efficientnet_model.py:143] round_filter input=112 output=176\n",
      "I0102 15:49:50.236616 140115304486720 efficientnet_model.py:143] round_filter input=112 output=176\n",
      "I0102 15:49:50.236728 140115304486720 efficientnet_model.py:143] round_filter input=192 output=304\n",
      "I0102 15:49:51.103921 140115304486720 efficientnet_model.py:143] round_filter input=192 output=304\n",
      "I0102 15:49:51.104031 140115304486720 efficientnet_model.py:143] round_filter input=320 output=512\n",
      "I0102 15:49:51.462148 140115304486720 efficientnet_model.py:143] round_filter input=1280 output=2048\n",
      "I0102 15:49:51.523459 140115304486720 efficientnet_model.py:453] Building model efficientnet with params ModelConfig(width_coefficient=1.6, depth_coefficient=2.2, resolution=456, dropout_rate=0.4, blocks=(BlockConfig(input_filters=32, output_filters=16, kernel_size=3, num_repeat=1, expand_ratio=1, strides=(1, 1), se_ratio=0.25, id_skip=True, fused_conv=False, conv_type='depthwise'), BlockConfig(input_filters=16, output_filters=24, kernel_size=3, num_repeat=2, expand_ratio=6, strides=(2, 2), se_ratio=0.25, id_skip=True, fused_conv=False, conv_type='depthwise'), BlockConfig(input_filters=24, output_filters=40, kernel_size=5, num_repeat=2, expand_ratio=6, strides=(2, 2), se_ratio=0.25, id_skip=True, fused_conv=False, conv_type='depthwise'), BlockConfig(input_filters=40, output_filters=80, kernel_size=3, num_repeat=3, expand_ratio=6, strides=(2, 2), se_ratio=0.25, id_skip=True, fused_conv=False, conv_type='depthwise'), BlockConfig(input_filters=80, output_filters=112, kernel_size=5, num_repeat=3, expand_ratio=6, strides=(1, 1), se_ratio=0.25, id_skip=True, fused_conv=False, conv_type='depthwise'), BlockConfig(input_filters=112, output_filters=192, kernel_size=5, num_repeat=4, expand_ratio=6, strides=(2, 2), se_ratio=0.25, id_skip=True, fused_conv=False, conv_type='depthwise'), BlockConfig(input_filters=192, output_filters=320, kernel_size=3, num_repeat=1, expand_ratio=6, strides=(1, 1), se_ratio=0.25, id_skip=True, fused_conv=False, conv_type='depthwise')), stem_base_filters=32, top_base_filters=1280, activation='simple_swish', batch_norm='default', bn_momentum=0.99, bn_epsilon=0.001, weight_decay=5e-06, drop_connect_rate=0.2, depth_divisor=8, min_depth=None, use_se=True, input_channels=3, num_classes=1000, model_name='efficientnet', rescale_input=False, data_format='channels_last', dtype='float32')\n",
      "I0102 15:49:51.602084 140115304486720 ssd_efficientnet_bifpn_feature_extractor.py:150] EfficientDet EfficientNet backbone version: efficientnet-b6\n",
      "I0102 15:49:51.602209 140115304486720 ssd_efficientnet_bifpn_feature_extractor.py:152] EfficientDet BiFPN num filters: 384\n",
      "I0102 15:49:51.602275 140115304486720 ssd_efficientnet_bifpn_feature_extractor.py:153] EfficientDet BiFPN num iterations: 8\n",
      "I0102 15:49:51.603847 140115304486720 efficientnet_model.py:143] round_filter input=32 output=56\n",
      "I0102 15:49:51.620841 140115304486720 efficientnet_model.py:143] round_filter input=32 output=56\n",
      "I0102 15:49:51.620945 140115304486720 efficientnet_model.py:143] round_filter input=16 output=32\n",
      "I0102 15:49:51.832448 140115304486720 efficientnet_model.py:143] round_filter input=16 output=32\n",
      "I0102 15:49:51.832557 140115304486720 efficientnet_model.py:143] round_filter input=24 output=40\n",
      "I0102 15:49:52.325174 140115304486720 efficientnet_model.py:143] round_filter input=24 output=40\n",
      "I0102 15:49:52.325306 140115304486720 efficientnet_model.py:143] round_filter input=40 output=72\n",
      "I0102 15:49:52.984160 140115304486720 efficientnet_model.py:143] round_filter input=40 output=72\n",
      "I0102 15:49:52.984268 140115304486720 efficientnet_model.py:143] round_filter input=80 output=144\n",
      "I0102 15:49:53.687017 140115304486720 efficientnet_model.py:143] round_filter input=80 output=144\n",
      "I0102 15:49:53.687133 140115304486720 efficientnet_model.py:143] round_filter input=112 output=200\n",
      "I0102 15:49:54.404366 140115304486720 efficientnet_model.py:143] round_filter input=112 output=200\n",
      "I0102 15:49:54.404513 140115304486720 efficientnet_model.py:143] round_filter input=192 output=344\n",
      "I0102 15:49:55.490786 140115304486720 efficientnet_model.py:143] round_filter input=192 output=344\n",
      "I0102 15:49:55.490917 140115304486720 efficientnet_model.py:143] round_filter input=320 output=576\n",
      "I0102 15:49:55.859799 140115304486720 efficientnet_model.py:143] round_filter input=1280 output=2304\n"
     ]
    },
    {
     "name": "stdout",
     "output_type": "stream",
     "text": [
      "I0102 15:49:55.923547 140115304486720 efficientnet_model.py:453] Building model efficientnet with params ModelConfig(width_coefficient=1.8, depth_coefficient=2.6, resolution=528, dropout_rate=0.5, blocks=(BlockConfig(input_filters=32, output_filters=16, kernel_size=3, num_repeat=1, expand_ratio=1, strides=(1, 1), se_ratio=0.25, id_skip=True, fused_conv=False, conv_type='depthwise'), BlockConfig(input_filters=16, output_filters=24, kernel_size=3, num_repeat=2, expand_ratio=6, strides=(2, 2), se_ratio=0.25, id_skip=True, fused_conv=False, conv_type='depthwise'), BlockConfig(input_filters=24, output_filters=40, kernel_size=5, num_repeat=2, expand_ratio=6, strides=(2, 2), se_ratio=0.25, id_skip=True, fused_conv=False, conv_type='depthwise'), BlockConfig(input_filters=40, output_filters=80, kernel_size=3, num_repeat=3, expand_ratio=6, strides=(2, 2), se_ratio=0.25, id_skip=True, fused_conv=False, conv_type='depthwise'), BlockConfig(input_filters=80, output_filters=112, kernel_size=5, num_repeat=3, expand_ratio=6, strides=(1, 1), se_ratio=0.25, id_skip=True, fused_conv=False, conv_type='depthwise'), BlockConfig(input_filters=112, output_filters=192, kernel_size=5, num_repeat=4, expand_ratio=6, strides=(2, 2), se_ratio=0.25, id_skip=True, fused_conv=False, conv_type='depthwise'), BlockConfig(input_filters=192, output_filters=320, kernel_size=3, num_repeat=1, expand_ratio=6, strides=(1, 1), se_ratio=0.25, id_skip=True, fused_conv=False, conv_type='depthwise')), stem_base_filters=32, top_base_filters=1280, activation='simple_swish', batch_norm='default', bn_momentum=0.99, bn_epsilon=0.001, weight_decay=5e-06, drop_connect_rate=0.2, depth_divisor=8, min_depth=None, use_se=True, input_channels=3, num_classes=1000, model_name='efficientnet', rescale_input=False, data_format='channels_last', dtype='float32')\n",
      "I0102 15:49:56.013659 140115304486720 ssd_efficientnet_bifpn_feature_extractor.py:150] EfficientDet EfficientNet backbone version: efficientnet-b7\n",
      "I0102 15:49:56.013771 140115304486720 ssd_efficientnet_bifpn_feature_extractor.py:152] EfficientDet BiFPN num filters: 384\n",
      "I0102 15:49:56.013818 140115304486720 ssd_efficientnet_bifpn_feature_extractor.py:153] EfficientDet BiFPN num iterations: 8\n",
      "I0102 15:49:56.015258 140115304486720 efficientnet_model.py:143] round_filter input=32 output=64\n",
      "I0102 15:49:56.032371 140115304486720 efficientnet_model.py:143] round_filter input=32 output=64\n",
      "I0102 15:49:56.032477 140115304486720 efficientnet_model.py:143] round_filter input=16 output=32\n",
      "I0102 15:49:56.315064 140115304486720 efficientnet_model.py:143] round_filter input=16 output=32\n",
      "I0102 15:49:56.315187 140115304486720 efficientnet_model.py:143] round_filter input=24 output=48\n",
      "I0102 15:49:56.896081 140115304486720 efficientnet_model.py:143] round_filter input=24 output=48\n",
      "I0102 15:49:56.896192 140115304486720 efficientnet_model.py:143] round_filter input=40 output=80\n",
      "I0102 15:49:57.493427 140115304486720 efficientnet_model.py:143] round_filter input=40 output=80\n",
      "I0102 15:49:57.493548 140115304486720 efficientnet_model.py:143] round_filter input=80 output=160\n",
      "I0102 15:49:58.477422 140115304486720 efficientnet_model.py:143] round_filter input=80 output=160\n",
      "I0102 15:49:58.477548 140115304486720 efficientnet_model.py:143] round_filter input=112 output=224\n",
      "I0102 15:49:59.570053 140115304486720 efficientnet_model.py:143] round_filter input=112 output=224\n",
      "I0102 15:49:59.570174 140115304486720 efficientnet_model.py:143] round_filter input=192 output=384\n",
      "I0102 15:50:01.039617 140115304486720 efficientnet_model.py:143] round_filter input=192 output=384\n",
      "I0102 15:50:01.039726 140115304486720 efficientnet_model.py:143] round_filter input=320 output=640\n",
      "I0102 15:50:01.591706 140115304486720 efficientnet_model.py:143] round_filter input=1280 output=2560\n",
      "I0102 15:50:01.659938 140115304486720 efficientnet_model.py:453] Building model efficientnet with params ModelConfig(width_coefficient=2.0, depth_coefficient=3.1, resolution=600, dropout_rate=0.5, blocks=(BlockConfig(input_filters=32, output_filters=16, kernel_size=3, num_repeat=1, expand_ratio=1, strides=(1, 1), se_ratio=0.25, id_skip=True, fused_conv=False, conv_type='depthwise'), BlockConfig(input_filters=16, output_filters=24, kernel_size=3, num_repeat=2, expand_ratio=6, strides=(2, 2), se_ratio=0.25, id_skip=True, fused_conv=False, conv_type='depthwise'), BlockConfig(input_filters=24, output_filters=40, kernel_size=5, num_repeat=2, expand_ratio=6, strides=(2, 2), se_ratio=0.25, id_skip=True, fused_conv=False, conv_type='depthwise'), BlockConfig(input_filters=40, output_filters=80, kernel_size=3, num_repeat=3, expand_ratio=6, strides=(2, 2), se_ratio=0.25, id_skip=True, fused_conv=False, conv_type='depthwise'), BlockConfig(input_filters=80, output_filters=112, kernel_size=5, num_repeat=3, expand_ratio=6, strides=(1, 1), se_ratio=0.25, id_skip=True, fused_conv=False, conv_type='depthwise'), BlockConfig(input_filters=112, output_filters=192, kernel_size=5, num_repeat=4, expand_ratio=6, strides=(2, 2), se_ratio=0.25, id_skip=True, fused_conv=False, conv_type='depthwise'), BlockConfig(input_filters=192, output_filters=320, kernel_size=3, num_repeat=1, expand_ratio=6, strides=(1, 1), se_ratio=0.25, id_skip=True, fused_conv=False, conv_type='depthwise')), stem_base_filters=32, top_base_filters=1280, activation='simple_swish', batch_norm='default', bn_momentum=0.99, bn_epsilon=0.001, weight_decay=5e-06, drop_connect_rate=0.2, depth_divisor=8, min_depth=None, use_se=True, input_channels=3, num_classes=1000, model_name='efficientnet', rescale_input=False, data_format='channels_last', dtype='float32')\n",
      "INFO:tensorflow:time(__main__.ModelBuilderTF2Test.test_create_ssd_models_from_config): 25.97s\n",
      "I0102 15:50:01.763919 140115304486720 test_util.py:2457] time(__main__.ModelBuilderTF2Test.test_create_ssd_models_from_config): 25.97s\n",
      "[       OK ] ModelBuilderTF2Test.test_create_ssd_models_from_config\n",
      "[ RUN      ] ModelBuilderTF2Test.test_invalid_faster_rcnn_batchnorm_update\n",
      "INFO:tensorflow:time(__main__.ModelBuilderTF2Test.test_invalid_faster_rcnn_batchnorm_update): 0.0s\n",
      "I0102 15:50:01.791003 140115304486720 test_util.py:2457] time(__main__.ModelBuilderTF2Test.test_invalid_faster_rcnn_batchnorm_update): 0.0s\n",
      "[       OK ] ModelBuilderTF2Test.test_invalid_faster_rcnn_batchnorm_update\n",
      "[ RUN      ] ModelBuilderTF2Test.test_invalid_first_stage_nms_iou_threshold\n",
      "INFO:tensorflow:time(__main__.ModelBuilderTF2Test.test_invalid_first_stage_nms_iou_threshold): 0.0s\n",
      "I0102 15:50:01.792417 140115304486720 test_util.py:2457] time(__main__.ModelBuilderTF2Test.test_invalid_first_stage_nms_iou_threshold): 0.0s\n",
      "[       OK ] ModelBuilderTF2Test.test_invalid_first_stage_nms_iou_threshold\n",
      "[ RUN      ] ModelBuilderTF2Test.test_invalid_model_config_proto\n",
      "INFO:tensorflow:time(__main__.ModelBuilderTF2Test.test_invalid_model_config_proto): 0.0s\n",
      "I0102 15:50:01.792937 140115304486720 test_util.py:2457] time(__main__.ModelBuilderTF2Test.test_invalid_model_config_proto): 0.0s\n",
      "[       OK ] ModelBuilderTF2Test.test_invalid_model_config_proto\n",
      "[ RUN      ] ModelBuilderTF2Test.test_invalid_second_stage_batch_size\n",
      "INFO:tensorflow:time(__main__.ModelBuilderTF2Test.test_invalid_second_stage_batch_size): 0.0s\n",
      "I0102 15:50:01.795107 140115304486720 test_util.py:2457] time(__main__.ModelBuilderTF2Test.test_invalid_second_stage_batch_size): 0.0s\n",
      "[       OK ] ModelBuilderTF2Test.test_invalid_second_stage_batch_size\n",
      "[ RUN      ] ModelBuilderTF2Test.test_session\n",
      "[  SKIPPED ] ModelBuilderTF2Test.test_session\n",
      "[ RUN      ] ModelBuilderTF2Test.test_unknown_faster_rcnn_feature_extractor\n",
      "INFO:tensorflow:time(__main__.ModelBuilderTF2Test.test_unknown_faster_rcnn_feature_extractor): 0.0s\n",
      "I0102 15:50:01.796242 140115304486720 test_util.py:2457] time(__main__.ModelBuilderTF2Test.test_unknown_faster_rcnn_feature_extractor): 0.0s\n",
      "[       OK ] ModelBuilderTF2Test.test_unknown_faster_rcnn_feature_extractor\n",
      "[ RUN      ] ModelBuilderTF2Test.test_unknown_meta_architecture\n",
      "INFO:tensorflow:time(__main__.ModelBuilderTF2Test.test_unknown_meta_architecture): 0.0s\n",
      "I0102 15:50:01.796557 140115304486720 test_util.py:2457] time(__main__.ModelBuilderTF2Test.test_unknown_meta_architecture): 0.0s\n",
      "[       OK ] ModelBuilderTF2Test.test_unknown_meta_architecture\n",
      "[ RUN      ] ModelBuilderTF2Test.test_unknown_ssd_feature_extractor\n",
      "INFO:tensorflow:time(__main__.ModelBuilderTF2Test.test_unknown_ssd_feature_extractor): 0.0s\n",
      "I0102 15:50:01.797276 140115304486720 test_util.py:2457] time(__main__.ModelBuilderTF2Test.test_unknown_ssd_feature_extractor): 0.0s\n",
      "[       OK ] ModelBuilderTF2Test.test_unknown_ssd_feature_extractor\n",
      "----------------------------------------------------------------------\n",
      "Ran 24 tests in 30.672s\n",
      "\n",
      "OK (skipped=1)\n"
     ]
    }
   ],
   "source": [
    "VERIFICATION_SCRIPT = os.path.join(paths['APIMODEL_PATH'], 'research', 'object_detection', 'builders', 'model_builder_tf2_test.py')\n",
    "# Verify Installation\n",
    "!python {VERIFICATION_SCRIPT}"
   ]
  },
  {
   "cell_type": "code",
   "execution_count": null,
   "metadata": {},
   "outputs": [],
   "source": [
    "!pip install tensorflow --upgrade"
   ]
  },
  {
   "cell_type": "code",
   "execution_count": 11,
   "metadata": {},
   "outputs": [
    {
     "name": "stdout",
     "output_type": "stream",
     "text": [
      "Found existing installation: protobuf 3.19.6\n",
      "Uninstalling protobuf-3.19.6:\n",
      "  Successfully uninstalled protobuf-3.19.6\n",
      "Found existing installation: matplotlib 3.2.0\n",
      "Uninstalling matplotlib-3.2.0:\n",
      "  Successfully uninstalled matplotlib-3.2.0\n",
      "Collecting protobuf\n",
      "  Using cached protobuf-4.21.12-cp37-abi3-manylinux2014_x86_64.whl (409 kB)\n",
      "Collecting matplotlib==3.2\n",
      "  Using cached matplotlib-3.2.0-cp38-cp38-manylinux1_x86_64.whl (12.4 MB)\n",
      "Requirement already satisfied: pyparsing!=2.0.4,!=2.1.2,!=2.1.6,>=2.0.1 in ./venv/lib/python3.8/site-packages (from matplotlib==3.2) (2.4.7)\n",
      "Requirement already satisfied: cycler>=0.10 in ./venv/lib/python3.8/site-packages (from matplotlib==3.2) (0.11.0)\n",
      "Requirement already satisfied: kiwisolver>=1.0.1 in ./venv/lib/python3.8/site-packages (from matplotlib==3.2) (1.4.4)\n",
      "Requirement already satisfied: python-dateutil>=2.1 in ./venv/lib/python3.8/site-packages (from matplotlib==3.2) (2.8.2)\n",
      "Requirement already satisfied: numpy>=1.11 in ./venv/lib/python3.8/site-packages (from matplotlib==3.2) (1.22.4)\n",
      "Requirement already satisfied: six>=1.5 in ./venv/lib/python3.8/site-packages (from python-dateutil>=2.1->matplotlib==3.2) (1.16.0)\n",
      "Installing collected packages: protobuf, matplotlib\n",
      "\u001b[31mERROR: pip's dependency resolver does not currently take into account all the packages that are installed. This behaviour is the source of the following dependency conflicts.\n",
      "tensorflow 2.11.0 requires protobuf<3.20,>=3.9.2, but you have protobuf 4.21.12 which is incompatible.\n",
      "tensorflow-metadata 1.12.0 requires protobuf<4,>=3.13, but you have protobuf 4.21.12 which is incompatible.\n",
      "tensorboard 2.11.0 requires protobuf<4,>=3.9.2, but you have protobuf 4.21.12 which is incompatible.\n",
      "apache-beam 2.43.0 requires protobuf<4,>3.12.2, but you have protobuf 4.21.12 which is incompatible.\u001b[0m\u001b[31m\n",
      "\u001b[0mSuccessfully installed matplotlib-3.2.0 protobuf-4.21.12\n"
     ]
    }
   ],
   "source": [
    "!pip uninstall protobuf matplotlib -y\n",
    "!pip install protobuf matplotlib==3.2"
   ]
  },
  {
   "cell_type": "code",
   "execution_count": 12,
   "metadata": {},
   "outputs": [],
   "source": [
    "import object_detection"
   ]
  },
  {
   "cell_type": "code",
   "execution_count": 13,
   "metadata": {
    "scrolled": true
   },
   "outputs": [
    {
     "name": "stdout",
     "output_type": "stream",
     "text": [
      "Package                       Version\n",
      "----------------------------- -----------\n",
      "absl-py                       1.3.0\n",
      "anyio                         3.6.2\n",
      "apache-beam                   2.43.0\n",
      "argon2-cffi                   21.3.0\n",
      "argon2-cffi-bindings          21.2.0\n",
      "arrow                         1.2.3\n",
      "asttokens                     2.2.1\n",
      "astunparse                    1.6.3\n",
      "attrs                         22.2.0\n",
      "avro-python3                  1.10.2\n",
      "backcall                      0.2.0\n",
      "beautifulsoup4                4.11.1\n",
      "bleach                        5.0.1\n",
      "cachetools                    5.2.0\n",
      "certifi                       2022.12.7\n",
      "cffi                          1.15.1\n",
      "charset-normalizer            2.1.1\n",
      "click                         8.1.3\n",
      "cloudpickle                   2.2.0\n",
      "colorama                      0.4.6\n",
      "comm                          0.1.2\n",
      "contextlib2                   21.6.0\n",
      "contourpy                     1.0.6\n",
      "crcmod                        1.7\n",
      "cycler                        0.11.0\n",
      "Cython                        0.29.32\n",
      "debugpy                       1.6.4\n",
      "decorator                     5.1.1\n",
      "defusedxml                    0.7.1\n",
      "dill                          0.3.1.1\n",
      "dm-tree                       0.1.8\n",
      "docopt                        0.6.2\n",
      "entrypoints                   0.4\n",
      "etils                         0.9.0\n",
      "executing                     1.2.0\n",
      "fastavro                      1.7.0\n",
      "fasteners                     0.18\n",
      "fastjsonschema                2.16.2\n",
      "flatbuffers                   22.12.6\n",
      "fonttools                     4.38.0\n",
      "fqdn                          1.5.1\n",
      "gast                          0.4.0\n",
      "gin-config                    0.5.0\n",
      "google-api-core               2.11.0\n",
      "google-api-python-client      2.70.0\n",
      "google-auth                   2.15.0\n",
      "google-auth-httplib2          0.1.0\n",
      "google-auth-oauthlib          0.4.6\n",
      "google-pasta                  0.2.0\n",
      "googleapis-common-protos      1.57.0\n",
      "grpcio                        1.51.1\n",
      "h5py                          3.7.0\n",
      "hdfs                          2.7.0\n",
      "httplib2                      0.20.4\n",
      "idna                          3.4\n",
      "immutabledict                 2.2.3\n",
      "importlib-metadata            6.0.0\n",
      "importlib-resources           5.10.2\n",
      "ipykernel                     6.19.4\n",
      "ipython                       8.7.0\n",
      "ipython-genutils              0.2.0\n",
      "ipywidgets                    8.0.4\n",
      "isoduration                   20.11.0\n",
      "jedi                          0.18.2\n",
      "Jinja2                        3.1.2\n",
      "joblib                        1.2.0\n",
      "jsonpointer                   2.3\n",
      "jsonschema                    4.17.3\n",
      "jupyter                       1.0.0\n",
      "jupyter_client                7.4.8\n",
      "jupyter-console               6.4.4\n",
      "jupyter_core                  5.1.1\n",
      "jupyter-events                0.5.0\n",
      "jupyter_server                2.0.6\n",
      "jupyter_server_terminals      0.4.3\n",
      "jupyterlab-pygments           0.2.2\n",
      "jupyterlab-widgets            3.0.5\n",
      "kaggle                        1.5.12\n",
      "keras                         2.11.0\n",
      "kiwisolver                    1.4.4\n",
      "libclang                      14.0.6\n",
      "lvis                          0.5.3\n",
      "lxml                          4.9.2\n",
      "Markdown                      3.4.1\n",
      "MarkupSafe                    2.1.1\n",
      "matplotlib                    3.2.0\n",
      "matplotlib-inline             0.1.6\n",
      "mistune                       2.0.4\n",
      "nbclassic                     0.4.8\n",
      "nbclient                      0.7.2\n",
      "nbconvert                     7.2.7\n",
      "nbformat                      5.7.1\n",
      "nest-asyncio                  1.5.6\n",
      "notebook                      6.5.2\n",
      "notebook_shim                 0.2.2\n",
      "numpy                         1.22.4\n",
      "oauth2client                  4.1.3\n",
      "oauthlib                      3.2.2\n",
      "object-detection              0.1\n",
      "objsize                       0.5.2\n",
      "opencv-python                 4.7.0.68\n",
      "opencv-python-headless        4.7.0.68\n",
      "opt-einsum                    3.3.0\n",
      "orjson                        3.8.3\n",
      "packaging                     22.0\n",
      "pandas                        1.5.2\n",
      "pandocfilters                 1.5.0\n",
      "parso                         0.8.3\n",
      "pexpect                       4.8.0\n",
      "pickleshare                   0.7.5\n",
      "Pillow                        9.4.0\n",
      "pip                           22.3.1\n",
      "pkgutil_resolve_name          1.3.10\n",
      "platformdirs                  2.6.2\n",
      "portalocker                   2.6.0\n",
      "prometheus-client             0.15.0\n",
      "promise                       2.3\n",
      "prompt-toolkit                3.0.36\n",
      "proto-plus                    1.22.1\n",
      "protobuf                      4.21.12\n",
      "psutil                        5.9.4\n",
      "ptyprocess                    0.7.0\n",
      "pure-eval                     0.2.2\n",
      "py-cpuinfo                    9.0.0\n",
      "pyarrow                       9.0.0\n",
      "pyasn1                        0.4.8\n",
      "pyasn1-modules                0.2.8\n",
      "pycocotools                   2.0.6\n",
      "pycparser                     2.21\n",
      "pydot                         1.4.2\n",
      "Pygments                      2.14.0\n",
      "pymongo                       3.13.0\n",
      "pyparsing                     2.4.7\n",
      "PyQt5                         5.15.7\n",
      "PyQt5-Qt5                     5.15.2\n",
      "PyQt5-sip                     12.11.0\n",
      "pyrsistent                    0.19.3\n",
      "python-dateutil               2.8.2\n",
      "python-json-logger            2.0.4\n",
      "python-slugify                7.0.0\n",
      "pytz                          2022.7\n",
      "PyYAML                        5.4.1\n",
      "pyzmq                         24.0.1\n",
      "qtconsole                     5.4.0\n",
      "QtPy                          2.3.0\n",
      "regex                         2022.10.31\n",
      "requests                      2.28.1\n",
      "requests-oauthlib             1.3.1\n",
      "rfc3339-validator             0.1.4\n",
      "rfc3986-validator             0.1.1\n",
      "rsa                           4.9\n",
      "sacrebleu                     2.2.0\n",
      "scikit-learn                  1.2.0\n",
      "scipy                         1.9.3\n",
      "Send2Trash                    1.8.0\n",
      "sentencepiece                 0.1.97\n",
      "seqeval                       1.2.2\n",
      "setuptools                    60.2.0\n",
      "six                           1.16.0\n",
      "sniffio                       1.3.0\n",
      "soupsieve                     2.3.2.post1\n",
      "stack-data                    0.6.2\n",
      "tabulate                      0.9.0\n",
      "tensorboard                   2.11.0\n",
      "tensorboard-data-server       0.6.1\n",
      "tensorboard-plugin-wit        1.8.1\n",
      "tensorflow                    2.11.0\n",
      "tensorflow-addons             0.19.0\n",
      "tensorflow-datasets           4.8.0\n",
      "tensorflow-estimator          2.11.0\n",
      "tensorflow-hub                0.12.0\n",
      "tensorflow-io                 0.29.0\n",
      "tensorflow-io-gcs-filesystem  0.29.0\n",
      "tensorflow-metadata           1.12.0\n",
      "tensorflow-model-optimization 0.7.3\n",
      "tensorflow-text               2.11.0\n",
      "termcolor                     2.1.1\n",
      "terminado                     0.17.1\n",
      "text-unidecode                1.3\n",
      "tf-models-official            2.11.2\n",
      "tf-slim                       1.1.0\n",
      "threadpoolctl                 3.1.0\n",
      "tinycss2                      1.2.1\n",
      "toml                          0.10.2\n",
      "tornado                       6.2\n",
      "tqdm                          4.64.1\n",
      "traitlets                     5.8.0\n",
      "typeguard                     2.13.3\n",
      "typing_extensions             4.4.0\n",
      "uri-template                  1.2.0\n",
      "uritemplate                   4.1.1\n",
      "urllib3                       1.26.13\n",
      "wcwidth                       0.2.5\n",
      "webcolors                     1.12\n",
      "webencodings                  0.5.1\n",
      "websocket-client              1.4.2\n",
      "Werkzeug                      2.2.2\n",
      "wheel                         0.37.1\n",
      "widgetsnbextension            4.0.5\n",
      "wrapt                         1.14.1\n",
      "zipp                          3.11.0\n",
      "zstandard                     0.19.0\n"
     ]
    }
   ],
   "source": [
    "!pip list"
   ]
  },
  {
   "cell_type": "code",
   "execution_count": 14,
   "metadata": {
    "colab": {
     "base_uri": "https://localhost:8080/"
    },
    "id": "csofht2npfDE",
    "outputId": "ff5471b2-bed2-43f2-959c-327a706527b6"
   },
   "outputs": [
    {
     "name": "stdout",
     "output_type": "stream",
     "text": [
      "--2023-01-02 15:50:22--  http://download.tensorflow.org/models/object_detection/tf2/20200711/ssd_mobilenet_v2_fpnlite_320x320_coco17_tpu-8.tar.gz\n",
      "Resolving download.tensorflow.org (download.tensorflow.org)... 142.250.192.112, 2404:6800:4009:82e::2010\n",
      "Connecting to download.tensorflow.org (download.tensorflow.org)|142.250.192.112|:80... connected.\n",
      "HTTP request sent, awaiting response... 200 OK\n",
      "Length: 20515344 (20M) [application/x-tar]\n",
      "Saving to: ‘ssd_mobilenet_v2_fpnlite_320x320_coco17_tpu-8.tar.gz’\n",
      "\n",
      "ssd_mobilenet_v2_fp 100%[===================>]  19.56M  10.9MB/s    in 1.8s    \n",
      "\n",
      "2023-01-02 15:50:28 (10.9 MB/s) - ‘ssd_mobilenet_v2_fpnlite_320x320_coco17_tpu-8.tar.gz’ saved [20515344/20515344]\n",
      "\n",
      "ssd_mobilenet_v2_fpnlite_320x320_coco17_tpu-8/\n",
      "ssd_mobilenet_v2_fpnlite_320x320_coco17_tpu-8/checkpoint/\n",
      "ssd_mobilenet_v2_fpnlite_320x320_coco17_tpu-8/checkpoint/ckpt-0.data-00000-of-00001\n",
      "ssd_mobilenet_v2_fpnlite_320x320_coco17_tpu-8/checkpoint/checkpoint\n",
      "ssd_mobilenet_v2_fpnlite_320x320_coco17_tpu-8/checkpoint/ckpt-0.index\n",
      "ssd_mobilenet_v2_fpnlite_320x320_coco17_tpu-8/pipeline.config\n",
      "ssd_mobilenet_v2_fpnlite_320x320_coco17_tpu-8/saved_model/\n",
      "ssd_mobilenet_v2_fpnlite_320x320_coco17_tpu-8/saved_model/saved_model.pb\n",
      "ssd_mobilenet_v2_fpnlite_320x320_coco17_tpu-8/saved_model/variables/\n",
      "ssd_mobilenet_v2_fpnlite_320x320_coco17_tpu-8/saved_model/variables/variables.data-00000-of-00001\n",
      "ssd_mobilenet_v2_fpnlite_320x320_coco17_tpu-8/saved_model/variables/variables.index\n"
     ]
    }
   ],
   "source": [
    "if os.name =='posix':\n",
    "    !wget {PRETRAINED_MODEL_URL}\n",
    "    !mv {PRETRAINED_MODEL_NAME+'.tar.gz'} {paths['PRETRAINED_MODEL_PATH']}\n",
    "    !cd {paths['PRETRAINED_MODEL_PATH']} && tar -zxvf {PRETRAINED_MODEL_NAME+'.tar.gz'}\n",
    "if os.name == 'nt':\n",
    "    wget.download(PRETRAINED_MODEL_URL)\n",
    "    !move {PRETRAINED_MODEL_NAME+'.tar.gz'} {paths['PRETRAINED_MODEL_PATH']}\n",
    "    !cd {paths['PRETRAINED_MODEL_PATH']} && tar -zxvf {PRETRAINED_MODEL_NAME+'.tar.gz'}"
   ]
  },
  {
   "cell_type": "markdown",
   "metadata": {
    "id": "M5KJTnkfpfDC"
   },
   "source": [
    "# 2. Create Label Map"
   ]
  },
  {
   "cell_type": "code",
   "execution_count": 15,
   "metadata": {
    "id": "p1BVDWo7pfDC"
   },
   "outputs": [],
   "source": [
    "labels = [{'name':'cat', 'id':1}, {'name':'dog', 'id':2}]\n",
    "\n",
    "with open(files['LABELMAP'], 'w') as f:\n",
    "    for label in labels:\n",
    "        f.write('item { \\n')\n",
    "        f.write('\\tname:\\'{}\\'\\n'.format(label['name']))\n",
    "        f.write('\\tid:{}\\n'.format(label['id']))\n",
    "        f.write('}\\n')"
   ]
  },
  {
   "cell_type": "markdown",
   "metadata": {
    "id": "C88zyVELpfDC"
   },
   "source": [
    "# 3. Create TF records"
   ]
  },
  {
   "cell_type": "code",
   "execution_count": 16,
   "metadata": {
    "colab": {
     "base_uri": "https://localhost:8080/"
    },
    "id": "kvf5WccwrFGq",
    "outputId": "49902aeb-0bd7-4298-e1a0-5b4a64eb2064"
   },
   "outputs": [
    {
     "name": "stdout",
     "output_type": "stream",
     "text": [
      "Tensorflow/workspace/images/train/\r\n",
      "Tensorflow/workspace/images/train/images (4).jpeg\r\n",
      "Tensorflow/workspace/images/train/flickr_cat_000019.xml\r\n",
      "Tensorflow/workspace/images/train/download(6).jpeg\r\n",
      "Tensorflow/workspace/images/train/images (7).xml\r\n",
      "Tensorflow/workspace/images/train/flickr_cat_000023.jpg\r\n",
      "Tensorflow/workspace/images/train/flickr_dog_000005.xml\r\n",
      "Tensorflow/workspace/images/train/flickr_cat_000004.xml\r\n",
      "Tensorflow/workspace/images/train/flickr_cat_000022.jpg\r\n",
      "Tensorflow/workspace/images/train/flickr_cat_000012.xml\r\n",
      "Tensorflow/workspace/images/train/flickr_cat_000025.xml\r\n",
      "Tensorflow/workspace/images/train/download (6).xml\r\n",
      "Tensorflow/workspace/images/train/flickr_dog_000014.jpg\r\n",
      "Tensorflow/workspace/images/train/flickr_cat_000026.xml\r\n",
      "Tensorflow/workspace/images/train/images(6).xml\r\n",
      "Tensorflow/workspace/images/train/flickr_cat_000021.jpg\r\n",
      "Tensorflow/workspace/images/train/flickr_dog_000011.xml\r\n",
      "Tensorflow/workspace/images/train/flickr_cat_000018.jpg\r\n",
      "Tensorflow/workspace/images/train/flickr_dog_000009.jpg\r\n",
      "Tensorflow/workspace/images/train/images (1).xml\r\n",
      "Tensorflow/workspace/images/train/flickr_dog_000013.jpg\r\n",
      "Tensorflow/workspace/images/train/flickr_dog_000012.jpg\r\n",
      "Tensorflow/workspace/images/train/flickr_cat_000015.xml\r\n",
      "Tensorflow/workspace/images/train/images (9).xml\r\n",
      "Tensorflow/workspace/images/train/flickr_dog_000010.jpg\r\n",
      "Tensorflow/workspace/images/train/images (9).jpeg\r\n",
      "Tensorflow/workspace/images/train/flickr_cat_000024.xml\r\n",
      "Tensorflow/workspace/images/train/flickr_cat_000003.jpg\r\n",
      "Tensorflow/workspace/images/train/flickr_dog_000010.xml\r\n",
      "Tensorflow/workspace/images/train/images (5).xml\r\n",
      "Tensorflow/workspace/images/train/images (8).jpeg\r\n",
      "Tensorflow/workspace/images/train/flickr_cat_000013.xml\r\n",
      "Tensorflow/workspace/images/train/flickr_dog_000008.jpg\r\n",
      "Tensorflow/workspace/images/train/flickr_dog_000004.jpg\r\n",
      "Tensorflow/workspace/images/train/flickr_cat_000023.xml\r\n",
      "Tensorflow/workspace/images/train/flickr_dog_000003.jpg\r\n",
      "Tensorflow/workspace/images/train/download(1).xml\r\n",
      "Tensorflow/workspace/images/train/flickr_cat_000026.jpg\r\n",
      "Tensorflow/workspace/images/train/flickr_cat_000006.jpg\r\n",
      "Tensorflow/workspace/images/train/images (2).jpeg\r\n",
      "Tensorflow/workspace/images/train/download (4).jpeg\r\n",
      "Tensorflow/workspace/images/train/flickr_cat_000018.xml\r\n",
      "Tensorflow/workspace/images/train/flickr_dog_000007.jpg\r\n",
      "Tensorflow/workspace/images/train/download(1).jpeg\r\n",
      "Tensorflow/workspace/images/train/download (4).xml\r\n",
      "Tensorflow/workspace/images/train/flickr_cat_000005.jpg\r\n",
      "Tensorflow/workspace/images/train/flickr_cat_000024.jpg\r\n",
      "Tensorflow/workspace/images/train/flickr_cat_000019.jpg\r\n",
      "Tensorflow/workspace/images/train/flickr_dog_000004.xml\r\n",
      "Tensorflow/workspace/images/train/flickr_dog_000012.xml\r\n",
      "Tensorflow/workspace/images/train/flickr_cat_000007.jpg\r\n",
      "Tensorflow/workspace/images/train/images (5).jpeg\r\n",
      "Tensorflow/workspace/images/train/flickr_cat_000005.xml\r\n",
      "Tensorflow/workspace/images/train/flickr_cat_000010.jpg\r\n",
      "Tensorflow/workspace/images/train/flickr_dog_000006.jpg\r\n",
      "Tensorflow/workspace/images/train/flickr_cat_000002.xml\r\n",
      "Tensorflow/workspace/images/train/flickr_cat_000020.xml\r\n",
      "Tensorflow/workspace/images/train/images (1).jpeg\r\n",
      "Tensorflow/workspace/images/train/flickr_dog_000003.xml\r\n",
      "Tensorflow/workspace/images/train/download (5).xml\r\n",
      "Tensorflow/workspace/images/train/images (2).xml\r\n",
      "Tensorflow/workspace/images/train/download (3).xml\r\n",
      "Tensorflow/workspace/images/train/flickr_dog_000014.xml\r\n",
      "Tensorflow/workspace/images/train/download.jpeg\r\n",
      "Tensorflow/workspace/images/train/images (3).xml\r\n",
      "Tensorflow/workspace/images/train/flickr_cat_000007.xml\r\n",
      "Tensorflow/workspace/images/train/images (4).xml\r\n",
      "Tensorflow/workspace/images/train/images (10).xml\r\n",
      "Tensorflow/workspace/images/train/flickr_dog_000009.xml\r\n",
      "Tensorflow/workspace/images/train/flickr_dog_000008.xml\r\n",
      "Tensorflow/workspace/images/train/flickr_cat_000009.xml\r\n",
      "Tensorflow/workspace/images/train/flickr_dog_000013.xml\r\n",
      "Tensorflow/workspace/images/train/flickr_dog_000002.xml\r\n",
      "Tensorflow/workspace/images/train/flickr_cat_000025.jpg\r\n",
      "Tensorflow/workspace/images/train/flickr_cat_000014.xml\r\n",
      "Tensorflow/workspace/images/train/imagesc.xml\r\n",
      "Tensorflow/workspace/images/train/download (1).xml\r\n",
      "Tensorflow/workspace/images/train/imagesc.jpeg\r\n",
      "Tensorflow/workspace/images/train/download (2).jpeg\r\n",
      "Tensorflow/workspace/images/train/flickr_cat_000022.xml\r\n",
      "Tensorflow/workspace/images/train/flickr_cat_000004.jpg\r\n",
      "Tensorflow/workspace/images/train/images.xml\r\n",
      "Tensorflow/workspace/images/train/download (3).jpeg\r\n",
      "Tensorflow/workspace/images/train/flickr_cat_000017.jpg\r\n",
      "Tensorflow/workspace/images/train/images (3).jpeg\r\n",
      "Tensorflow/workspace/images/train/download(6).xml\r\n",
      "Tensorflow/workspace/images/train/flickr_cat_000002.jpg\r\n",
      "Tensorflow/workspace/images/train/images (6).xml\r\n",
      "Tensorflow/workspace/images/train/download (1).jpeg\r\n",
      "Tensorflow/workspace/images/train/download (5).jpeg\r\n",
      "Tensorflow/workspace/images/train/flickr_cat_000006.xml\r\n",
      "Tensorflow/workspace/images/train/images (8).xml\r\n",
      "Tensorflow/workspace/images/train/flickr_cat_000010.xml\r\n",
      "Tensorflow/workspace/images/train/images (10).jpeg\r\n",
      "Tensorflow/workspace/images/train/images(6).jpeg\r\n",
      "Tensorflow/workspace/images/train/flickr_dog_000002.jpg\r\n",
      "Tensorflow/workspace/images/train/flickr_cat_000009.jpg\r\n",
      "Tensorflow/workspace/images/train/flickr_cat_000003.xml\r\n",
      "Tensorflow/workspace/images/train/flickr_dog_000007.xml\r\n",
      "Tensorflow/workspace/images/train/images (7).jpeg\r\n",
      "Tensorflow/workspace/images/train/flickr_cat_000014.jpg\r\n",
      "Tensorflow/workspace/images/train/flickr_cat_000017.xml\r\n",
      "Tensorflow/workspace/images/train/images.jpeg\r\n",
      "Tensorflow/workspace/images/train/download (6).jpeg\r\n",
      "Tensorflow/workspace/images/train/download (2).xml\r\n",
      "Tensorflow/workspace/images/train/flickr_dog_000006.xml\r\n",
      "Tensorflow/workspace/images/train/flickr_cat_000021.xml\r\n",
      "Tensorflow/workspace/images/train/flickr_cat_000020.jpg\r\n",
      "Tensorflow/workspace/images/train/images (6).jpeg\r\n",
      "Tensorflow/workspace/images/train/flickr_cat_000015.jpg\r\n",
      "Tensorflow/workspace/images/train/flickr_dog_000011.jpg\r\n",
      "Tensorflow/workspace/images/train/flickr_cat_000013.jpg\r\n",
      "Tensorflow/workspace/images/train/download.xml\r\n",
      "Tensorflow/workspace/images/train/flickr_cat_000012.jpg\r\n",
      "Tensorflow/workspace/images/train/flickr_dog_000005.jpg\r\n",
      "Tensorflow/workspace/images/test/\r\n",
      "Tensorflow/workspace/images/test/flickr_cat_000026.xml\r\n",
      "Tensorflow/workspace/images/test/images (9).xml\r\n",
      "Tensorflow/workspace/images/test/images (9).jpeg\r\n",
      "Tensorflow/workspace/images/test/flickr_cat_000024.xml\r\n",
      "Tensorflow/workspace/images/test/flickr_cat_000026.jpg\r\n",
      "Tensorflow/workspace/images/test/flickr_cat_000024.jpg\r\n",
      "Tensorflow/workspace/images/test/images (10).xml\r\n",
      "Tensorflow/workspace/images/test/images (6).xml\r\n",
      "Tensorflow/workspace/images/test/images (10).jpeg\r\n",
      "Tensorflow/workspace/images/test/images (6).jpeg\r\n"
     ]
    }
   ],
   "source": [
    "# OPTIONAL IF RUNNING ON COLAB\n",
    "ARCHIVE_FILES = os.path.join(paths['IMAGE_PATH'], 'archive.tar.gz')\n",
    "if os.path.exists(ARCHIVE_FILES):\n",
    "  !tar -zxvf {ARCHIVE_FILES}"
   ]
  },
  {
   "cell_type": "code",
   "execution_count": 17,
   "metadata": {
    "colab": {
     "base_uri": "https://localhost:8080/"
    },
    "id": "KWpb_BVUpfDD",
    "outputId": "56ce2a3f-3933-4ee6-8a9d-d5ec65f7d73c"
   },
   "outputs": [],
   "source": [
    "if not os.path.exists(files['TF_RECORD_SCRIPT']):\n",
    "    !git clone https://github.com/nicknochnack/GenerateTFRecord {paths['SCRIPTS_PATH']}"
   ]
  },
  {
   "cell_type": "code",
   "execution_count": 18,
   "metadata": {},
   "outputs": [
    {
     "data": {
      "text/plain": [
       "{'PIPELINE_CONFIG': 'Tensorflow/workspace/models/my_ssd_mobnet/pipeline.config',\n",
       " 'TF_RECORD_SCRIPT': 'Tensorflow/scripts/generate_tfrecord.py',\n",
       " 'LABELMAP': 'Tensorflow/workspace/annotations/label_map.pbtxt'}"
      ]
     },
     "execution_count": 18,
     "metadata": {},
     "output_type": "execute_result"
    }
   ],
   "source": [
    "files"
   ]
  },
  {
   "cell_type": "code",
   "execution_count": 19,
   "metadata": {
    "colab": {
     "base_uri": "https://localhost:8080/"
    },
    "id": "UPFToGZqpfDD",
    "outputId": "0ebb456f-aadc-4a1f-96e6-fbfec1923e1c"
   },
   "outputs": [
    {
     "name": "stdout",
     "output_type": "stream",
     "text": [
      "Traceback (most recent call last):\n",
      "  File \"Tensorflow/scripts/generate_tfrecord.py\", line 27, in <module>\n",
      "    import tensorflow.compat.v1 as tf\n",
      "  File \"/home/shivani/PycharmProjects/obj-localization-animal/venv/lib/python3.8/site-packages/tensorflow/__init__.py\", line 37, in <module>\n",
      "    from tensorflow.python.tools import module_util as _module_util\n",
      "  File \"/home/shivani/PycharmProjects/obj-localization-animal/venv/lib/python3.8/site-packages/tensorflow/python/__init__.py\", line 37, in <module>\n",
      "    from tensorflow.python.eager import context\n",
      "  File \"/home/shivani/PycharmProjects/obj-localization-animal/venv/lib/python3.8/site-packages/tensorflow/python/eager/context.py\", line 28, in <module>\n",
      "    from tensorflow.core.framework import function_pb2\n",
      "  File \"/home/shivani/PycharmProjects/obj-localization-animal/venv/lib/python3.8/site-packages/tensorflow/core/framework/function_pb2.py\", line 16, in <module>\n",
      "    from tensorflow.core.framework import attr_value_pb2 as tensorflow_dot_core_dot_framework_dot_attr__value__pb2\n",
      "  File \"/home/shivani/PycharmProjects/obj-localization-animal/venv/lib/python3.8/site-packages/tensorflow/core/framework/attr_value_pb2.py\", line 16, in <module>\n",
      "    from tensorflow.core.framework import tensor_pb2 as tensorflow_dot_core_dot_framework_dot_tensor__pb2\n",
      "  File \"/home/shivani/PycharmProjects/obj-localization-animal/venv/lib/python3.8/site-packages/tensorflow/core/framework/tensor_pb2.py\", line 16, in <module>\n",
      "    from tensorflow.core.framework import resource_handle_pb2 as tensorflow_dot_core_dot_framework_dot_resource__handle__pb2\n",
      "  File \"/home/shivani/PycharmProjects/obj-localization-animal/venv/lib/python3.8/site-packages/tensorflow/core/framework/resource_handle_pb2.py\", line 16, in <module>\n",
      "    from tensorflow.core.framework import tensor_shape_pb2 as tensorflow_dot_core_dot_framework_dot_tensor__shape__pb2\n",
      "  File \"/home/shivani/PycharmProjects/obj-localization-animal/venv/lib/python3.8/site-packages/tensorflow/core/framework/tensor_shape_pb2.py\", line 36, in <module>\n",
      "    _descriptor.FieldDescriptor(\n",
      "  File \"/home/shivani/PycharmProjects/obj-localization-animal/venv/lib/python3.8/site-packages/google/protobuf/descriptor.py\", line 560, in __new__\n",
      "    _message.Message._CheckCalledFromGeneratedFile()\n",
      "TypeError: Descriptors cannot not be created directly.\n",
      "If this call came from a _pb2.py file, your generated code is out of date and must be regenerated with protoc >= 3.19.0.\n",
      "If you cannot immediately regenerate your protos, some other possible workarounds are:\n",
      " 1. Downgrade the protobuf package to 3.20.x or lower.\n",
      " 2. Set PROTOCOL_BUFFERS_PYTHON_IMPLEMENTATION=python (but this will use pure-Python parsing and will be much slower).\n",
      "\n",
      "More information: https://developers.google.com/protocol-buffers/docs/news/2022-05-06#python-updates\n",
      "Traceback (most recent call last):\n",
      "  File \"Tensorflow/scripts/generate_tfrecord.py\", line 27, in <module>\n",
      "    import tensorflow.compat.v1 as tf\n",
      "  File \"/home/shivani/PycharmProjects/obj-localization-animal/venv/lib/python3.8/site-packages/tensorflow/__init__.py\", line 37, in <module>\n",
      "    from tensorflow.python.tools import module_util as _module_util\n",
      "  File \"/home/shivani/PycharmProjects/obj-localization-animal/venv/lib/python3.8/site-packages/tensorflow/python/__init__.py\", line 37, in <module>\n",
      "    from tensorflow.python.eager import context\n",
      "  File \"/home/shivani/PycharmProjects/obj-localization-animal/venv/lib/python3.8/site-packages/tensorflow/python/eager/context.py\", line 28, in <module>\n",
      "    from tensorflow.core.framework import function_pb2\n",
      "  File \"/home/shivani/PycharmProjects/obj-localization-animal/venv/lib/python3.8/site-packages/tensorflow/core/framework/function_pb2.py\", line 16, in <module>\n",
      "    from tensorflow.core.framework import attr_value_pb2 as tensorflow_dot_core_dot_framework_dot_attr__value__pb2\n",
      "  File \"/home/shivani/PycharmProjects/obj-localization-animal/venv/lib/python3.8/site-packages/tensorflow/core/framework/attr_value_pb2.py\", line 16, in <module>\n",
      "    from tensorflow.core.framework import tensor_pb2 as tensorflow_dot_core_dot_framework_dot_tensor__pb2\n",
      "  File \"/home/shivani/PycharmProjects/obj-localization-animal/venv/lib/python3.8/site-packages/tensorflow/core/framework/tensor_pb2.py\", line 16, in <module>\n",
      "    from tensorflow.core.framework import resource_handle_pb2 as tensorflow_dot_core_dot_framework_dot_resource__handle__pb2\n",
      "  File \"/home/shivani/PycharmProjects/obj-localization-animal/venv/lib/python3.8/site-packages/tensorflow/core/framework/resource_handle_pb2.py\", line 16, in <module>\n",
      "    from tensorflow.core.framework import tensor_shape_pb2 as tensorflow_dot_core_dot_framework_dot_tensor__shape__pb2\n",
      "  File \"/home/shivani/PycharmProjects/obj-localization-animal/venv/lib/python3.8/site-packages/tensorflow/core/framework/tensor_shape_pb2.py\", line 36, in <module>\n",
      "    _descriptor.FieldDescriptor(\n",
      "  File \"/home/shivani/PycharmProjects/obj-localization-animal/venv/lib/python3.8/site-packages/google/protobuf/descriptor.py\", line 560, in __new__\n",
      "    _message.Message._CheckCalledFromGeneratedFile()\n",
      "TypeError: Descriptors cannot not be created directly.\n",
      "If this call came from a _pb2.py file, your generated code is out of date and must be regenerated with protoc >= 3.19.0.\n",
      "If you cannot immediately regenerate your protos, some other possible workarounds are:\n",
      " 1. Downgrade the protobuf package to 3.20.x or lower.\n",
      " 2. Set PROTOCOL_BUFFERS_PYTHON_IMPLEMENTATION=python (but this will use pure-Python parsing and will be much slower).\n",
      "\n",
      "More information: https://developers.google.com/protocol-buffers/docs/news/2022-05-06#python-updates\n"
     ]
    }
   ],
   "source": [
    "!python {files['TF_RECORD_SCRIPT']} -x {os.path.join(paths['IMAGE_PATH'], 'train')} -l {files['LABELMAP']} -o {os.path.join(paths['ANNOTATION_PATH'], 'train.record')} \n",
    "!python {files['TF_RECORD_SCRIPT']} -x {os.path.join(paths['IMAGE_PATH'], 'test')} -l {files['LABELMAP']} -o {os.path.join(paths['ANNOTATION_PATH'], 'test.record')} "
   ]
  },
  {
   "cell_type": "markdown",
   "metadata": {
    "id": "qT4QU7pLpfDE"
   },
   "source": [
    "# 4. Copy Model Config to Training Folder"
   ]
  },
  {
   "cell_type": "code",
   "execution_count": 20,
   "metadata": {
    "id": "cOjuTFbwpfDF"
   },
   "outputs": [],
   "source": [
    "if os.name =='posix':\n",
    "    !cp {os.path.join(paths['PRETRAINED_MODEL_PATH'], PRETRAINED_MODEL_NAME, 'pipeline.config')} {os.path.join(paths['CHECKPOINT_PATH'])}\n",
    "if os.name == 'nt':\n",
    "    !copy {os.path.join(paths['PRETRAINED_MODEL_PATH'], PRETRAINED_MODEL_NAME, 'pipeline.config')} {os.path.join(paths['CHECKPOINT_PATH'])}"
   ]
  },
  {
   "cell_type": "markdown",
   "metadata": {
    "id": "Ga8gpNslpfDF"
   },
   "source": [
    "# 5. Update Config For Transfer Learning"
   ]
  },
  {
   "cell_type": "code",
   "execution_count": 21,
   "metadata": {},
   "outputs": [
    {
     "name": "stdout",
     "output_type": "stream",
     "text": [
      "Collecting protobuf==3.20.3\n",
      "  Using cached protobuf-3.20.3-cp38-cp38-manylinux_2_5_x86_64.manylinux1_x86_64.whl (1.0 MB)\n",
      "Installing collected packages: protobuf\n",
      "  Attempting uninstall: protobuf\n",
      "    Found existing installation: protobuf 4.21.12\n",
      "    Uninstalling protobuf-4.21.12:\n",
      "      Successfully uninstalled protobuf-4.21.12\n",
      "\u001b[31mERROR: pip's dependency resolver does not currently take into account all the packages that are installed. This behaviour is the source of the following dependency conflicts.\n",
      "tensorflow 2.11.0 requires protobuf<3.20,>=3.9.2, but you have protobuf 3.20.3 which is incompatible.\u001b[0m\u001b[31m\n",
      "\u001b[0mSuccessfully installed protobuf-3.20.3\n"
     ]
    }
   ],
   "source": [
    "!pip install protobuf==3.20.3\n"
   ]
  },
  {
   "cell_type": "code",
   "execution_count": 22,
   "metadata": {},
   "outputs": [],
   "source": [
    "!export PROTOCOL_BUFFERS_PYTHON_IMPLEMENTATION=python\n"
   ]
  },
  {
   "cell_type": "code",
   "execution_count": 23,
   "metadata": {
    "id": "Z9hRrO_ppfDF"
   },
   "outputs": [
    {
     "name": "stderr",
     "output_type": "stream",
     "text": [
      "2023-01-02 15:53:52.703532: I tensorflow/core/platform/cpu_feature_guard.cc:193] This TensorFlow binary is optimized with oneAPI Deep Neural Network Library (oneDNN) to use the following CPU instructions in performance-critical operations:  AVX2 FMA\n",
      "To enable them in other operations, rebuild TensorFlow with the appropriate compiler flags.\n",
      "2023-01-02 15:53:53.568790: W tensorflow/compiler/xla/stream_executor/platform/default/dso_loader.cc:64] Could not load dynamic library 'libnvinfer.so.7'; dlerror: libnvinfer.so.7: cannot open shared object file: No such file or directory\n",
      "2023-01-02 15:53:53.568887: W tensorflow/compiler/xla/stream_executor/platform/default/dso_loader.cc:64] Could not load dynamic library 'libnvinfer_plugin.so.7'; dlerror: libnvinfer_plugin.so.7: cannot open shared object file: No such file or directory\n",
      "2023-01-02 15:53:53.568903: W tensorflow/compiler/tf2tensorrt/utils/py_utils.cc:38] TF-TRT Warning: Cannot dlopen some TensorRT libraries. If you would like to use Nvidia GPU with TensorRT, please make sure the missing libraries mentioned above are installed properly.\n"
     ]
    }
   ],
   "source": [
    "import tensorflow as tf\n",
    "from object_detection.utils import config_util\n",
    "from object_detection.protos import pipeline_pb2\n",
    "from google.protobuf import text_format"
   ]
  },
  {
   "cell_type": "code",
   "execution_count": 24,
   "metadata": {
    "id": "c2A0mn4ipfDF"
   },
   "outputs": [],
   "source": [
    "config = config_util.get_configs_from_pipeline_file(files['PIPELINE_CONFIG'])"
   ]
  },
  {
   "cell_type": "code",
   "execution_count": 29,
   "metadata": {
    "colab": {
     "base_uri": "https://localhost:8080/"
    },
    "id": "uQA13-afpfDF",
    "outputId": "907496a4-a39d-4b13-8c2c-e5978ecb1f10"
   },
   "outputs": [
    {
     "data": {
      "text/plain": [
       "{'model': ssd {\n",
       "   num_classes: 90\n",
       "   image_resizer {\n",
       "     fixed_shape_resizer {\n",
       "       height: 320\n",
       "       width: 320\n",
       "     }\n",
       "   }\n",
       "   feature_extractor {\n",
       "     type: \"ssd_mobilenet_v2_fpn_keras\"\n",
       "     depth_multiplier: 1.0\n",
       "     min_depth: 16\n",
       "     conv_hyperparams {\n",
       "       regularizer {\n",
       "         l2_regularizer {\n",
       "           weight: 3.9999998989515007e-05\n",
       "         }\n",
       "       }\n",
       "       initializer {\n",
       "         random_normal_initializer {\n",
       "           mean: 0.0\n",
       "           stddev: 0.009999999776482582\n",
       "         }\n",
       "       }\n",
       "       activation: RELU_6\n",
       "       batch_norm {\n",
       "         decay: 0.996999979019165\n",
       "         scale: true\n",
       "         epsilon: 0.0010000000474974513\n",
       "       }\n",
       "     }\n",
       "     use_depthwise: true\n",
       "     override_base_feature_extractor_hyperparams: true\n",
       "     fpn {\n",
       "       min_level: 3\n",
       "       max_level: 7\n",
       "       additional_layer_depth: 128\n",
       "     }\n",
       "   }\n",
       "   box_coder {\n",
       "     faster_rcnn_box_coder {\n",
       "       y_scale: 10.0\n",
       "       x_scale: 10.0\n",
       "       height_scale: 5.0\n",
       "       width_scale: 5.0\n",
       "     }\n",
       "   }\n",
       "   matcher {\n",
       "     argmax_matcher {\n",
       "       matched_threshold: 0.5\n",
       "       unmatched_threshold: 0.5\n",
       "       ignore_thresholds: false\n",
       "       negatives_lower_than_unmatched: true\n",
       "       force_match_for_each_row: true\n",
       "       use_matmul_gather: true\n",
       "     }\n",
       "   }\n",
       "   similarity_calculator {\n",
       "     iou_similarity {\n",
       "     }\n",
       "   }\n",
       "   box_predictor {\n",
       "     weight_shared_convolutional_box_predictor {\n",
       "       conv_hyperparams {\n",
       "         regularizer {\n",
       "           l2_regularizer {\n",
       "             weight: 3.9999998989515007e-05\n",
       "           }\n",
       "         }\n",
       "         initializer {\n",
       "           random_normal_initializer {\n",
       "             mean: 0.0\n",
       "             stddev: 0.009999999776482582\n",
       "           }\n",
       "         }\n",
       "         activation: RELU_6\n",
       "         batch_norm {\n",
       "           decay: 0.996999979019165\n",
       "           scale: true\n",
       "           epsilon: 0.0010000000474974513\n",
       "         }\n",
       "       }\n",
       "       depth: 128\n",
       "       num_layers_before_predictor: 4\n",
       "       kernel_size: 3\n",
       "       class_prediction_bias_init: -4.599999904632568\n",
       "       share_prediction_tower: true\n",
       "       use_depthwise: true\n",
       "     }\n",
       "   }\n",
       "   anchor_generator {\n",
       "     multiscale_anchor_generator {\n",
       "       min_level: 3\n",
       "       max_level: 7\n",
       "       anchor_scale: 4.0\n",
       "       aspect_ratios: 1.0\n",
       "       aspect_ratios: 2.0\n",
       "       aspect_ratios: 0.5\n",
       "       scales_per_octave: 2\n",
       "     }\n",
       "   }\n",
       "   post_processing {\n",
       "     batch_non_max_suppression {\n",
       "       score_threshold: 9.99999993922529e-09\n",
       "       iou_threshold: 0.6000000238418579\n",
       "       max_detections_per_class: 100\n",
       "       max_total_detections: 100\n",
       "       use_static_shapes: false\n",
       "     }\n",
       "     score_converter: SIGMOID\n",
       "   }\n",
       "   normalize_loss_by_num_matches: true\n",
       "   loss {\n",
       "     localization_loss {\n",
       "       weighted_smooth_l1 {\n",
       "       }\n",
       "     }\n",
       "     classification_loss {\n",
       "       weighted_sigmoid_focal {\n",
       "         gamma: 2.0\n",
       "         alpha: 0.25\n",
       "       }\n",
       "     }\n",
       "     classification_weight: 1.0\n",
       "     localization_weight: 1.0\n",
       "   }\n",
       "   encode_background_as_zeros: true\n",
       "   normalize_loc_loss_by_codesize: true\n",
       "   inplace_batchnorm_update: true\n",
       "   freeze_batchnorm: false\n",
       " },\n",
       " 'train_config': batch_size: 128\n",
       " data_augmentation_options {\n",
       "   random_horizontal_flip {\n",
       "   }\n",
       " }\n",
       " data_augmentation_options {\n",
       "   random_crop_image {\n",
       "     min_object_covered: 0.0\n",
       "     min_aspect_ratio: 0.75\n",
       "     max_aspect_ratio: 3.0\n",
       "     min_area: 0.75\n",
       "     max_area: 1.0\n",
       "     overlap_thresh: 0.0\n",
       "   }\n",
       " }\n",
       " sync_replicas: true\n",
       " optimizer {\n",
       "   momentum_optimizer {\n",
       "     learning_rate {\n",
       "       cosine_decay_learning_rate {\n",
       "         learning_rate_base: 0.07999999821186066\n",
       "         total_steps: 50000\n",
       "         warmup_learning_rate: 0.026666000485420227\n",
       "         warmup_steps: 1000\n",
       "       }\n",
       "     }\n",
       "     momentum_optimizer_value: 0.8999999761581421\n",
       "   }\n",
       "   use_moving_average: false\n",
       " }\n",
       " fine_tune_checkpoint: \"PATH_TO_BE_CONFIGURED\"\n",
       " num_steps: 50000\n",
       " startup_delay_steps: 0.0\n",
       " replicas_to_aggregate: 8\n",
       " max_number_of_boxes: 100\n",
       " unpad_groundtruth_tensors: false\n",
       " fine_tune_checkpoint_type: \"classification\"\n",
       " fine_tune_checkpoint_version: V2,\n",
       " 'train_input_config': label_map_path: \"PATH_TO_BE_CONFIGURED\"\n",
       " tf_record_input_reader {\n",
       "   input_path: \"PATH_TO_BE_CONFIGURED\"\n",
       " },\n",
       " 'eval_config': metrics_set: \"coco_detection_metrics\"\n",
       " use_moving_averages: false,\n",
       " 'eval_input_configs': [label_map_path: \"PATH_TO_BE_CONFIGURED\"\n",
       " shuffle: false\n",
       " num_epochs: 1\n",
       " tf_record_input_reader {\n",
       "   input_path: \"PATH_TO_BE_CONFIGURED\"\n",
       " }\n",
       " ],\n",
       " 'eval_input_config': label_map_path: \"PATH_TO_BE_CONFIGURED\"\n",
       " shuffle: false\n",
       " num_epochs: 1\n",
       " tf_record_input_reader {\n",
       "   input_path: \"PATH_TO_BE_CONFIGURED\"\n",
       " }}"
      ]
     },
     "execution_count": 29,
     "metadata": {},
     "output_type": "execute_result"
    }
   ],
   "source": [
    "config"
   ]
  },
  {
   "cell_type": "code",
   "execution_count": 26,
   "metadata": {
    "id": "9vK5lotDpfDF"
   },
   "outputs": [],
   "source": [
    "pipeline_config = pipeline_pb2.TrainEvalPipelineConfig()\n",
    "with tf.io.gfile.GFile(files['PIPELINE_CONFIG'], \"r\") as f:                                                                                                                                                                                                                     \n",
    "    proto_str = f.read()                                                                                                                                                                                                                                          \n",
    "    text_format.Merge(proto_str, pipeline_config)  "
   ]
  },
  {
   "cell_type": "code",
   "execution_count": 27,
   "metadata": {
    "id": "rP43Ph0JpfDG"
   },
   "outputs": [],
   "source": [
    "pipeline_config.model.ssd.num_classes = len(labels)\n",
    "pipeline_config.train_config.batch_size = 4\n",
    "pipeline_config.train_config.fine_tune_checkpoint = os.path.join(paths['PRETRAINED_MODEL_PATH'], PRETRAINED_MODEL_NAME, 'checkpoint', 'ckpt-0')\n",
    "pipeline_config.train_config.fine_tune_checkpoint_type = \"detection\"\n",
    "pipeline_config.train_input_reader.label_map_path= files['LABELMAP']\n",
    "pipeline_config.train_input_reader.tf_record_input_reader.input_path[:] = [os.path.join(paths['ANNOTATION_PATH'], 'train.record')]\n",
    "pipeline_config.eval_input_reader[0].label_map_path = files['LABELMAP']\n",
    "pipeline_config.eval_input_reader[0].tf_record_input_reader.input_path[:] = [os.path.join(paths['ANNOTATION_PATH'], 'test.record')]"
   ]
  },
  {
   "cell_type": "code",
   "execution_count": 28,
   "metadata": {
    "id": "oJvfgwWqpfDG"
   },
   "outputs": [],
   "source": [
    "config_text = text_format.MessageToString(pipeline_config)                                                                                                                                                                                                        \n",
    "with tf.io.gfile.GFile(files['PIPELINE_CONFIG'], \"wb\") as f:                                                                                                                                                                                                                     \n",
    "    f.write(config_text)   "
   ]
  },
  {
   "cell_type": "markdown",
   "metadata": {
    "id": "Zr3ON7xMpfDG"
   },
   "source": [
    "# 6. Train the model"
   ]
  },
  {
   "cell_type": "code",
   "execution_count": 30,
   "metadata": {
    "id": "B-Y2UQmQpfDG"
   },
   "outputs": [],
   "source": [
    "TRAINING_SCRIPT = os.path.join(paths['APIMODEL_PATH'], 'research', 'object_detection', 'model_main_tf2.py')"
   ]
  },
  {
   "cell_type": "code",
   "execution_count": 31,
   "metadata": {
    "id": "jMP2XDfQpfDH"
   },
   "outputs": [],
   "source": [
    "command = \"python {} --model_dir={} --pipeline_config_path={} --num_train_steps=2000\".format(TRAINING_SCRIPT, paths['CHECKPOINT_PATH'],files['PIPELINE_CONFIG'])"
   ]
  },
  {
   "cell_type": "code",
   "execution_count": 32,
   "metadata": {
    "colab": {
     "base_uri": "https://localhost:8080/"
    },
    "id": "A4OXXi-ApfDH",
    "outputId": "117a0e83-012b-466e-b7a6-ccaa349ac5ab"
   },
   "outputs": [
    {
     "name": "stdout",
     "output_type": "stream",
     "text": [
      "python Tensorflow/models/research/object_detection/model_main_tf2.py --model_dir=Tensorflow/workspace/models/my_ssd_mobnet --pipeline_config_path=Tensorflow/workspace/models/my_ssd_mobnet/pipeline.config --num_train_steps=2000\n"
     ]
    }
   ],
   "source": [
    "print(command)"
   ]
  },
  {
   "cell_type": "code",
   "execution_count": 33,
   "metadata": {
    "colab": {
     "base_uri": "https://localhost:8080/"
    },
    "id": "i3ZsJR-qpfDH",
    "outputId": "cabec5e1-45e6-4f2f-d9cf-297d9c1d0225"
   },
   "outputs": [
    {
     "name": "stdout",
     "output_type": "stream",
     "text": [
      "2023-01-02 15:55:48.420747: I tensorflow/core/platform/cpu_feature_guard.cc:193] This TensorFlow binary is optimized with oneAPI Deep Neural Network Library (oneDNN) to use the following CPU instructions in performance-critical operations:  AVX2 FMA\n",
      "To enable them in other operations, rebuild TensorFlow with the appropriate compiler flags.\n",
      "2023-01-02 15:55:49.392868: W tensorflow/compiler/xla/stream_executor/platform/default/dso_loader.cc:64] Could not load dynamic library 'libnvinfer.so.7'; dlerror: libnvinfer.so.7: cannot open shared object file: No such file or directory\n",
      "2023-01-02 15:55:49.392966: W tensorflow/compiler/xla/stream_executor/platform/default/dso_loader.cc:64] Could not load dynamic library 'libnvinfer_plugin.so.7'; dlerror: libnvinfer_plugin.so.7: cannot open shared object file: No such file or directory\n",
      "2023-01-02 15:55:49.392980: W tensorflow/compiler/tf2tensorrt/utils/py_utils.cc:38] TF-TRT Warning: Cannot dlopen some TensorRT libraries. If you would like to use Nvidia GPU with TensorRT, please make sure the missing libraries mentioned above are installed properly.\n",
      "2023-01-02 15:55:51.235882: E tensorflow/compiler/xla/stream_executor/cuda/cuda_driver.cc:267] failed call to cuInit: CUDA_ERROR_NO_DEVICE: no CUDA-capable device is detected\n",
      "2023-01-02 15:55:51.235929: I tensorflow/compiler/xla/stream_executor/cuda/cuda_diagnostics.cc:156] kernel driver does not appear to be running on this host (Shivani): /proc/driver/nvidia/version does not exist\n",
      "2023-01-02 15:55:51.237033: I tensorflow/core/platform/cpu_feature_guard.cc:193] This TensorFlow binary is optimized with oneAPI Deep Neural Network Library (oneDNN) to use the following CPU instructions in performance-critical operations:  AVX2 FMA\n",
      "To enable them in other operations, rebuild TensorFlow with the appropriate compiler flags.\n",
      "WARNING:tensorflow:There are non-GPU devices in `tf.distribute.Strategy`, not using nccl allreduce.\n",
      "W0102 15:55:51.238097 140278498158400 cross_device_ops.py:1387] There are non-GPU devices in `tf.distribute.Strategy`, not using nccl allreduce.\n",
      "INFO:tensorflow:Using MirroredStrategy with devices ('/job:localhost/replica:0/task:0/device:CPU:0',)\n",
      "I0102 15:55:51.255541 140278498158400 mirrored_strategy.py:374] Using MirroredStrategy with devices ('/job:localhost/replica:0/task:0/device:CPU:0',)\n",
      "INFO:tensorflow:Maybe overwriting train_steps: 2000\n",
      "I0102 15:55:51.259704 140278498158400 config_util.py:552] Maybe overwriting train_steps: 2000\n",
      "INFO:tensorflow:Maybe overwriting use_bfloat16: False\n",
      "I0102 15:55:51.259837 140278498158400 config_util.py:552] Maybe overwriting use_bfloat16: False\n",
      "WARNING:tensorflow:From /home/shivani/PycharmProjects/obj-localization-animal/venv/lib/python3.8/site-packages/object_detection/model_lib_v2.py:563: StrategyBase.experimental_distribute_datasets_from_function (from tensorflow.python.distribute.distribute_lib) is deprecated and will be removed in a future version.\n",
      "Instructions for updating:\n",
      "rename to distribute_datasets_from_function\n",
      "W0102 15:55:51.285521 140278498158400 deprecation.py:350] From /home/shivani/PycharmProjects/obj-localization-animal/venv/lib/python3.8/site-packages/object_detection/model_lib_v2.py:563: StrategyBase.experimental_distribute_datasets_from_function (from tensorflow.python.distribute.distribute_lib) is deprecated and will be removed in a future version.\n",
      "Instructions for updating:\n",
      "rename to distribute_datasets_from_function\n",
      "INFO:tensorflow:Reading unweighted datasets: ['Tensorflow/workspace/annotations/train.record']\n",
      "I0102 15:55:51.295371 140278498158400 dataset_builder.py:162] Reading unweighted datasets: ['Tensorflow/workspace/annotations/train.record']\n",
      "INFO:tensorflow:Reading record datasets for input file: ['Tensorflow/workspace/annotations/train.record']\n",
      "I0102 15:55:51.295640 140278498158400 dataset_builder.py:79] Reading record datasets for input file: ['Tensorflow/workspace/annotations/train.record']\n",
      "INFO:tensorflow:Number of filenames to read: 1\n",
      "I0102 15:55:51.295749 140278498158400 dataset_builder.py:80] Number of filenames to read: 1\n",
      "WARNING:tensorflow:num_readers has been reduced to 1 to match input file shards.\n",
      "W0102 15:55:51.295856 140278498158400 dataset_builder.py:86] num_readers has been reduced to 1 to match input file shards.\n",
      "WARNING:tensorflow:From /home/shivani/PycharmProjects/obj-localization-animal/venv/lib/python3.8/site-packages/object_detection/builders/dataset_builder.py:100: parallel_interleave (from tensorflow.python.data.experimental.ops.interleave_ops) is deprecated and will be removed in a future version.\n",
      "Instructions for updating:\n",
      "Use `tf.data.Dataset.interleave(map_func, cycle_length, block_length, num_parallel_calls=tf.data.AUTOTUNE)` instead. If sloppy execution is desired, use `tf.data.Options.deterministic`.\n",
      "W0102 15:55:51.303600 140278498158400 deprecation.py:350] From /home/shivani/PycharmProjects/obj-localization-animal/venv/lib/python3.8/site-packages/object_detection/builders/dataset_builder.py:100: parallel_interleave (from tensorflow.python.data.experimental.ops.interleave_ops) is deprecated and will be removed in a future version.\n",
      "Instructions for updating:\n",
      "Use `tf.data.Dataset.interleave(map_func, cycle_length, block_length, num_parallel_calls=tf.data.AUTOTUNE)` instead. If sloppy execution is desired, use `tf.data.Options.deterministic`.\n",
      "WARNING:tensorflow:From /home/shivani/PycharmProjects/obj-localization-animal/venv/lib/python3.8/site-packages/object_detection/builders/dataset_builder.py:235: DatasetV1.map_with_legacy_function (from tensorflow.python.data.ops.dataset_ops) is deprecated and will be removed in a future version.\n",
      "Instructions for updating:\n",
      "Use `tf.data.Dataset.map()\n",
      "W0102 15:55:51.322631 140278498158400 deprecation.py:350] From /home/shivani/PycharmProjects/obj-localization-animal/venv/lib/python3.8/site-packages/object_detection/builders/dataset_builder.py:235: DatasetV1.map_with_legacy_function (from tensorflow.python.data.ops.dataset_ops) is deprecated and will be removed in a future version.\n",
      "Instructions for updating:\n",
      "Use `tf.data.Dataset.map()\n",
      "WARNING:tensorflow:From /home/shivani/PycharmProjects/obj-localization-animal/venv/lib/python3.8/site-packages/tensorflow/python/autograph/pyct/static_analysis/liveness.py:83: Analyzer.lamba_check (from tensorflow.python.autograph.pyct.static_analysis.liveness) is deprecated and will be removed after 2023-09-23.\n",
      "Instructions for updating:\n",
      "Lambda fuctions will be no more assumed to be used in the statement where they are used, or at least in the same block. https://github.com/tensorflow/tensorflow/issues/56089\n",
      "W0102 15:55:51.808994 140278498158400 deprecation.py:350] From /home/shivani/PycharmProjects/obj-localization-animal/venv/lib/python3.8/site-packages/tensorflow/python/autograph/pyct/static_analysis/liveness.py:83: Analyzer.lamba_check (from tensorflow.python.autograph.pyct.static_analysis.liveness) is deprecated and will be removed after 2023-09-23.\n",
      "Instructions for updating:\n",
      "Lambda fuctions will be no more assumed to be used in the statement where they are used, or at least in the same block. https://github.com/tensorflow/tensorflow/issues/56089\n",
      "WARNING:tensorflow:From /home/shivani/PycharmProjects/obj-localization-animal/venv/lib/python3.8/site-packages/tensorflow/python/util/dispatch.py:1176: sparse_to_dense (from tensorflow.python.ops.sparse_ops) is deprecated and will be removed in a future version.\n",
      "Instructions for updating:\n",
      "Create a `tf.sparse.SparseTensor` and use `tf.sparse.to_dense` instead.\n",
      "W0102 15:55:57.300011 140278498158400 deprecation.py:350] From /home/shivani/PycharmProjects/obj-localization-animal/venv/lib/python3.8/site-packages/tensorflow/python/util/dispatch.py:1176: sparse_to_dense (from tensorflow.python.ops.sparse_ops) is deprecated and will be removed in a future version.\n",
      "Instructions for updating:\n",
      "Create a `tf.sparse.SparseTensor` and use `tf.sparse.to_dense` instead.\n",
      "WARNING:tensorflow:From /home/shivani/PycharmProjects/obj-localization-animal/venv/lib/python3.8/site-packages/tensorflow/python/util/dispatch.py:1176: sample_distorted_bounding_box (from tensorflow.python.ops.image_ops_impl) is deprecated and will be removed in a future version.\n",
      "Instructions for updating:\n",
      "`seed2` arg is deprecated.Use sample_distorted_bounding_box_v2 instead.\n",
      "W0102 15:55:59.814574 140278498158400 deprecation.py:350] From /home/shivani/PycharmProjects/obj-localization-animal/venv/lib/python3.8/site-packages/tensorflow/python/util/dispatch.py:1176: sample_distorted_bounding_box (from tensorflow.python.ops.image_ops_impl) is deprecated and will be removed in a future version.\n",
      "Instructions for updating:\n",
      "`seed2` arg is deprecated.Use sample_distorted_bounding_box_v2 instead.\n"
     ]
    },
    {
     "name": "stdout",
     "output_type": "stream",
     "text": [
      "WARNING:tensorflow:From /home/shivani/PycharmProjects/obj-localization-animal/venv/lib/python3.8/site-packages/tensorflow/python/util/dispatch.py:1176: to_float (from tensorflow.python.ops.math_ops) is deprecated and will be removed in a future version.\n",
      "Instructions for updating:\n",
      "Use `tf.cast` instead.\n",
      "W0102 15:56:01.200296 140278498158400 deprecation.py:350] From /home/shivani/PycharmProjects/obj-localization-animal/venv/lib/python3.8/site-packages/tensorflow/python/util/dispatch.py:1176: to_float (from tensorflow.python.ops.math_ops) is deprecated and will be removed in a future version.\n",
      "Instructions for updating:\n",
      "Use `tf.cast` instead.\n",
      "2023-01-02 15:56:03.478251: W tensorflow/core/framework/dataset.cc:769] Input of GeneratorDatasetOp::Dataset will not be optimized because the dataset does not implement the AsGraphDefInternal() method needed to apply optimizations.\n",
      "/home/shivani/PycharmProjects/obj-localization-animal/venv/lib/python3.8/site-packages/keras/backend.py:451: UserWarning: `tf.keras.backend.set_learning_phase` is deprecated and will be removed after 2020-10-11. To update it, simply pass a True/False value to the `training` argument of the `__call__` method of your layer or model.\n",
      "  warnings.warn(\n",
      "WARNING:tensorflow:From /home/shivani/PycharmProjects/obj-localization-animal/venv/lib/python3.8/site-packages/tensorflow/python/util/deprecation.py:629: calling map_fn_v2 (from tensorflow.python.ops.map_fn) with dtype is deprecated and will be removed in a future version.\n",
      "Instructions for updating:\n",
      "Use fn_output_signature instead\n",
      "W0102 15:56:22.862425 140275510933248 deprecation.py:554] From /home/shivani/PycharmProjects/obj-localization-animal/venv/lib/python3.8/site-packages/tensorflow/python/util/deprecation.py:629: calling map_fn_v2 (from tensorflow.python.ops.map_fn) with dtype is deprecated and will be removed in a future version.\n",
      "Instructions for updating:\n",
      "Use fn_output_signature instead\n",
      "INFO:tensorflow:Step 100 per-step time 1.159s\n",
      "I0102 15:58:18.462318 140278498158400 model_lib_v2.py:705] Step 100 per-step time 1.159s\n",
      "INFO:tensorflow:{'Loss/classification_loss': 0.32092974,\n",
      " 'Loss/localization_loss': 0.3480013,\n",
      " 'Loss/regularization_loss': 0.15439612,\n",
      " 'Loss/total_loss': 0.8233272,\n",
      " 'learning_rate': 0.0319994}\n",
      "I0102 15:58:18.462632 140278498158400 model_lib_v2.py:708] {'Loss/classification_loss': 0.32092974,\n",
      " 'Loss/localization_loss': 0.3480013,\n",
      " 'Loss/regularization_loss': 0.15439612,\n",
      " 'Loss/total_loss': 0.8233272,\n",
      " 'learning_rate': 0.0319994}\n",
      "INFO:tensorflow:Step 200 per-step time 0.900s\n",
      "I0102 15:59:48.485869 140278498158400 model_lib_v2.py:705] Step 200 per-step time 0.900s\n",
      "INFO:tensorflow:{'Loss/classification_loss': 0.25241494,\n",
      " 'Loss/localization_loss': 0.12309425,\n",
      " 'Loss/regularization_loss': 0.15454829,\n",
      " 'Loss/total_loss': 0.5300575,\n",
      " 'learning_rate': 0.0373328}\n",
      "I0102 15:59:48.486104 140278498158400 model_lib_v2.py:708] {'Loss/classification_loss': 0.25241494,\n",
      " 'Loss/localization_loss': 0.12309425,\n",
      " 'Loss/regularization_loss': 0.15454829,\n",
      " 'Loss/total_loss': 0.5300575,\n",
      " 'learning_rate': 0.0373328}\n",
      "INFO:tensorflow:Step 300 per-step time 0.794s\n",
      "I0102 16:01:07.863520 140278498158400 model_lib_v2.py:705] Step 300 per-step time 0.794s\n",
      "INFO:tensorflow:{'Loss/classification_loss': 0.18212724,\n",
      " 'Loss/localization_loss': 0.1039965,\n",
      " 'Loss/regularization_loss': 0.15452303,\n",
      " 'Loss/total_loss': 0.44064677,\n",
      " 'learning_rate': 0.0426662}\n",
      "I0102 16:01:07.863703 140278498158400 model_lib_v2.py:708] {'Loss/classification_loss': 0.18212724,\n",
      " 'Loss/localization_loss': 0.1039965,\n",
      " 'Loss/regularization_loss': 0.15452303,\n",
      " 'Loss/total_loss': 0.44064677,\n",
      " 'learning_rate': 0.0426662}\n",
      "INFO:tensorflow:Step 400 per-step time 0.793s\n",
      "I0102 16:02:27.174757 140278498158400 model_lib_v2.py:705] Step 400 per-step time 0.793s\n",
      "INFO:tensorflow:{'Loss/classification_loss': 0.264004,\n",
      " 'Loss/localization_loss': 0.11550455,\n",
      " 'Loss/regularization_loss': 0.15449432,\n",
      " 'Loss/total_loss': 0.53400284,\n",
      " 'learning_rate': 0.047999598}\n",
      "I0102 16:02:27.174964 140278498158400 model_lib_v2.py:708] {'Loss/classification_loss': 0.264004,\n",
      " 'Loss/localization_loss': 0.11550455,\n",
      " 'Loss/regularization_loss': 0.15449432,\n",
      " 'Loss/total_loss': 0.53400284,\n",
      " 'learning_rate': 0.047999598}\n",
      "INFO:tensorflow:Step 500 per-step time 0.791s\n",
      "I0102 16:03:46.274769 140278498158400 model_lib_v2.py:705] Step 500 per-step time 0.791s\n",
      "INFO:tensorflow:{'Loss/classification_loss': 0.11724396,\n",
      " 'Loss/localization_loss': 0.09888739,\n",
      " 'Loss/regularization_loss': 0.15457952,\n",
      " 'Loss/total_loss': 0.37071085,\n",
      " 'learning_rate': 0.053333}\n",
      "I0102 16:03:46.274984 140278498158400 model_lib_v2.py:708] {'Loss/classification_loss': 0.11724396,\n",
      " 'Loss/localization_loss': 0.09888739,\n",
      " 'Loss/regularization_loss': 0.15457952,\n",
      " 'Loss/total_loss': 0.37071085,\n",
      " 'learning_rate': 0.053333}\n",
      "INFO:tensorflow:Step 600 per-step time 0.787s\n",
      "I0102 16:05:04.948591 140278498158400 model_lib_v2.py:705] Step 600 per-step time 0.787s\n",
      "INFO:tensorflow:{'Loss/classification_loss': 0.16207841,\n",
      " 'Loss/localization_loss': 0.12190882,\n",
      " 'Loss/regularization_loss': 0.15452138,\n",
      " 'Loss/total_loss': 0.4385086,\n",
      " 'learning_rate': 0.0586664}\n",
      "I0102 16:05:04.948850 140278498158400 model_lib_v2.py:708] {'Loss/classification_loss': 0.16207841,\n",
      " 'Loss/localization_loss': 0.12190882,\n",
      " 'Loss/regularization_loss': 0.15452138,\n",
      " 'Loss/total_loss': 0.4385086,\n",
      " 'learning_rate': 0.0586664}\n",
      "INFO:tensorflow:Step 700 per-step time 0.842s\n",
      "I0102 16:06:29.184338 140278498158400 model_lib_v2.py:705] Step 700 per-step time 0.842s\n",
      "INFO:tensorflow:{'Loss/classification_loss': 0.124465205,\n",
      " 'Loss/localization_loss': 0.08676835,\n",
      " 'Loss/regularization_loss': 0.15447856,\n",
      " 'Loss/total_loss': 0.36571214,\n",
      " 'learning_rate': 0.0639998}\n",
      "I0102 16:06:29.184579 140278498158400 model_lib_v2.py:708] {'Loss/classification_loss': 0.124465205,\n",
      " 'Loss/localization_loss': 0.08676835,\n",
      " 'Loss/regularization_loss': 0.15447856,\n",
      " 'Loss/total_loss': 0.36571214,\n",
      " 'learning_rate': 0.0639998}\n",
      "INFO:tensorflow:Step 800 per-step time 0.898s\n",
      "I0102 16:07:58.980859 140278498158400 model_lib_v2.py:705] Step 800 per-step time 0.898s\n",
      "INFO:tensorflow:{'Loss/classification_loss': 0.09289285,\n",
      " 'Loss/localization_loss': 0.06075002,\n",
      " 'Loss/regularization_loss': 0.15455116,\n",
      " 'Loss/total_loss': 0.308194,\n",
      " 'learning_rate': 0.069333196}\n",
      "I0102 16:07:58.981091 140278498158400 model_lib_v2.py:708] {'Loss/classification_loss': 0.09289285,\n",
      " 'Loss/localization_loss': 0.06075002,\n",
      " 'Loss/regularization_loss': 0.15455116,\n",
      " 'Loss/total_loss': 0.308194,\n",
      " 'learning_rate': 0.069333196}\n",
      "INFO:tensorflow:Step 900 per-step time 0.842s\n",
      "I0102 16:09:23.139616 140278498158400 model_lib_v2.py:705] Step 900 per-step time 0.842s\n",
      "INFO:tensorflow:{'Loss/classification_loss': 0.2601906,\n",
      " 'Loss/localization_loss': 0.029709492,\n",
      " 'Loss/regularization_loss': 0.1545603,\n",
      " 'Loss/total_loss': 0.4444604,\n",
      " 'learning_rate': 0.074666604}\n",
      "I0102 16:09:23.139803 140278498158400 model_lib_v2.py:708] {'Loss/classification_loss': 0.2601906,\n",
      " 'Loss/localization_loss': 0.029709492,\n",
      " 'Loss/regularization_loss': 0.1545603,\n",
      " 'Loss/total_loss': 0.4444604,\n",
      " 'learning_rate': 0.074666604}\n",
      "INFO:tensorflow:Step 1000 per-step time 0.797s\n",
      "I0102 16:10:42.827062 140278498158400 model_lib_v2.py:705] Step 1000 per-step time 0.797s\n",
      "INFO:tensorflow:{'Loss/classification_loss': 0.11727602,\n",
      " 'Loss/localization_loss': 0.075715154,\n",
      " 'Loss/regularization_loss': 0.15430713,\n",
      " 'Loss/total_loss': 0.3472983,\n",
      " 'learning_rate': 0.08}\n",
      "I0102 16:10:42.827255 140278498158400 model_lib_v2.py:708] {'Loss/classification_loss': 0.11727602,\n",
      " 'Loss/localization_loss': 0.075715154,\n",
      " 'Loss/regularization_loss': 0.15430713,\n",
      " 'Loss/total_loss': 0.3472983,\n",
      " 'learning_rate': 0.08}\n",
      "INFO:tensorflow:Step 1100 per-step time 0.848s\n",
      "I0102 16:12:07.667219 140278498158400 model_lib_v2.py:705] Step 1100 per-step time 0.848s\n",
      "INFO:tensorflow:{'Loss/classification_loss': 0.10707899,\n",
      " 'Loss/localization_loss': 0.06693374,\n",
      " 'Loss/regularization_loss': 0.1539913,\n",
      " 'Loss/total_loss': 0.32800403,\n",
      " 'learning_rate': 0.07999918}\n",
      "I0102 16:12:07.667432 140278498158400 model_lib_v2.py:708] {'Loss/classification_loss': 0.10707899,\n",
      " 'Loss/localization_loss': 0.06693374,\n",
      " 'Loss/regularization_loss': 0.1539913,\n",
      " 'Loss/total_loss': 0.32800403,\n",
      " 'learning_rate': 0.07999918}\n"
     ]
    },
    {
     "name": "stdout",
     "output_type": "stream",
     "text": [
      "INFO:tensorflow:Step 1200 per-step time 0.849s\n",
      "I0102 16:13:32.543148 140278498158400 model_lib_v2.py:705] Step 1200 per-step time 0.849s\n",
      "INFO:tensorflow:{'Loss/classification_loss': 0.10901189,\n",
      " 'Loss/localization_loss': 0.06568232,\n",
      " 'Loss/regularization_loss': 0.15358397,\n",
      " 'Loss/total_loss': 0.32827818,\n",
      " 'learning_rate': 0.079996705}\n",
      "I0102 16:13:32.543337 140278498158400 model_lib_v2.py:708] {'Loss/classification_loss': 0.10901189,\n",
      " 'Loss/localization_loss': 0.06568232,\n",
      " 'Loss/regularization_loss': 0.15358397,\n",
      " 'Loss/total_loss': 0.32827818,\n",
      " 'learning_rate': 0.079996705}\n",
      "INFO:tensorflow:Step 1300 per-step time 0.801s\n",
      "I0102 16:14:52.602404 140278498158400 model_lib_v2.py:705] Step 1300 per-step time 0.801s\n",
      "INFO:tensorflow:{'Loss/classification_loss': 0.1072986,\n",
      " 'Loss/localization_loss': 0.091243215,\n",
      " 'Loss/regularization_loss': 0.15324885,\n",
      " 'Loss/total_loss': 0.35179067,\n",
      " 'learning_rate': 0.0799926}\n",
      "I0102 16:14:52.602661 140278498158400 model_lib_v2.py:708] {'Loss/classification_loss': 0.1072986,\n",
      " 'Loss/localization_loss': 0.091243215,\n",
      " 'Loss/regularization_loss': 0.15324885,\n",
      " 'Loss/total_loss': 0.35179067,\n",
      " 'learning_rate': 0.0799926}\n",
      "INFO:tensorflow:Step 1400 per-step time 0.812s\n",
      "I0102 16:16:13.769205 140278498158400 model_lib_v2.py:705] Step 1400 per-step time 0.812s\n",
      "INFO:tensorflow:{'Loss/classification_loss': 0.08332665,\n",
      " 'Loss/localization_loss': 0.02004366,\n",
      " 'Loss/regularization_loss': 0.15265912,\n",
      " 'Loss/total_loss': 0.25602943,\n",
      " 'learning_rate': 0.07998685}\n",
      "I0102 16:16:13.769438 140278498158400 model_lib_v2.py:708] {'Loss/classification_loss': 0.08332665,\n",
      " 'Loss/localization_loss': 0.02004366,\n",
      " 'Loss/regularization_loss': 0.15265912,\n",
      " 'Loss/total_loss': 0.25602943,\n",
      " 'learning_rate': 0.07998685}\n",
      "INFO:tensorflow:Step 1500 per-step time 0.857s\n",
      "I0102 16:17:39.445579 140278498158400 model_lib_v2.py:705] Step 1500 per-step time 0.857s\n",
      "INFO:tensorflow:{'Loss/classification_loss': 0.071474,\n",
      " 'Loss/localization_loss': 0.021155972,\n",
      " 'Loss/regularization_loss': 0.15196742,\n",
      " 'Loss/total_loss': 0.24459739,\n",
      " 'learning_rate': 0.07997945}\n",
      "I0102 16:17:39.445771 140278498158400 model_lib_v2.py:708] {'Loss/classification_loss': 0.071474,\n",
      " 'Loss/localization_loss': 0.021155972,\n",
      " 'Loss/regularization_loss': 0.15196742,\n",
      " 'Loss/total_loss': 0.24459739,\n",
      " 'learning_rate': 0.07997945}\n",
      "INFO:tensorflow:Step 1600 per-step time 0.821s\n",
      "I0102 16:19:01.559547 140278498158400 model_lib_v2.py:705] Step 1600 per-step time 0.821s\n",
      "INFO:tensorflow:{'Loss/classification_loss': 0.08355828,\n",
      " 'Loss/localization_loss': 0.03352549,\n",
      " 'Loss/regularization_loss': 0.15132123,\n",
      " 'Loss/total_loss': 0.268405,\n",
      " 'learning_rate': 0.079970405}\n",
      "I0102 16:19:01.559739 140278498158400 model_lib_v2.py:708] {'Loss/classification_loss': 0.08355828,\n",
      " 'Loss/localization_loss': 0.03352549,\n",
      " 'Loss/regularization_loss': 0.15132123,\n",
      " 'Loss/total_loss': 0.268405,\n",
      " 'learning_rate': 0.079970405}\n",
      "INFO:tensorflow:Step 1700 per-step time 0.868s\n",
      "I0102 16:20:28.320456 140278498158400 model_lib_v2.py:705] Step 1700 per-step time 0.868s\n",
      "INFO:tensorflow:{'Loss/classification_loss': 0.08306288,\n",
      " 'Loss/localization_loss': 0.018571204,\n",
      " 'Loss/regularization_loss': 0.15080498,\n",
      " 'Loss/total_loss': 0.25243905,\n",
      " 'learning_rate': 0.07995972}\n",
      "I0102 16:20:28.320697 140278498158400 model_lib_v2.py:708] {'Loss/classification_loss': 0.08306288,\n",
      " 'Loss/localization_loss': 0.018571204,\n",
      " 'Loss/regularization_loss': 0.15080498,\n",
      " 'Loss/total_loss': 0.25243905,\n",
      " 'learning_rate': 0.07995972}\n",
      "INFO:tensorflow:Step 1800 per-step time 0.809s\n",
      "I0102 16:21:49.178550 140278498158400 model_lib_v2.py:705] Step 1800 per-step time 0.809s\n",
      "INFO:tensorflow:{'Loss/classification_loss': 0.06858176,\n",
      " 'Loss/localization_loss': 0.031754624,\n",
      " 'Loss/regularization_loss': 0.15009284,\n",
      " 'Loss/total_loss': 0.2504292,\n",
      " 'learning_rate': 0.0799474}\n",
      "I0102 16:21:49.178753 140278498158400 model_lib_v2.py:708] {'Loss/classification_loss': 0.06858176,\n",
      " 'Loss/localization_loss': 0.031754624,\n",
      " 'Loss/regularization_loss': 0.15009284,\n",
      " 'Loss/total_loss': 0.2504292,\n",
      " 'learning_rate': 0.0799474}\n",
      "INFO:tensorflow:Step 1900 per-step time 0.979s\n",
      "I0102 16:23:27.079727 140278498158400 model_lib_v2.py:705] Step 1900 per-step time 0.979s\n",
      "INFO:tensorflow:{'Loss/classification_loss': 0.061263576,\n",
      " 'Loss/localization_loss': 0.045388505,\n",
      " 'Loss/regularization_loss': 0.14942804,\n",
      " 'Loss/total_loss': 0.25608012,\n",
      " 'learning_rate': 0.07993342}\n",
      "I0102 16:23:27.079920 140278498158400 model_lib_v2.py:708] {'Loss/classification_loss': 0.061263576,\n",
      " 'Loss/localization_loss': 0.045388505,\n",
      " 'Loss/regularization_loss': 0.14942804,\n",
      " 'Loss/total_loss': 0.25608012,\n",
      " 'learning_rate': 0.07993342}\n",
      "INFO:tensorflow:Step 2000 per-step time 0.891s\n",
      "I0102 16:24:56.190596 140278498158400 model_lib_v2.py:705] Step 2000 per-step time 0.891s\n",
      "INFO:tensorflow:{'Loss/classification_loss': 0.051688325,\n",
      " 'Loss/localization_loss': 0.03071211,\n",
      " 'Loss/regularization_loss': 0.14868757,\n",
      " 'Loss/total_loss': 0.23108801,\n",
      " 'learning_rate': 0.07991781}\n",
      "I0102 16:24:56.190782 140278498158400 model_lib_v2.py:708] {'Loss/classification_loss': 0.051688325,\n",
      " 'Loss/localization_loss': 0.03071211,\n",
      " 'Loss/regularization_loss': 0.14868757,\n",
      " 'Loss/total_loss': 0.23108801,\n",
      " 'learning_rate': 0.07991781}\n"
     ]
    }
   ],
   "source": [
    "!{command}"
   ]
  },
  {
   "cell_type": "markdown",
   "metadata": {
    "id": "4_YRZu7npfDH"
   },
   "source": [
    "# 7. Evaluate the Model"
   ]
  },
  {
   "cell_type": "code",
   "execution_count": 34,
   "metadata": {
    "id": "80L7-fdPpfDH"
   },
   "outputs": [],
   "source": [
    "command = \"python {} --model_dir={} --pipeline_config_path={} --checkpoint_dir={}\".format(TRAINING_SCRIPT, paths['CHECKPOINT_PATH'],files['PIPELINE_CONFIG'], paths['CHECKPOINT_PATH'])"
   ]
  },
  {
   "cell_type": "code",
   "execution_count": 35,
   "metadata": {
    "colab": {
     "base_uri": "https://localhost:8080/"
    },
    "id": "lYsgEPx9pfDH",
    "outputId": "8632d48b-91d2-45d9-bcb8-c1b172bf6eed"
   },
   "outputs": [
    {
     "name": "stdout",
     "output_type": "stream",
     "text": [
      "python Tensorflow/models/research/object_detection/model_main_tf2.py --model_dir=Tensorflow/workspace/models/my_ssd_mobnet --pipeline_config_path=Tensorflow/workspace/models/my_ssd_mobnet/pipeline.config --checkpoint_dir=Tensorflow/workspace/models/my_ssd_mobnet\n"
     ]
    }
   ],
   "source": [
    "print(command)"
   ]
  },
  {
   "cell_type": "code",
   "execution_count": 37,
   "metadata": {
    "id": "lqTV2jGBpfDH"
   },
   "outputs": [
    {
     "name": "stdout",
     "output_type": "stream",
     "text": [
      "2023-01-02 16:30:26.484764: I tensorflow/core/platform/cpu_feature_guard.cc:193] This TensorFlow binary is optimized with oneAPI Deep Neural Network Library (oneDNN) to use the following CPU instructions in performance-critical operations:  AVX2 FMA\n",
      "To enable them in other operations, rebuild TensorFlow with the appropriate compiler flags.\n",
      "2023-01-02 16:30:27.444021: W tensorflow/compiler/xla/stream_executor/platform/default/dso_loader.cc:64] Could not load dynamic library 'libnvinfer.so.7'; dlerror: libnvinfer.so.7: cannot open shared object file: No such file or directory\n",
      "2023-01-02 16:30:27.444093: W tensorflow/compiler/xla/stream_executor/platform/default/dso_loader.cc:64] Could not load dynamic library 'libnvinfer_plugin.so.7'; dlerror: libnvinfer_plugin.so.7: cannot open shared object file: No such file or directory\n",
      "2023-01-02 16:30:27.444107: W tensorflow/compiler/tf2tensorrt/utils/py_utils.cc:38] TF-TRT Warning: Cannot dlopen some TensorRT libraries. If you would like to use Nvidia GPU with TensorRT, please make sure the missing libraries mentioned above are installed properly.\n",
      "^C\n",
      "Traceback (most recent call last):\n",
      "  File \"Tensorflow/models/research/object_detection/model_main_tf2.py\", line 31, in <module>\n",
      "    from object_detection import model_lib_v2\n",
      "  File \"/home/shivani/PycharmProjects/obj-localization-animal/venv/lib/python3.8/site-packages/object_detection/model_lib_v2.py\", line 29, in <module>\n",
      "    from object_detection import eval_util\n",
      "  File \"/home/shivani/PycharmProjects/obj-localization-animal/venv/lib/python3.8/site-packages/object_detection/eval_util.py\", line 29, in <module>\n",
      "    import tf_slim as slim\n",
      "  File \"/home/shivani/PycharmProjects/obj-localization-animal/venv/lib/python3.8/site-packages/tf_slim/__init__.py\", line 45, in <module>\n",
      "    import tf_slim.losses as losses\n",
      "  File \"/home/shivani/PycharmProjects/obj-localization-animal/venv/lib/python3.8/site-packages/tf_slim/losses/__init__.py\", line 27, in <module>\n",
      "    from tf_slim.losses import metric_learning\n",
      "  File \"/home/shivani/PycharmProjects/obj-localization-animal/venv/lib/python3.8/site-packages/tf_slim/losses/metric_learning.py\", line 39, in <module>\n",
      "    metrics = importlib.import_module('sklearn.metrics')  # type: ignore\n",
      "  File \"/usr/lib/python3.8/importlib/__init__.py\", line 127, in import_module\n",
      "    return _bootstrap._gcd_import(name[level:], package, level)\n",
      "  File \"/home/shivani/PycharmProjects/obj-localization-animal/venv/lib/python3.8/site-packages/sklearn/metrics/__init__.py\", line 7, in <module>\n",
      "    from ._ranking import auc\n",
      "  File \"/home/shivani/PycharmProjects/obj-localization-animal/venv/lib/python3.8/site-packages/sklearn/metrics/_ranking.py\", line 35, in <module>\n",
      "    from ..utils.sparsefuncs import count_nonzero\n",
      "  File \"<frozen importlib._bootstrap>\", line 991, in _find_and_load\n",
      "  File \"<frozen importlib._bootstrap>\", line 975, in _find_and_load_unlocked\n",
      "  File \"<frozen importlib._bootstrap>\", line 671, in _load_unlocked\n",
      "  File \"<frozen importlib._bootstrap_external>\", line 844, in exec_module\n",
      "  File \"<frozen importlib._bootstrap_external>\", line 939, in get_code\n",
      "  File \"<frozen importlib._bootstrap_external>\", line 1037, in get_data\n",
      "KeyboardInterrupt\n"
     ]
    }
   ],
   "source": [
    "!{command}"
   ]
  },
  {
   "cell_type": "markdown",
   "metadata": {
    "id": "orvRk02UpfDI"
   },
   "source": [
    "# 8. Load Train Model From Checkpoint"
   ]
  },
  {
   "cell_type": "code",
   "execution_count": 38,
   "metadata": {
    "id": "8TYk4_oIpfDI"
   },
   "outputs": [],
   "source": [
    "import os\n",
    "import tensorflow as tf\n",
    "from object_detection.utils import label_map_util\n",
    "from object_detection.utils import visualization_utils as viz_utils\n",
    "from object_detection.builders import model_builder\n",
    "from object_detection.utils import config_util"
   ]
  },
  {
   "cell_type": "code",
   "execution_count": 58,
   "metadata": {
    "id": "tDnQg-cYpfDI"
   },
   "outputs": [],
   "source": [
    "# Load pipeline config and build a detection model\n",
    "configs = config_util.get_configs_from_pipeline_file(files['PIPELINE_CONFIG'])\n",
    "detection_model = model_builder.build(model_config=configs['model'], is_training=False)\n",
    "\n",
    "# Restore checkpoint\n",
    "ckpt = tf.compat.v2.train.Checkpoint(model=detection_model)\n",
    "ckpt.restore(os.path.join(paths['CHECKPOINT_PATH'], 'ckpt-3')).expect_partial()\n",
    "\n",
    "@tf.function\n",
    "def detect_fn(image):\n",
    "    image, shapes = detection_model.preprocess(image)\n",
    "    prediction_dict = detection_model.predict(image, shapes)\n",
    "    detections = detection_model.postprocess(prediction_dict, shapes)\n",
    "    return detections"
   ]
  },
  {
   "cell_type": "markdown",
   "metadata": {
    "id": "0EmsmbBZpfDI"
   },
   "source": [
    "# 9. Detect from an Image"
   ]
  },
  {
   "cell_type": "code",
   "execution_count": 59,
   "metadata": {
    "id": "Y_MKiuZ4pfDI"
   },
   "outputs": [],
   "source": [
    "import cv2 \n",
    "import numpy as np\n",
    "from matplotlib import pyplot as plt\n",
    "%matplotlib inline"
   ]
  },
  {
   "cell_type": "code",
   "execution_count": 60,
   "metadata": {
    "id": "cBDbIhNapfDI"
   },
   "outputs": [],
   "source": [
    "category_index = label_map_util.create_category_index_from_labelmap(files['LABELMAP'])"
   ]
  },
  {
   "cell_type": "code",
   "execution_count": 109,
   "metadata": {
    "id": "Lx3crOhOzITB"
   },
   "outputs": [],
   "source": [
    "IMAGE_PATH = os.path.join(paths['IMAGE_PATH'], 'test', 'download (1).jpeg')"
   ]
  },
  {
   "cell_type": "code",
   "execution_count": 110,
   "metadata": {
    "colab": {
     "base_uri": "https://localhost:8080/",
     "height": 269
    },
    "id": "Tpzn1SMry1yK",
    "outputId": "c392a2c5-10fe-4fc4-9998-a1d4c7db2bd3"
   },
   "outputs": [
    {
     "data": {
      "image/png": "[encoded data removed]",
      "text/plain": [
       "<Figure size 640x480 with 1 Axes>"
      ]
     },
     "metadata": {},
     "output_type": "display_data"
    }
   ],
   "source": [
    "img = cv2.imread(IMAGE_PATH)\n",
    "image_np = np.array(img)\n",
    "\n",
    "input_tensor = tf.convert_to_tensor(np.expand_dims(image_np, 0), dtype=tf.float32)\n",
    "detections = detect_fn(input_tensor)\n",
    "\n",
    "num_detections = int(detections.pop('num_detections'))\n",
    "detections = {key: value[0, :num_detections].numpy()\n",
    "              for key, value in detections.items()}\n",
    "detections['num_detections'] = num_detections\n",
    "\n",
    "# detection_classes should be ints.\n",
    "detections['detection_classes'] = detections['detection_classes'].astype(np.int64)\n",
    "\n",
    "label_id_offset = 1\n",
    "image_np_with_detections = image_np.copy()\n",
    "\n",
    "viz_utils.visualize_boxes_and_labels_on_image_array(\n",
    "            image_np_with_detections,\n",
    "            detections['detection_boxes'],\n",
    "            detections['detection_classes']+label_id_offset,\n",
    "            detections['detection_scores'],\n",
    "            category_index,\n",
    "            use_normalized_coordinates=True,\n",
    "            max_boxes_to_draw=5,\n",
    "            min_score_thresh=.8,\n",
    "            agnostic_mode=False)\n",
    "\n",
    "plt.imshow(cv2.cvtColor(image_np_with_detections, cv2.COLOR_BGR2RGB))\n",
    "plt.show()"
   ]
  },
  {
   "cell_type": "markdown",
   "metadata": {
    "id": "IsNAaYAo0WVL"
   },
   "source": [
    "# 10. Real Time Detections from your Webcam"
   ]
  },
  {
   "cell_type": "code",
   "execution_count": 111,
   "metadata": {},
   "outputs": [
    {
     "name": "stdout",
     "output_type": "stream",
     "text": [
      "Found existing installation: opencv-python-headless 4.7.0.68\n",
      "Uninstalling opencv-python-headless-4.7.0.68:\n",
      "  Successfully uninstalled opencv-python-headless-4.7.0.68\n"
     ]
    }
   ],
   "source": [
    "!pip uninstall opencv-python-headless -y"
   ]
  },
  {
   "cell_type": "code",
   "execution_count": 112,
   "metadata": {
    "id": "o_grs6OGpfDJ"
   },
   "outputs": [
    {
     "name": "stderr",
     "output_type": "stream",
     "text": [
      "[ WARN:0@939.955] global cap_v4l.cpp:982 open VIDEOIO(V4L2:/dev/video0): can't open camera by index\n",
      "[ERROR:0@939.956] global obsensor_uvc_stream_channel.cpp:156 getStreamChannelGroup Camera index out of range\n"
     ]
    }
   ],
   "source": [
    "cap = cv2.VideoCapture(0)\n",
    "width = int(cap.get(cv2.CAP_PROP_FRAME_WIDTH))\n",
    "height = int(cap.get(cv2.CAP_PROP_FRAME_HEIGHT))\n",
    "\n",
    "while cap.isOpened(): \n",
    "    ret, frame = cap.read()\n",
    "    image_np = np.array(frame)\n",
    "    \n",
    "    input_tensor = tf.convert_to_tensor(np.expand_dims(image_np, 0), dtype=tf.float32)\n",
    "    detections = detect_fn(input_tensor)\n",
    "    \n",
    "    num_detections = int(detections.pop('num_detections'))\n",
    "    detections = {key: value[0, :num_detections].numpy()\n",
    "                  for key, value in detections.items()}\n",
    "    detections['num_detections'] = num_detections\n",
    "\n",
    "    # detection_classes should be ints.\n",
    "    detections['detection_classes'] = detections['detection_classes'].astype(np.int64)\n",
    "\n",
    "    label_id_offset = 1\n",
    "    image_np_with_detections = image_np.copy()\n",
    "\n",
    "    viz_utils.visualize_boxes_and_labels_on_image_array(\n",
    "                image_np_with_detections,\n",
    "                detections['detection_boxes'],\n",
    "                detections['detection_classes']+label_id_offset,\n",
    "                detections['detection_scores'],\n",
    "                category_index,\n",
    "                use_normalized_coordinates=True,\n",
    "                max_boxes_to_draw=5,\n",
    "                min_score_thresh=.8,\n",
    "                agnostic_mode=False)\n",
    "\n",
    "    cv2.imshow('object detection',  cv2.resize(image_np_with_detections, (800, 600)))\n",
    "    \n",
    "    if cv2.waitKey(10) & 0xFF == ord('q'):\n",
    "        cap.release()\n",
    "        cv2.destroyAllWindows()\n",
    "        break"
   ]
  },
  {
   "cell_type": "markdown",
   "metadata": {
    "id": "rzlM4jt0pfDJ"
   },
   "source": [
    "# 10. Freezing the Graph"
   ]
  },
  {
   "cell_type": "code",
   "execution_count": 113,
   "metadata": {
    "id": "n4olHB2npfDJ"
   },
   "outputs": [],
   "source": [
    "FREEZE_SCRIPT = os.path.join(paths['APIMODEL_PATH'], 'research', 'object_detection', 'exporter_main_v2.py ')"
   ]
  },
  {
   "cell_type": "code",
   "execution_count": 114,
   "metadata": {
    "id": "0AjO93QDpfDJ"
   },
   "outputs": [],
   "source": [
    "command = \"python {} --input_type=image_tensor --pipeline_config_path={} --trained_checkpoint_dir={} --output_directory={}\".format(FREEZE_SCRIPT ,files['PIPELINE_CONFIG'], paths['CHECKPOINT_PATH'], paths['OUTPUT_PATH'])"
   ]
  },
  {
   "cell_type": "code",
   "execution_count": 115,
   "metadata": {
    "colab": {
     "base_uri": "https://localhost:8080/"
    },
    "id": "F6Lsp3tCpfDJ",
    "outputId": "c3828529-bf06-4df5-d7f3-145890ec3edd"
   },
   "outputs": [
    {
     "name": "stdout",
     "output_type": "stream",
     "text": [
      "python Tensorflow/models/research/object_detection/exporter_main_v2.py  --input_type=image_tensor --pipeline_config_path=Tensorflow/workspace/models/my_ssd_mobnet/pipeline.config --trained_checkpoint_dir=Tensorflow/workspace/models/my_ssd_mobnet --output_directory=Tensorflow/workspace/models/my_ssd_mobnet/export\n"
     ]
    }
   ],
   "source": [
    "print(command)"
   ]
  },
  {
   "cell_type": "code",
   "execution_count": 116,
   "metadata": {
    "colab": {
     "base_uri": "https://localhost:8080/"
    },
    "id": "1Sw1ULgHpfDJ",
    "outputId": "6fd441e1-9fc9-4889-d072-3395c21e40b6"
   },
   "outputs": [
    {
     "name": "stdout",
     "output_type": "stream",
     "text": [
      "2023-01-02 16:46:47.723838: I tensorflow/core/platform/cpu_feature_guard.cc:193] This TensorFlow binary is optimized with oneAPI Deep Neural Network Library (oneDNN) to use the following CPU instructions in performance-critical operations:  AVX2 FMA\n",
      "To enable them in other operations, rebuild TensorFlow with the appropriate compiler flags.\n",
      "2023-01-02 16:46:48.728173: W tensorflow/compiler/xla/stream_executor/platform/default/dso_loader.cc:64] Could not load dynamic library 'libnvinfer.so.7'; dlerror: libnvinfer.so.7: cannot open shared object file: No such file or directory; LD_LIBRARY_PATH: /home/shivani/PycharmProjects/obj-localization-animal/venv/lib/python3.8/site-packages/cv2/../../lib64:\n",
      "2023-01-02 16:46:48.728277: W tensorflow/compiler/xla/stream_executor/platform/default/dso_loader.cc:64] Could not load dynamic library 'libnvinfer_plugin.so.7'; dlerror: libnvinfer_plugin.so.7: cannot open shared object file: No such file or directory; LD_LIBRARY_PATH: /home/shivani/PycharmProjects/obj-localization-animal/venv/lib/python3.8/site-packages/cv2/../../lib64:\n",
      "2023-01-02 16:46:48.728292: W tensorflow/compiler/tf2tensorrt/utils/py_utils.cc:38] TF-TRT Warning: Cannot dlopen some TensorRT libraries. If you would like to use Nvidia GPU with TensorRT, please make sure the missing libraries mentioned above are installed properly.\n",
      "2023-01-02 16:46:50.284243: E tensorflow/compiler/xla/stream_executor/cuda/cuda_driver.cc:267] failed call to cuInit: CUDA_ERROR_NO_DEVICE: no CUDA-capable device is detected\n",
      "2023-01-02 16:46:50.284291: I tensorflow/compiler/xla/stream_executor/cuda/cuda_diagnostics.cc:156] kernel driver does not appear to be running on this host (Shivani): /proc/driver/nvidia/version does not exist\n",
      "2023-01-02 16:46:50.395273: I tensorflow/core/platform/cpu_feature_guard.cc:193] This TensorFlow binary is optimized with oneAPI Deep Neural Network Library (oneDNN) to use the following CPU instructions in performance-critical operations:  AVX2 FMA\n",
      "To enable them in other operations, rebuild TensorFlow with the appropriate compiler flags.\n",
      "WARNING:tensorflow:From /home/shivani/PycharmProjects/obj-localization-animal/venv/lib/python3.8/site-packages/tensorflow/python/autograph/pyct/static_analysis/liveness.py:83: Analyzer.lamba_check (from tensorflow.python.autograph.pyct.static_analysis.liveness) is deprecated and will be removed after 2023-09-23.\n",
      "Instructions for updating:\n",
      "Lambda fuctions will be no more assumed to be used in the statement where they are used, or at least in the same block. https://github.com/tensorflow/tensorflow/issues/56089\n",
      "W0102 16:46:50.478831 140136877627200 deprecation.py:350] From /home/shivani/PycharmProjects/obj-localization-animal/venv/lib/python3.8/site-packages/tensorflow/python/autograph/pyct/static_analysis/liveness.py:83: Analyzer.lamba_check (from tensorflow.python.autograph.pyct.static_analysis.liveness) is deprecated and will be removed after 2023-09-23.\n",
      "Instructions for updating:\n",
      "Lambda fuctions will be no more assumed to be used in the statement where they are used, or at least in the same block. https://github.com/tensorflow/tensorflow/issues/56089\n",
      "WARNING:tensorflow:From /home/shivani/PycharmProjects/obj-localization-animal/venv/lib/python3.8/site-packages/tensorflow/python/autograph/impl/api.py:458: calling map_fn_v2 (from tensorflow.python.ops.map_fn) with back_prop=False is deprecated and will be removed in a future version.\n",
      "Instructions for updating:\n",
      "back_prop=False is deprecated. Consider using tf.stop_gradient instead.\n",
      "Instead of:\n",
      "results = tf.map_fn(fn, elems, back_prop=False)\n",
      "Use:\n",
      "results = tf.nest.map_structure(tf.stop_gradient, tf.map_fn(fn, elems))\n",
      "W0102 16:46:50.553600 140136877627200 deprecation.py:623] From /home/shivani/PycharmProjects/obj-localization-animal/venv/lib/python3.8/site-packages/tensorflow/python/autograph/impl/api.py:458: calling map_fn_v2 (from tensorflow.python.ops.map_fn) with back_prop=False is deprecated and will be removed in a future version.\n",
      "Instructions for updating:\n",
      "back_prop=False is deprecated. Consider using tf.stop_gradient instead.\n",
      "Instead of:\n",
      "results = tf.map_fn(fn, elems, back_prop=False)\n",
      "Use:\n",
      "results = tf.nest.map_structure(tf.stop_gradient, tf.map_fn(fn, elems))\n",
      "WARNING:tensorflow:Skipping full serialization of Keras layer <object_detection.meta_architectures.ssd_meta_arch.SSDMetaArch object at 0x7f73d6f17fd0>, because it is not built.\n",
      "W0102 16:47:08.172077 140136877627200 save_impl.py:66] Skipping full serialization of Keras layer <object_detection.meta_architectures.ssd_meta_arch.SSDMetaArch object at 0x7f73d6f17fd0>, because it is not built.\n",
      "WARNING:tensorflow:Skipping full serialization of Keras layer <keras.layers.convolutional.separable_conv2d.SeparableConv2D object at 0x7f73b8808ac0>, because it is not built.\n",
      "W0102 16:47:08.435494 140136877627200 save_impl.py:66] Skipping full serialization of Keras layer <keras.layers.convolutional.separable_conv2d.SeparableConv2D object at 0x7f73b8808ac0>, because it is not built.\n",
      "WARNING:tensorflow:Skipping full serialization of Keras layer <object_detection.core.freezable_batch_norm.FreezableBatchNorm object at 0x7f73b8774d90>, because it is not built.\n",
      "W0102 16:47:08.435662 140136877627200 save_impl.py:66] Skipping full serialization of Keras layer <object_detection.core.freezable_batch_norm.FreezableBatchNorm object at 0x7f73b8774d90>, because it is not built.\n",
      "WARNING:tensorflow:Skipping full serialization of Keras layer <keras.layers.core.lambda_layer.Lambda object at 0x7f73b8774cd0>, because it is not built.\n",
      "W0102 16:47:08.435745 140136877627200 save_impl.py:66] Skipping full serialization of Keras layer <keras.layers.core.lambda_layer.Lambda object at 0x7f73b8774cd0>, because it is not built.\n",
      "WARNING:tensorflow:Skipping full serialization of Keras layer <keras.layers.convolutional.separable_conv2d.SeparableConv2D object at 0x7f73b87749a0>, because it is not built.\n",
      "W0102 16:47:08.435818 140136877627200 save_impl.py:66] Skipping full serialization of Keras layer <keras.layers.convolutional.separable_conv2d.SeparableConv2D object at 0x7f73b87749a0>, because it is not built.\n",
      "WARNING:tensorflow:Skipping full serialization of Keras layer <object_detection.core.freezable_batch_norm.FreezableBatchNorm object at 0x7f73b89fc760>, because it is not built.\n",
      "W0102 16:47:08.435896 140136877627200 save_impl.py:66] Skipping full serialization of Keras layer <object_detection.core.freezable_batch_norm.FreezableBatchNorm object at 0x7f73b89fc760>, because it is not built.\n",
      "WARNING:tensorflow:Skipping full serialization of Keras layer <keras.layers.core.lambda_layer.Lambda object at 0x7f73b89fc2e0>, because it is not built.\n",
      "W0102 16:47:08.435970 140136877627200 save_impl.py:66] Skipping full serialization of Keras layer <keras.layers.core.lambda_layer.Lambda object at 0x7f73b89fc2e0>, because it is not built.\n",
      "WARNING:tensorflow:Skipping full serialization of Keras layer <keras.layers.convolutional.separable_conv2d.SeparableConv2D object at 0x7f73b8731670>, because it is not built.\n",
      "W0102 16:47:08.436044 140136877627200 save_impl.py:66] Skipping full serialization of Keras layer <keras.layers.convolutional.separable_conv2d.SeparableConv2D object at 0x7f73b8731670>, because it is not built.\n",
      "WARNING:tensorflow:Skipping full serialization of Keras layer <object_detection.core.freezable_batch_norm.FreezableBatchNorm object at 0x7f73b8731a60>, because it is not built.\n",
      "W0102 16:47:08.436117 140136877627200 save_impl.py:66] Skipping full serialization of Keras layer <object_detection.core.freezable_batch_norm.FreezableBatchNorm object at 0x7f73b8731a60>, because it is not built.\n",
      "WARNING:tensorflow:Skipping full serialization of Keras layer <keras.layers.core.lambda_layer.Lambda object at 0x7f73b8731790>, because it is not built.\n",
      "W0102 16:47:08.436189 140136877627200 save_impl.py:66] Skipping full serialization of Keras layer <keras.layers.core.lambda_layer.Lambda object at 0x7f73b8731790>, because it is not built.\n",
      "WARNING:tensorflow:Skipping full serialization of Keras layer <keras.layers.convolutional.separable_conv2d.SeparableConv2D object at 0x7f73d6af1dc0>, because it is not built.\n",
      "W0102 16:47:08.436266 140136877627200 save_impl.py:66] Skipping full serialization of Keras layer <keras.layers.convolutional.separable_conv2d.SeparableConv2D object at 0x7f73d6af1dc0>, because it is not built.\n",
      "WARNING:tensorflow:Skipping full serialization of Keras layer <object_detection.core.freezable_batch_norm.FreezableBatchNorm object at 0x7f73b8766b80>, because it is not built.\n",
      "W0102 16:47:08.436338 140136877627200 save_impl.py:66] Skipping full serialization of Keras layer <object_detection.core.freezable_batch_norm.FreezableBatchNorm object at 0x7f73b8766b80>, because it is not built.\n",
      "WARNING:tensorflow:Skipping full serialization of Keras layer <keras.layers.core.lambda_layer.Lambda object at 0x7f73b87666d0>, because it is not built.\n",
      "W0102 16:47:08.436410 140136877627200 save_impl.py:66] Skipping full serialization of Keras layer <keras.layers.core.lambda_layer.Lambda object at 0x7f73b87666d0>, because it is not built.\n",
      "WARNING:tensorflow:Skipping full serialization of Keras layer <object_detection.core.freezable_batch_norm.FreezableBatchNorm object at 0x7f73b87c8a60>, because it is not built.\n",
      "W0102 16:47:08.436496 140136877627200 save_impl.py:66] Skipping full serialization of Keras layer <object_detection.core.freezable_batch_norm.FreezableBatchNorm object at 0x7f73b87c8a60>, because it is not built.\n",
      "WARNING:tensorflow:Skipping full serialization of Keras layer <keras.layers.core.lambda_layer.Lambda object at 0x7f73b87201f0>, because it is not built.\n",
      "W0102 16:47:08.436585 140136877627200 save_impl.py:66] Skipping full serialization of Keras layer <keras.layers.core.lambda_layer.Lambda object at 0x7f73b87201f0>, because it is not built.\n",
      "WARNING:tensorflow:Skipping full serialization of Keras layer <object_detection.core.freezable_batch_norm.FreezableBatchNorm object at 0x7f73b8720f40>, because it is not built.\n",
      "W0102 16:47:08.436662 140136877627200 save_impl.py:66] Skipping full serialization of Keras layer <object_detection.core.freezable_batch_norm.FreezableBatchNorm object at 0x7f73b8720f40>, because it is not built.\n",
      "WARNING:tensorflow:Skipping full serialization of Keras layer <keras.layers.core.lambda_layer.Lambda object at 0x7f73b8720df0>, because it is not built.\n",
      "W0102 16:47:08.436733 140136877627200 save_impl.py:66] Skipping full serialization of Keras layer <keras.layers.core.lambda_layer.Lambda object at 0x7f73b8720df0>, because it is not built.\n",
      "WARNING:tensorflow:Skipping full serialization of Keras layer <object_detection.core.freezable_batch_norm.FreezableBatchNorm object at 0x7f73b8759430>, because it is not built.\n",
      "W0102 16:47:08.436813 140136877627200 save_impl.py:66] Skipping full serialization of Keras layer <object_detection.core.freezable_batch_norm.FreezableBatchNorm object at 0x7f73b8759430>, because it is not built.\n",
      "WARNING:tensorflow:Skipping full serialization of Keras layer <keras.layers.core.lambda_layer.Lambda object at 0x7f73b87592b0>, because it is not built.\n",
      "W0102 16:47:08.436886 140136877627200 save_impl.py:66] Skipping full serialization of Keras layer <keras.layers.core.lambda_layer.Lambda object at 0x7f73b87592b0>, because it is not built.\n",
      "WARNING:tensorflow:Skipping full serialization of Keras layer <object_detection.core.freezable_batch_norm.FreezableBatchNorm object at 0x7f73b87599a0>, because it is not built.\n",
      "W0102 16:47:08.436955 140136877627200 save_impl.py:66] Skipping full serialization of Keras layer <object_detection.core.freezable_batch_norm.FreezableBatchNorm object at 0x7f73b87599a0>, because it is not built.\n",
      "WARNING:tensorflow:Skipping full serialization of Keras layer <keras.layers.core.lambda_layer.Lambda object at 0x7f73b8759940>, because it is not built.\n",
      "W0102 16:47:08.437025 140136877627200 save_impl.py:66] Skipping full serialization of Keras layer <keras.layers.core.lambda_layer.Lambda object at 0x7f73b8759940>, because it is not built.\n",
      "WARNING:tensorflow:Skipping full serialization of Keras layer <object_detection.core.freezable_batch_norm.FreezableBatchNorm object at 0x7f73b87545e0>, because it is not built.\n",
      "W0102 16:47:08.437094 140136877627200 save_impl.py:66] Skipping full serialization of Keras layer <object_detection.core.freezable_batch_norm.FreezableBatchNorm object at 0x7f73b87545e0>, because it is not built.\n",
      "WARNING:tensorflow:Skipping full serialization of Keras layer <keras.layers.core.lambda_layer.Lambda object at 0x7f73b8740ac0>, because it is not built.\n",
      "W0102 16:47:08.437162 140136877627200 save_impl.py:66] Skipping full serialization of Keras layer <keras.layers.core.lambda_layer.Lambda object at 0x7f73b8740ac0>, because it is not built.\n",
      "WARNING:tensorflow:Skipping full serialization of Keras layer <object_detection.core.freezable_batch_norm.FreezableBatchNorm object at 0x7f73b89ff400>, because it is not built.\n",
      "W0102 16:47:08.437230 140136877627200 save_impl.py:66] Skipping full serialization of Keras layer <object_detection.core.freezable_batch_norm.FreezableBatchNorm object at 0x7f73b89ff400>, because it is not built.\n",
      "WARNING:tensorflow:Skipping full serialization of Keras layer <keras.layers.core.lambda_layer.Lambda object at 0x7f73b89ffb80>, because it is not built.\n",
      "W0102 16:47:08.437299 140136877627200 save_impl.py:66] Skipping full serialization of Keras layer <keras.layers.core.lambda_layer.Lambda object at 0x7f73b89ffb80>, because it is not built.\n",
      "WARNING:tensorflow:Skipping full serialization of Keras layer <object_detection.core.freezable_batch_norm.FreezableBatchNorm object at 0x7f73d6a78c10>, because it is not built.\n",
      "W0102 16:47:08.437366 140136877627200 save_impl.py:66] Skipping full serialization of Keras layer <object_detection.core.freezable_batch_norm.FreezableBatchNorm object at 0x7f73d6a78c10>, because it is not built.\n",
      "WARNING:tensorflow:Skipping full serialization of Keras layer <keras.layers.core.lambda_layer.Lambda object at 0x7f73d6a78400>, because it is not built.\n",
      "W0102 16:47:08.437434 140136877627200 save_impl.py:66] Skipping full serialization of Keras layer <keras.layers.core.lambda_layer.Lambda object at 0x7f73d6a78400>, because it is not built.\n",
      "WARNING:tensorflow:Skipping full serialization of Keras layer <object_detection.core.freezable_batch_norm.FreezableBatchNorm object at 0x7f73b8ad08b0>, because it is not built.\n",
      "W0102 16:47:08.437502 140136877627200 save_impl.py:66] Skipping full serialization of Keras layer <object_detection.core.freezable_batch_norm.FreezableBatchNorm object at 0x7f73b8ad08b0>, because it is not built.\n",
      "WARNING:tensorflow:Skipping full serialization of Keras layer <keras.layers.core.lambda_layer.Lambda object at 0x7f73b87b5e20>, because it is not built.\n",
      "W0102 16:47:08.437569 140136877627200 save_impl.py:66] Skipping full serialization of Keras layer <keras.layers.core.lambda_layer.Lambda object at 0x7f73b87b5e20>, because it is not built.\n",
      "WARNING:tensorflow:Skipping full serialization of Keras layer <object_detection.core.freezable_batch_norm.FreezableBatchNorm object at 0x7f73b87d8ee0>, because it is not built.\n",
      "W0102 16:47:08.437636 140136877627200 save_impl.py:66] Skipping full serialization of Keras layer <object_detection.core.freezable_batch_norm.FreezableBatchNorm object at 0x7f73b87d8ee0>, because it is not built.\n",
      "WARNING:tensorflow:Skipping full serialization of Keras layer <keras.layers.core.lambda_layer.Lambda object at 0x7f73b87d3670>, because it is not built.\n",
      "W0102 16:47:08.437705 140136877627200 save_impl.py:66] Skipping full serialization of Keras layer <keras.layers.core.lambda_layer.Lambda object at 0x7f73b87d3670>, because it is not built.\n",
      "WARNING:tensorflow:Skipping full serialization of Keras layer <object_detection.core.freezable_batch_norm.FreezableBatchNorm object at 0x7f73b87d38b0>, because it is not built.\n",
      "W0102 16:47:08.437775 140136877627200 save_impl.py:66] Skipping full serialization of Keras layer <object_detection.core.freezable_batch_norm.FreezableBatchNorm object at 0x7f73b87d38b0>, because it is not built.\n",
      "WARNING:tensorflow:Skipping full serialization of Keras layer <keras.layers.core.lambda_layer.Lambda object at 0x7f73b87d3d60>, because it is not built.\n",
      "W0102 16:47:08.437844 140136877627200 save_impl.py:66] Skipping full serialization of Keras layer <keras.layers.core.lambda_layer.Lambda object at 0x7f73b87d3d60>, because it is not built.\n",
      "WARNING:tensorflow:Skipping full serialization of Keras layer <object_detection.core.freezable_batch_norm.FreezableBatchNorm object at 0x7f73b87576d0>, because it is not built.\n",
      "W0102 16:47:08.437911 140136877627200 save_impl.py:66] Skipping full serialization of Keras layer <object_detection.core.freezable_batch_norm.FreezableBatchNorm object at 0x7f73b87576d0>, because it is not built.\n",
      "WARNING:tensorflow:Skipping full serialization of Keras layer <keras.layers.core.lambda_layer.Lambda object at 0x7f73b8757550>, because it is not built.\n",
      "W0102 16:47:08.437979 140136877627200 save_impl.py:66] Skipping full serialization of Keras layer <keras.layers.core.lambda_layer.Lambda object at 0x7f73b8757550>, because it is not built.\n",
      "WARNING:tensorflow:Skipping full serialization of Keras layer <object_detection.core.freezable_batch_norm.FreezableBatchNorm object at 0x7f73b87578e0>, because it is not built.\n",
      "W0102 16:47:08.438047 140136877627200 save_impl.py:66] Skipping full serialization of Keras layer <object_detection.core.freezable_batch_norm.FreezableBatchNorm object at 0x7f73b87578e0>, because it is not built.\n",
      "WARNING:tensorflow:Skipping full serialization of Keras layer <keras.layers.core.lambda_layer.Lambda object at 0x7f73b87579d0>, because it is not built.\n",
      "W0102 16:47:08.438117 140136877627200 save_impl.py:66] Skipping full serialization of Keras layer <keras.layers.core.lambda_layer.Lambda object at 0x7f73b87579d0>, because it is not built.\n",
      "WARNING:tensorflow:Skipping full serialization of Keras layer <object_detection.core.freezable_batch_norm.FreezableBatchNorm object at 0x7f73b86ba2e0>, because it is not built.\n",
      "W0102 16:47:08.438185 140136877627200 save_impl.py:66] Skipping full serialization of Keras layer <object_detection.core.freezable_batch_norm.FreezableBatchNorm object at 0x7f73b86ba2e0>, because it is not built.\n",
      "WARNING:tensorflow:Skipping full serialization of Keras layer <keras.layers.core.lambda_layer.Lambda object at 0x7f73b86b89a0>, because it is not built.\n",
      "W0102 16:47:08.438260 140136877627200 save_impl.py:66] Skipping full serialization of Keras layer <keras.layers.core.lambda_layer.Lambda object at 0x7f73b86b89a0>, because it is not built.\n",
      "WARNING:tensorflow:Skipping full serialization of Keras layer <object_detection.core.freezable_batch_norm.FreezableBatchNorm object at 0x7f73b86b8eb0>, because it is not built.\n",
      "W0102 16:47:08.438328 140136877627200 save_impl.py:66] Skipping full serialization of Keras layer <object_detection.core.freezable_batch_norm.FreezableBatchNorm object at 0x7f73b86b8eb0>, because it is not built.\n",
      "WARNING:tensorflow:Skipping full serialization of Keras layer <keras.layers.core.lambda_layer.Lambda object at 0x7f73b86b8f70>, because it is not built.\n",
      "W0102 16:47:08.438396 140136877627200 save_impl.py:66] Skipping full serialization of Keras layer <keras.layers.core.lambda_layer.Lambda object at 0x7f73b86b8f70>, because it is not built.\n",
      "WARNING:tensorflow:Skipping full serialization of Keras layer <object_detection.core.freezable_batch_norm.FreezableBatchNorm object at 0x7f73b869e4c0>, because it is not built.\n",
      "W0102 16:47:08.438466 140136877627200 save_impl.py:66] Skipping full serialization of Keras layer <object_detection.core.freezable_batch_norm.FreezableBatchNorm object at 0x7f73b869e4c0>, because it is not built.\n",
      "WARNING:tensorflow:Skipping full serialization of Keras layer <keras.layers.core.lambda_layer.Lambda object at 0x7f73b869e580>, because it is not built.\n",
      "W0102 16:47:08.438549 140136877627200 save_impl.py:66] Skipping full serialization of Keras layer <keras.layers.core.lambda_layer.Lambda object at 0x7f73b869e580>, because it is not built.\n",
      "WARNING:tensorflow:Skipping full serialization of Keras layer <object_detection.core.freezable_batch_norm.FreezableBatchNorm object at 0x7f73b869ea90>, because it is not built.\n",
      "W0102 16:47:08.438618 140136877627200 save_impl.py:66] Skipping full serialization of Keras layer <object_detection.core.freezable_batch_norm.FreezableBatchNorm object at 0x7f73b869ea90>, because it is not built.\n",
      "WARNING:tensorflow:Skipping full serialization of Keras layer <keras.layers.core.lambda_layer.Lambda object at 0x7f73b869eb50>, because it is not built.\n",
      "W0102 16:47:08.438687 140136877627200 save_impl.py:66] Skipping full serialization of Keras layer <keras.layers.core.lambda_layer.Lambda object at 0x7f73b869eb50>, because it is not built.\n"
     ]
    },
    {
     "name": "stdout",
     "output_type": "stream",
     "text": [
      "W0102 16:47:26.289634 140136877627200 save.py:271] Found untraced functions such as WeightSharedConvolutionalBoxPredictor_layer_call_fn, WeightSharedConvolutionalBoxPredictor_layer_call_and_return_conditional_losses, WeightSharedConvolutionalBoxHead_layer_call_fn, WeightSharedConvolutionalBoxHead_layer_call_and_return_conditional_losses, WeightSharedConvolutionalClassHead_layer_call_fn while saving (showing 5 of 173). These functions will not be directly callable after loading.\n",
      "INFO:tensorflow:Assets written to: Tensorflow/workspace/models/my_ssd_mobnet/export/saved_model/assets\n",
      "I0102 16:47:31.137477 140136877627200 builder_impl.py:797] Assets written to: Tensorflow/workspace/models/my_ssd_mobnet/export/saved_model/assets\n",
      "INFO:tensorflow:Writing pipeline config file to Tensorflow/workspace/models/my_ssd_mobnet/export/pipeline.config\n",
      "I0102 16:47:32.241413 140136877627200 config_util.py:253] Writing pipeline config file to Tensorflow/workspace/models/my_ssd_mobnet/export/pipeline.config\n"
     ]
    }
   ],
   "source": [
    "!{command}"
   ]
  },
  {
   "cell_type": "markdown",
   "metadata": {
    "id": "wTPmdqaXpfDK"
   },
   "source": [
    "# 11. Conversion to TFJS"
   ]
  },
  {
   "cell_type": "code",
   "execution_count": 117,
   "metadata": {
    "colab": {
     "base_uri": "https://localhost:8080/"
    },
    "id": "gZ6UzY_fpfDK",
    "outputId": "0c84722e-1c2b-4002-d857-80827ade828a",
    "scrolled": true
   },
   "outputs": [
    {
     "name": "stdout",
     "output_type": "stream",
     "text": [
      "Collecting tensorflowjs\n",
      "  Using cached tensorflowjs-4.1.0-py3-none-any.whl (84 kB)\n",
      "Requirement already satisfied: tensorflow-hub<0.13,>=0.7.0 in ./venv/lib/python3.8/site-packages (from tensorflowjs) (0.12.0)\n",
      "Collecting protobuf<3.20,>=3.9.2\n",
      "  Using cached protobuf-3.19.6-cp38-cp38-manylinux_2_17_x86_64.manylinux2014_x86_64.whl (1.1 MB)\n",
      "Collecting flax>=0.5.3\n",
      "  Using cached flax-0.6.3-py3-none-any.whl (197 kB)\n",
      "Collecting tensorflow-decision-forests>=1.0.1\n",
      "  Using cached tensorflow_decision_forests-1.1.0-cp38-cp38-manylinux_2_17_x86_64.manylinux2014_x86_64.whl (16.2 MB)\n",
      "Requirement already satisfied: tensorflow<3,>=2.10.0 in ./venv/lib/python3.8/site-packages (from tensorflowjs) (2.11.0)\n",
      "Requirement already satisfied: importlib_resources>=5.9.0 in ./venv/lib/python3.8/site-packages (from tensorflowjs) (5.10.2)\n",
      "Collecting jax>=0.3.16\n",
      "  Using cached jax-0.4.1.tar.gz (1.2 MB)\n",
      "  Preparing metadata (setup.py) ... \u001b[?25ldone\n",
      "\u001b[?25hRequirement already satisfied: six<2,>=1.12.0 in ./venv/lib/python3.8/site-packages (from tensorflowjs) (1.16.0)\n",
      "Collecting packaging~=20.9\n",
      "  Using cached packaging-20.9-py2.py3-none-any.whl (40 kB)\n",
      "Collecting orbax\n",
      "  Using cached orbax-0.0.23-py3-none-any.whl (66 kB)\n",
      "Collecting optax\n",
      "  Using cached optax-0.1.4-py3-none-any.whl (154 kB)\n",
      "Collecting msgpack\n",
      "  Using cached msgpack-1.0.4-cp38-cp38-manylinux_2_17_x86_64.manylinux2014_x86_64.whl (322 kB)\n",
      "Requirement already satisfied: matplotlib in ./venv/lib/python3.8/site-packages (from flax>=0.5.3->tensorflowjs) (3.2.0)\n",
      "Requirement already satisfied: PyYAML>=5.4.1 in ./venv/lib/python3.8/site-packages (from flax>=0.5.3->tensorflowjs) (5.4.1)\n",
      "Requirement already satisfied: typing-extensions>=4.1.1 in ./venv/lib/python3.8/site-packages (from flax>=0.5.3->tensorflowjs) (4.4.0)\n",
      "Requirement already satisfied: numpy>=1.12 in ./venv/lib/python3.8/site-packages (from flax>=0.5.3->tensorflowjs) (1.22.4)\n",
      "Collecting rich>=11.1\n",
      "  Using cached rich-13.0.0-py3-none-any.whl (238 kB)\n",
      "Collecting tensorstore\n",
      "  Using cached tensorstore-0.1.28-cp38-cp38-manylinux_2_17_x86_64.manylinux2014_x86_64.whl (8.3 MB)\n",
      "Requirement already satisfied: zipp>=3.1.0 in ./venv/lib/python3.8/site-packages (from importlib_resources>=5.9.0->tensorflowjs) (3.11.0)\n",
      "Requirement already satisfied: opt_einsum in ./venv/lib/python3.8/site-packages (from jax>=0.3.16->tensorflowjs) (3.3.0)\n",
      "Requirement already satisfied: scipy>=1.5 in ./venv/lib/python3.8/site-packages (from jax>=0.3.16->tensorflowjs) (1.9.3)\n",
      "Requirement already satisfied: pyparsing>=2.0.2 in ./venv/lib/python3.8/site-packages (from packaging~=20.9->tensorflowjs) (2.4.7)\n",
      "Requirement already satisfied: absl-py>=1.0.0 in ./venv/lib/python3.8/site-packages (from tensorflow<3,>=2.10.0->tensorflowjs) (1.3.0)\n",
      "Requirement already satisfied: setuptools in ./venv/lib/python3.8/site-packages (from tensorflow<3,>=2.10.0->tensorflowjs) (60.2.0)\n",
      "Requirement already satisfied: termcolor>=1.1.0 in ./venv/lib/python3.8/site-packages (from tensorflow<3,>=2.10.0->tensorflowjs) (2.1.1)\n",
      "Requirement already satisfied: google-pasta>=0.1.1 in ./venv/lib/python3.8/site-packages (from tensorflow<3,>=2.10.0->tensorflowjs) (0.2.0)\n",
      "Requirement already satisfied: tensorflow-estimator<2.12,>=2.11.0 in ./venv/lib/python3.8/site-packages (from tensorflow<3,>=2.10.0->tensorflowjs) (2.11.0)\n",
      "Requirement already satisfied: keras<2.12,>=2.11.0 in ./venv/lib/python3.8/site-packages (from tensorflow<3,>=2.10.0->tensorflowjs) (2.11.0)\n",
      "Requirement already satisfied: flatbuffers>=2.0 in ./venv/lib/python3.8/site-packages (from tensorflow<3,>=2.10.0->tensorflowjs) (22.12.6)\n",
      "Requirement already satisfied: grpcio<2.0,>=1.24.3 in ./venv/lib/python3.8/site-packages (from tensorflow<3,>=2.10.0->tensorflowjs) (1.51.1)\n",
      "Requirement already satisfied: h5py>=2.9.0 in ./venv/lib/python3.8/site-packages (from tensorflow<3,>=2.10.0->tensorflowjs) (3.7.0)\n",
      "Requirement already satisfied: gast<=0.4.0,>=0.2.1 in ./venv/lib/python3.8/site-packages (from tensorflow<3,>=2.10.0->tensorflowjs) (0.4.0)\n",
      "Requirement already satisfied: astunparse>=1.6.0 in ./venv/lib/python3.8/site-packages (from tensorflow<3,>=2.10.0->tensorflowjs) (1.6.3)\n",
      "Requirement already satisfied: libclang>=13.0.0 in ./venv/lib/python3.8/site-packages (from tensorflow<3,>=2.10.0->tensorflowjs) (14.0.6)\n",
      "Requirement already satisfied: wrapt>=1.11.0 in ./venv/lib/python3.8/site-packages (from tensorflow<3,>=2.10.0->tensorflowjs) (1.14.1)\n",
      "Requirement already satisfied: tensorboard<2.12,>=2.11 in ./venv/lib/python3.8/site-packages (from tensorflow<3,>=2.10.0->tensorflowjs) (2.11.0)\n",
      "Requirement already satisfied: tensorflow-io-gcs-filesystem>=0.23.1 in ./venv/lib/python3.8/site-packages (from tensorflow<3,>=2.10.0->tensorflowjs) (0.29.0)\n",
      "Requirement already satisfied: pandas in ./venv/lib/python3.8/site-packages (from tensorflow-decision-forests>=1.0.1->tensorflowjs) (1.5.2)\n",
      "Collecting wurlitzer\n",
      "  Using cached wurlitzer-3.0.3-py3-none-any.whl (7.3 kB)\n",
      "Requirement already satisfied: wheel in ./venv/lib/python3.8/site-packages (from tensorflow-decision-forests>=1.0.1->tensorflowjs) (0.37.1)\n",
      "Collecting commonmark<0.10.0,>=0.9.0\n",
      "  Using cached commonmark-0.9.1-py2.py3-none-any.whl (51 kB)\n",
      "Requirement already satisfied: pygments<3.0.0,>=2.6.0 in ./venv/lib/python3.8/site-packages (from rich>=11.1->flax>=0.5.3->tensorflowjs) (2.14.0)\n",
      "Requirement already satisfied: tensorboard-plugin-wit>=1.6.0 in ./venv/lib/python3.8/site-packages (from tensorboard<2.12,>=2.11->tensorflow<3,>=2.10.0->tensorflowjs) (1.8.1)\n",
      "Requirement already satisfied: markdown>=2.6.8 in ./venv/lib/python3.8/site-packages (from tensorboard<2.12,>=2.11->tensorflow<3,>=2.10.0->tensorflowjs) (3.4.1)\n",
      "Requirement already satisfied: google-auth-oauthlib<0.5,>=0.4.1 in ./venv/lib/python3.8/site-packages (from tensorboard<2.12,>=2.11->tensorflow<3,>=2.10.0->tensorflowjs) (0.4.6)\n",
      "Requirement already satisfied: tensorboard-data-server<0.7.0,>=0.6.0 in ./venv/lib/python3.8/site-packages (from tensorboard<2.12,>=2.11->tensorflow<3,>=2.10.0->tensorflowjs) (0.6.1)\n",
      "Requirement already satisfied: werkzeug>=1.0.1 in ./venv/lib/python3.8/site-packages (from tensorboard<2.12,>=2.11->tensorflow<3,>=2.10.0->tensorflowjs) (2.2.2)\n",
      "Requirement already satisfied: google-auth<3,>=1.6.3 in ./venv/lib/python3.8/site-packages (from tensorboard<2.12,>=2.11->tensorflow<3,>=2.10.0->tensorflowjs) (2.15.0)\n",
      "Requirement already satisfied: requests<3,>=2.21.0 in ./venv/lib/python3.8/site-packages (from tensorboard<2.12,>=2.11->tensorflow<3,>=2.10.0->tensorflowjs) (2.28.1)\n",
      "Requirement already satisfied: kiwisolver>=1.0.1 in ./venv/lib/python3.8/site-packages (from matplotlib->flax>=0.5.3->tensorflowjs) (1.4.4)\n",
      "Requirement already satisfied: python-dateutil>=2.1 in ./venv/lib/python3.8/site-packages (from matplotlib->flax>=0.5.3->tensorflowjs) (2.8.2)\n",
      "Requirement already satisfied: cycler>=0.10 in ./venv/lib/python3.8/site-packages (from matplotlib->flax>=0.5.3->tensorflowjs) (0.11.0)\n",
      "Collecting chex>=0.1.5\n",
      "  Using cached chex-0.1.5-py3-none-any.whl (85 kB)\n",
      "Collecting jaxlib>=0.1.37\n",
      "  Using cached jaxlib-0.4.1-cp38-cp38-manylinux2014_x86_64.whl (71.3 MB)\n",
      "Collecting cached_property\n",
      "  Using cached cached_property-1.5.2-py2.py3-none-any.whl (7.6 kB)\n",
      "Collecting pytest\n",
      "  Using cached pytest-7.2.0-py3-none-any.whl (316 kB)\n",
      "Requirement already satisfied: etils in ./venv/lib/python3.8/site-packages (from orbax->flax>=0.5.3->tensorflowjs) (0.9.0)\n",
      "Requirement already satisfied: pytz>=2020.1 in ./venv/lib/python3.8/site-packages (from pandas->tensorflow-decision-forests>=1.0.1->tensorflowjs) (2022.7)\n",
      "Collecting toolz>=0.9.0\n",
      "  Using cached toolz-0.12.0-py3-none-any.whl (55 kB)\n",
      "Requirement already satisfied: dm-tree>=0.1.5 in ./venv/lib/python3.8/site-packages (from chex>=0.1.5->optax->flax>=0.5.3->tensorflowjs) (0.1.8)\n",
      "Requirement already satisfied: cachetools<6.0,>=2.0.0 in ./venv/lib/python3.8/site-packages (from google-auth<3,>=1.6.3->tensorboard<2.12,>=2.11->tensorflow<3,>=2.10.0->tensorflowjs) (5.2.0)\n",
      "Requirement already satisfied: rsa<5,>=3.1.4 in ./venv/lib/python3.8/site-packages (from google-auth<3,>=1.6.3->tensorboard<2.12,>=2.11->tensorflow<3,>=2.10.0->tensorflowjs) (4.9)\n",
      "Requirement already satisfied: pyasn1-modules>=0.2.1 in ./venv/lib/python3.8/site-packages (from google-auth<3,>=1.6.3->tensorboard<2.12,>=2.11->tensorflow<3,>=2.10.0->tensorflowjs) (0.2.8)\n"
     ]
    },
    {
     "name": "stdout",
     "output_type": "stream",
     "text": [
      "Requirement already satisfied: requests-oauthlib>=0.7.0 in ./venv/lib/python3.8/site-packages (from google-auth-oauthlib<0.5,>=0.4.1->tensorboard<2.12,>=2.11->tensorflow<3,>=2.10.0->tensorflowjs) (1.3.1)\n",
      "Requirement already satisfied: importlib-metadata>=4.4 in ./venv/lib/python3.8/site-packages (from markdown>=2.6.8->tensorboard<2.12,>=2.11->tensorflow<3,>=2.10.0->tensorflowjs) (6.0.0)\n",
      "Requirement already satisfied: urllib3<1.27,>=1.21.1 in ./venv/lib/python3.8/site-packages (from requests<3,>=2.21.0->tensorboard<2.12,>=2.11->tensorflow<3,>=2.10.0->tensorflowjs) (1.26.13)\n",
      "Requirement already satisfied: charset-normalizer<3,>=2 in ./venv/lib/python3.8/site-packages (from requests<3,>=2.21.0->tensorboard<2.12,>=2.11->tensorflow<3,>=2.10.0->tensorflowjs) (2.1.1)\n",
      "Requirement already satisfied: certifi>=2017.4.17 in ./venv/lib/python3.8/site-packages (from requests<3,>=2.21.0->tensorboard<2.12,>=2.11->tensorflow<3,>=2.10.0->tensorflowjs) (2022.12.7)\n",
      "Requirement already satisfied: idna<4,>=2.5 in ./venv/lib/python3.8/site-packages (from requests<3,>=2.21.0->tensorboard<2.12,>=2.11->tensorflow<3,>=2.10.0->tensorflowjs) (3.4)\n",
      "Requirement already satisfied: MarkupSafe>=2.1.1 in ./venv/lib/python3.8/site-packages (from werkzeug>=1.0.1->tensorboard<2.12,>=2.11->tensorflow<3,>=2.10.0->tensorflowjs) (2.1.1)\n",
      "Requirement already satisfied: attrs>=19.2.0 in ./venv/lib/python3.8/site-packages (from pytest->orbax->flax>=0.5.3->tensorflowjs) (22.2.0)\n",
      "Collecting iniconfig\n",
      "  Using cached iniconfig-1.1.1-py2.py3-none-any.whl (5.0 kB)\n",
      "Collecting pluggy<2.0,>=0.12\n",
      "  Using cached pluggy-1.0.0-py2.py3-none-any.whl (13 kB)\n",
      "Collecting exceptiongroup>=1.0.0rc8\n",
      "  Using cached exceptiongroup-1.1.0-py3-none-any.whl (14 kB)\n",
      "Collecting tomli>=1.0.0\n",
      "  Using cached tomli-2.0.1-py3-none-any.whl (12 kB)\n",
      "Requirement already satisfied: pyasn1<0.5.0,>=0.4.6 in ./venv/lib/python3.8/site-packages (from pyasn1-modules>=0.2.1->google-auth<3,>=1.6.3->tensorboard<2.12,>=2.11->tensorflow<3,>=2.10.0->tensorflowjs) (0.4.8)\n",
      "Requirement already satisfied: oauthlib>=3.0.0 in ./venv/lib/python3.8/site-packages (from requests-oauthlib>=0.7.0->google-auth-oauthlib<0.5,>=0.4.1->tensorboard<2.12,>=2.11->tensorflow<3,>=2.10.0->tensorflowjs) (3.2.2)\n",
      "Building wheels for collected packages: jax\n",
      "  Building wheel for jax (setup.py) ... \u001b[?25ldone\n",
      "\u001b[?25h  Created wheel for jax: filename=jax-0.4.1-py3-none-any.whl size=1332477 sha256=9d8c372ecf0c6719ee759d3bcd22be936e62966b87dce153e44fb10902fed5f4\n",
      "  Stored in directory: /home/shivani/.cache/pip/wheels/c6/19/40/dc7d80747d17e7d1face9413b05fb2047dd1c57e6182b3a1e8\n",
      "Successfully built jax\n",
      "Installing collected packages: msgpack, iniconfig, commonmark, cached_property, wurlitzer, toolz, tomli, tensorstore, rich, protobuf, pluggy, packaging, exceptiongroup, pytest, jaxlib, jax, chex, optax, tensorflow-decision-forests, orbax, flax, tensorflowjs\n",
      "  Attempting uninstall: protobuf\n",
      "    Found existing installation: protobuf 3.20.3\n",
      "    Uninstalling protobuf-3.20.3:\n",
      "      Successfully uninstalled protobuf-3.20.3\n",
      "  Attempting uninstall: packaging\n",
      "    Found existing installation: packaging 22.0\n",
      "    Uninstalling packaging-22.0:\n",
      "      Successfully uninstalled packaging-22.0\n",
      "Successfully installed cached_property-1.5.2 chex-0.1.5 commonmark-0.9.1 exceptiongroup-1.1.0 flax-0.6.3 iniconfig-1.1.1 jax-0.4.1 jaxlib-0.4.1 msgpack-1.0.4 optax-0.1.4 orbax-0.0.23 packaging-20.9 pluggy-1.0.0 protobuf-3.19.6 pytest-7.2.0 rich-13.0.0 tensorflow-decision-forests-1.1.0 tensorflowjs-4.1.0 tensorstore-0.1.28 tomli-2.0.1 toolz-0.12.0 wurlitzer-3.0.3\n"
     ]
    }
   ],
   "source": [
    "!pip install tensorflowjs"
   ]
  },
  {
   "cell_type": "code",
   "execution_count": 118,
   "metadata": {
    "id": "0oxbVynHpfDK"
   },
   "outputs": [],
   "source": [
    "command = \"tensorflowjs_converter --input_format=tf_saved_model --output_node_names='detection_boxes,detection_classes,detection_features,detection_multiclass_scores,detection_scores,num_detections,raw_detection_boxes,raw_detection_scores' --output_format=tfjs_graph_model --signature_name=serving_default {} {}\".format(os.path.join(paths['OUTPUT_PATH'], 'saved_model'), paths['TFJS_PATH'])"
   ]
  },
  {
   "cell_type": "code",
   "execution_count": 119,
   "metadata": {
    "colab": {
     "base_uri": "https://localhost:8080/"
    },
    "id": "DB2AGNmJpfDK",
    "outputId": "fbc9f747-f511-47e8-df8f-5ea65cef0374"
   },
   "outputs": [
    {
     "name": "stdout",
     "output_type": "stream",
     "text": [
      "tensorflowjs_converter --input_format=tf_saved_model --output_node_names='detection_boxes,detection_classes,detection_features,detection_multiclass_scores,detection_scores,num_detections,raw_detection_boxes,raw_detection_scores' --output_format=tfjs_graph_model --signature_name=serving_default Tensorflow/workspace/models/my_ssd_mobnet/export/saved_model Tensorflow/workspace/models/my_ssd_mobnet/tfjsexport\n"
     ]
    }
   ],
   "source": [
    "print(command)"
   ]
  },
  {
   "cell_type": "code",
   "execution_count": 120,
   "metadata": {
    "colab": {
     "base_uri": "https://localhost:8080/"
    },
    "id": "K7rfT4-hpfDK",
    "outputId": "532707fd-6feb-4bc6-84a3-325b5d16303c"
   },
   "outputs": [
    {
     "name": "stdout",
     "output_type": "stream",
     "text": [
      "2023-01-02 16:48:03.097477: I tensorflow/core/platform/cpu_feature_guard.cc:193] This TensorFlow binary is optimized with oneAPI Deep Neural Network Library (oneDNN) to use the following CPU instructions in performance-critical operations:  AVX2 FMA\n",
      "To enable them in other operations, rebuild TensorFlow with the appropriate compiler flags.\n",
      "2023-01-02 16:48:04.059776: W tensorflow/compiler/xla/stream_executor/platform/default/dso_loader.cc:64] Could not load dynamic library 'libnvinfer.so.7'; dlerror: libnvinfer.so.7: cannot open shared object file: No such file or directory; LD_LIBRARY_PATH: /home/shivani/PycharmProjects/obj-localization-animal/venv/lib/python3.8/site-packages/cv2/../../lib64:\n",
      "2023-01-02 16:48:04.059871: W tensorflow/compiler/xla/stream_executor/platform/default/dso_loader.cc:64] Could not load dynamic library 'libnvinfer_plugin.so.7'; dlerror: libnvinfer_plugin.so.7: cannot open shared object file: No such file or directory; LD_LIBRARY_PATH: /home/shivani/PycharmProjects/obj-localization-animal/venv/lib/python3.8/site-packages/cv2/../../lib64:\n",
      "2023-01-02 16:48:04.059888: W tensorflow/compiler/tf2tensorrt/utils/py_utils.cc:38] TF-TRT Warning: Cannot dlopen some TensorRT libraries. If you would like to use Nvidia GPU with TensorRT, please make sure the missing libraries mentioned above are installed properly.\n",
      "2023-01-02 16:48:06.283086: E tensorflow/compiler/xla/stream_executor/cuda/cuda_driver.cc:267] failed call to cuInit: CUDA_ERROR_NO_DEVICE: no CUDA-capable device is detected\n",
      "Writing weight file Tensorflow/workspace/models/my_ssd_mobnet/tfjsexport/model.json...\n"
     ]
    }
   ],
   "source": [
    "!{command}"
   ]
  },
  {
   "cell_type": "code",
   "execution_count": 121,
   "metadata": {
    "id": "o8_hm-itpfDK"
   },
   "outputs": [],
   "source": [
    "# Test Code: https://github.com/nicknochnack/RealTimeSignLanguageDetectionwithTFJS"
   ]
  },
  {
   "cell_type": "markdown",
   "metadata": {
    "id": "VtUw73FHpfDK"
   },
   "source": [
    "# 12. Conversion to TFLite"
   ]
  },
  {
   "cell_type": "code",
   "execution_count": 122,
   "metadata": {
    "id": "XviMtewLpfDK"
   },
   "outputs": [],
   "source": [
    "TFLITE_SCRIPT = os.path.join(paths['APIMODEL_PATH'], 'research', 'object_detection', 'export_tflite_graph_tf2.py ')"
   ]
  },
  {
   "cell_type": "code",
   "execution_count": 123,
   "metadata": {
    "id": "us86cjC4pfDL"
   },
   "outputs": [],
   "source": [
    "command = \"python {} --pipeline_config_path={} --trained_checkpoint_dir={} --output_directory={}\".format(TFLITE_SCRIPT ,files['PIPELINE_CONFIG'], paths['CHECKPOINT_PATH'], paths['TFLITE_PATH'])"
   ]
  },
  {
   "cell_type": "code",
   "execution_count": 124,
   "metadata": {
    "colab": {
     "base_uri": "https://localhost:8080/"
    },
    "id": "n1r5YO3rpfDL",
    "outputId": "5fcdf7a4-eee2-4365-f1ca-1751968379ea"
   },
   "outputs": [
    {
     "name": "stdout",
     "output_type": "stream",
     "text": [
      "python Tensorflow/models/research/object_detection/export_tflite_graph_tf2.py  --pipeline_config_path=Tensorflow/workspace/models/my_ssd_mobnet/pipeline.config --trained_checkpoint_dir=Tensorflow/workspace/models/my_ssd_mobnet --output_directory=Tensorflow/workspace/models/my_ssd_mobnet/tfliteexport\n"
     ]
    }
   ],
   "source": [
    "print(command)"
   ]
  },
  {
   "cell_type": "code",
   "execution_count": 125,
   "metadata": {
    "colab": {
     "base_uri": "https://localhost:8080/"
    },
    "id": "I-xWpHN8pfDL",
    "outputId": "7f6bacd8-d077-43b5-c131-5b081fba24a4"
   },
   "outputs": [
    {
     "name": "stdout",
     "output_type": "stream",
     "text": [
      "2023-01-02 16:48:56.328082: I tensorflow/core/platform/cpu_feature_guard.cc:193] This TensorFlow binary is optimized with oneAPI Deep Neural Network Library (oneDNN) to use the following CPU instructions in performance-critical operations:  AVX2 FMA\n",
      "To enable them in other operations, rebuild TensorFlow with the appropriate compiler flags.\n",
      "2023-01-02 16:48:57.327676: W tensorflow/compiler/xla/stream_executor/platform/default/dso_loader.cc:64] Could not load dynamic library 'libnvinfer.so.7'; dlerror: libnvinfer.so.7: cannot open shared object file: No such file or directory; LD_LIBRARY_PATH: /home/shivani/PycharmProjects/obj-localization-animal/venv/lib/python3.8/site-packages/cv2/../../lib64:\n",
      "2023-01-02 16:48:57.327817: W tensorflow/compiler/xla/stream_executor/platform/default/dso_loader.cc:64] Could not load dynamic library 'libnvinfer_plugin.so.7'; dlerror: libnvinfer_plugin.so.7: cannot open shared object file: No such file or directory; LD_LIBRARY_PATH: /home/shivani/PycharmProjects/obj-localization-animal/venv/lib/python3.8/site-packages/cv2/../../lib64:\n",
      "2023-01-02 16:48:57.327836: W tensorflow/compiler/tf2tensorrt/utils/py_utils.cc:38] TF-TRT Warning: Cannot dlopen some TensorRT libraries. If you would like to use Nvidia GPU with TensorRT, please make sure the missing libraries mentioned above are installed properly.\n",
      "2023-01-02 16:48:59.497178: E tensorflow/compiler/xla/stream_executor/cuda/cuda_driver.cc:267] failed call to cuInit: CUDA_ERROR_NO_DEVICE: no CUDA-capable device is detected\n",
      "WARNING:tensorflow:From /home/shivani/PycharmProjects/obj-localization-animal/venv/lib/python3.8/site-packages/tensorflow/python/autograph/pyct/static_analysis/liveness.py:83: Analyzer.lamba_check (from tensorflow.python.autograph.pyct.static_analysis.liveness) is deprecated and will be removed after 2023-09-23.\n",
      "Instructions for updating:\n",
      "Lambda fuctions will be no more assumed to be used in the statement where they are used, or at least in the same block. https://github.com/tensorflow/tensorflow/issues/56089\n",
      "W0102 16:49:04.918177 140551340148544 deprecation.py:350] From /home/shivani/PycharmProjects/obj-localization-animal/venv/lib/python3.8/site-packages/tensorflow/python/autograph/pyct/static_analysis/liveness.py:83: Analyzer.lamba_check (from tensorflow.python.autograph.pyct.static_analysis.liveness) is deprecated and will be removed after 2023-09-23.\n",
      "Instructions for updating:\n",
      "Lambda fuctions will be no more assumed to be used in the statement where they are used, or at least in the same block. https://github.com/tensorflow/tensorflow/issues/56089\n",
      "WARNING:tensorflow:Skipping full serialization of Keras layer <object_detection.meta_architectures.ssd_meta_arch.SSDMetaArch object at 0x7fd457a29a90>, because it is not built.\n",
      "W0102 16:49:10.256042 140551340148544 save_impl.py:66] Skipping full serialization of Keras layer <object_detection.meta_architectures.ssd_meta_arch.SSDMetaArch object at 0x7fd457a29a90>, because it is not built.\n",
      "WARNING:tensorflow:Skipping full serialization of Keras layer <keras.layers.convolutional.separable_conv2d.SeparableConv2D object at 0x7fd456adc100>, because it is not built.\n",
      "W0102 16:49:10.530690 140551340148544 save_impl.py:66] Skipping full serialization of Keras layer <keras.layers.convolutional.separable_conv2d.SeparableConv2D object at 0x7fd456adc100>, because it is not built.\n",
      "WARNING:tensorflow:Skipping full serialization of Keras layer <object_detection.core.freezable_batch_norm.FreezableBatchNorm object at 0x7fd456c77e80>, because it is not built.\n",
      "W0102 16:49:10.530850 140551340148544 save_impl.py:66] Skipping full serialization of Keras layer <object_detection.core.freezable_batch_norm.FreezableBatchNorm object at 0x7fd456c77e80>, because it is not built.\n",
      "WARNING:tensorflow:Skipping full serialization of Keras layer <keras.layers.core.lambda_layer.Lambda object at 0x7fd456c77be0>, because it is not built.\n",
      "W0102 16:49:10.530946 140551340148544 save_impl.py:66] Skipping full serialization of Keras layer <keras.layers.core.lambda_layer.Lambda object at 0x7fd456c77be0>, because it is not built.\n",
      "WARNING:tensorflow:Skipping full serialization of Keras layer <keras.layers.convolutional.separable_conv2d.SeparableConv2D object at 0x7fd456c77100>, because it is not built.\n",
      "W0102 16:49:10.531027 140551340148544 save_impl.py:66] Skipping full serialization of Keras layer <keras.layers.convolutional.separable_conv2d.SeparableConv2D object at 0x7fd456c77100>, because it is not built.\n",
      "WARNING:tensorflow:Skipping full serialization of Keras layer <object_detection.core.freezable_batch_norm.FreezableBatchNorm object at 0x7fd456c77bb0>, because it is not built.\n",
      "W0102 16:49:10.531105 140551340148544 save_impl.py:66] Skipping full serialization of Keras layer <object_detection.core.freezable_batch_norm.FreezableBatchNorm object at 0x7fd456c77bb0>, because it is not built.\n",
      "WARNING:tensorflow:Skipping full serialization of Keras layer <keras.layers.core.lambda_layer.Lambda object at 0x7fd456c772e0>, because it is not built.\n",
      "W0102 16:49:10.531185 140551340148544 save_impl.py:66] Skipping full serialization of Keras layer <keras.layers.core.lambda_layer.Lambda object at 0x7fd456c772e0>, because it is not built.\n",
      "WARNING:tensorflow:Skipping full serialization of Keras layer <keras.layers.convolutional.separable_conv2d.SeparableConv2D object at 0x7fd456c4ae50>, because it is not built.\n",
      "W0102 16:49:10.531254 140551340148544 save_impl.py:66] Skipping full serialization of Keras layer <keras.layers.convolutional.separable_conv2d.SeparableConv2D object at 0x7fd456c4ae50>, because it is not built.\n",
      "WARNING:tensorflow:Skipping full serialization of Keras layer <object_detection.core.freezable_batch_norm.FreezableBatchNorm object at 0x7fd456c4a040>, because it is not built.\n",
      "W0102 16:49:10.531336 140551340148544 save_impl.py:66] Skipping full serialization of Keras layer <object_detection.core.freezable_batch_norm.FreezableBatchNorm object at 0x7fd456c4a040>, because it is not built.\n",
      "WARNING:tensorflow:Skipping full serialization of Keras layer <keras.layers.core.lambda_layer.Lambda object at 0x7fd4303718b0>, because it is not built.\n",
      "W0102 16:49:10.531409 140551340148544 save_impl.py:66] Skipping full serialization of Keras layer <keras.layers.core.lambda_layer.Lambda object at 0x7fd4303718b0>, because it is not built.\n",
      "WARNING:tensorflow:Skipping full serialization of Keras layer <keras.layers.convolutional.separable_conv2d.SeparableConv2D object at 0x7fd430371940>, because it is not built.\n",
      "W0102 16:49:10.531476 140551340148544 save_impl.py:66] Skipping full serialization of Keras layer <keras.layers.convolutional.separable_conv2d.SeparableConv2D object at 0x7fd430371940>, because it is not built.\n",
      "WARNING:tensorflow:Skipping full serialization of Keras layer <object_detection.core.freezable_batch_norm.FreezableBatchNorm object at 0x7fd456c02f70>, because it is not built.\n",
      "W0102 16:49:10.531563 140551340148544 save_impl.py:66] Skipping full serialization of Keras layer <object_detection.core.freezable_batch_norm.FreezableBatchNorm object at 0x7fd456c02f70>, because it is not built.\n",
      "WARNING:tensorflow:Skipping full serialization of Keras layer <keras.layers.core.lambda_layer.Lambda object at 0x7fd456c02700>, because it is not built.\n",
      "W0102 16:49:10.531635 140551340148544 save_impl.py:66] Skipping full serialization of Keras layer <keras.layers.core.lambda_layer.Lambda object at 0x7fd456c02700>, because it is not built.\n",
      "WARNING:tensorflow:Skipping full serialization of Keras layer <object_detection.core.freezable_batch_norm.FreezableBatchNorm object at 0x7fd430210190>, because it is not built.\n",
      "W0102 16:49:10.531703 140551340148544 save_impl.py:66] Skipping full serialization of Keras layer <object_detection.core.freezable_batch_norm.FreezableBatchNorm object at 0x7fd430210190>, because it is not built.\n",
      "WARNING:tensorflow:Skipping full serialization of Keras layer <keras.layers.core.lambda_layer.Lambda object at 0x7fd43021d850>, because it is not built.\n",
      "W0102 16:49:10.531785 140551340148544 save_impl.py:66] Skipping full serialization of Keras layer <keras.layers.core.lambda_layer.Lambda object at 0x7fd43021d850>, because it is not built.\n",
      "WARNING:tensorflow:Skipping full serialization of Keras layer <object_detection.core.freezable_batch_norm.FreezableBatchNorm object at 0x7fd43021dd30>, because it is not built.\n",
      "W0102 16:49:10.531855 140551340148544 save_impl.py:66] Skipping full serialization of Keras layer <object_detection.core.freezable_batch_norm.FreezableBatchNorm object at 0x7fd43021dd30>, because it is not built.\n",
      "WARNING:tensorflow:Skipping full serialization of Keras layer <keras.layers.core.lambda_layer.Lambda object at 0x7fd43021dd60>, because it is not built.\n",
      "W0102 16:49:10.531927 140551340148544 save_impl.py:66] Skipping full serialization of Keras layer <keras.layers.core.lambda_layer.Lambda object at 0x7fd43021dd60>, because it is not built.\n",
      "WARNING:tensorflow:Skipping full serialization of Keras layer <object_detection.core.freezable_batch_norm.FreezableBatchNorm object at 0x7fd430177070>, because it is not built.\n",
      "W0102 16:49:10.532007 140551340148544 save_impl.py:66] Skipping full serialization of Keras layer <object_detection.core.freezable_batch_norm.FreezableBatchNorm object at 0x7fd430177070>, because it is not built.\n",
      "WARNING:tensorflow:Skipping full serialization of Keras layer <keras.layers.core.lambda_layer.Lambda object at 0x7fd430177430>, because it is not built.\n",
      "W0102 16:49:10.532075 140551340148544 save_impl.py:66] Skipping full serialization of Keras layer <keras.layers.core.lambda_layer.Lambda object at 0x7fd430177430>, because it is not built.\n",
      "WARNING:tensorflow:Skipping full serialization of Keras layer <object_detection.core.freezable_batch_norm.FreezableBatchNorm object at 0x7fd430177850>, because it is not built.\n",
      "W0102 16:49:10.532150 140551340148544 save_impl.py:66] Skipping full serialization of Keras layer <object_detection.core.freezable_batch_norm.FreezableBatchNorm object at 0x7fd430177850>, because it is not built.\n",
      "WARNING:tensorflow:Skipping full serialization of Keras layer <keras.layers.core.lambda_layer.Lambda object at 0x7fd430177550>, because it is not built.\n",
      "W0102 16:49:10.532227 140551340148544 save_impl.py:66] Skipping full serialization of Keras layer <keras.layers.core.lambda_layer.Lambda object at 0x7fd430177550>, because it is not built.\n",
      "WARNING:tensorflow:Skipping full serialization of Keras layer <object_detection.core.freezable_batch_norm.FreezableBatchNorm object at 0x7fd43017ca00>, because it is not built.\n",
      "W0102 16:49:10.532296 140551340148544 save_impl.py:66] Skipping full serialization of Keras layer <object_detection.core.freezable_batch_norm.FreezableBatchNorm object at 0x7fd43017ca00>, because it is not built.\n",
      "WARNING:tensorflow:Skipping full serialization of Keras layer <keras.layers.core.lambda_layer.Lambda object at 0x7fd4301829d0>, because it is not built.\n",
      "W0102 16:49:10.532379 140551340148544 save_impl.py:66] Skipping full serialization of Keras layer <keras.layers.core.lambda_layer.Lambda object at 0x7fd4301829d0>, because it is not built.\n",
      "WARNING:tensorflow:Skipping full serialization of Keras layer <object_detection.core.freezable_batch_norm.FreezableBatchNorm object at 0x7fd4301827c0>, because it is not built.\n",
      "W0102 16:49:10.532451 140551340148544 save_impl.py:66] Skipping full serialization of Keras layer <object_detection.core.freezable_batch_norm.FreezableBatchNorm object at 0x7fd4301827c0>, because it is not built.\n",
      "WARNING:tensorflow:Skipping full serialization of Keras layer <keras.layers.core.lambda_layer.Lambda object at 0x7fd430182d60>, because it is not built.\n",
      "W0102 16:49:10.532519 140551340148544 save_impl.py:66] Skipping full serialization of Keras layer <keras.layers.core.lambda_layer.Lambda object at 0x7fd430182d60>, because it is not built.\n",
      "WARNING:tensorflow:Skipping full serialization of Keras layer <object_detection.core.freezable_batch_norm.FreezableBatchNorm object at 0x7fd456c61c10>, because it is not built.\n",
      "W0102 16:49:10.532603 140551340148544 save_impl.py:66] Skipping full serialization of Keras layer <object_detection.core.freezable_batch_norm.FreezableBatchNorm object at 0x7fd456c61c10>, because it is not built.\n",
      "WARNING:tensorflow:Skipping full serialization of Keras layer <keras.layers.core.lambda_layer.Lambda object at 0x7fd456c61cd0>, because it is not built.\n",
      "W0102 16:49:10.532675 140551340148544 save_impl.py:66] Skipping full serialization of Keras layer <keras.layers.core.lambda_layer.Lambda object at 0x7fd456c61cd0>, because it is not built.\n",
      "WARNING:tensorflow:Skipping full serialization of Keras layer <object_detection.core.freezable_batch_norm.FreezableBatchNorm object at 0x7fd456bf9310>, because it is not built.\n",
      "W0102 16:49:10.532747 140551340148544 save_impl.py:66] Skipping full serialization of Keras layer <object_detection.core.freezable_batch_norm.FreezableBatchNorm object at 0x7fd456bf9310>, because it is not built.\n",
      "WARNING:tensorflow:Skipping full serialization of Keras layer <keras.layers.core.lambda_layer.Lambda object at 0x7fd43038d6a0>, because it is not built.\n",
      "W0102 16:49:10.532830 140551340148544 save_impl.py:66] Skipping full serialization of Keras layer <keras.layers.core.lambda_layer.Lambda object at 0x7fd43038d6a0>, because it is not built.\n",
      "WARNING:tensorflow:Skipping full serialization of Keras layer <object_detection.core.freezable_batch_norm.FreezableBatchNorm object at 0x7fd456da8040>, because it is not built.\n",
      "W0102 16:49:10.532899 140551340148544 save_impl.py:66] Skipping full serialization of Keras layer <object_detection.core.freezable_batch_norm.FreezableBatchNorm object at 0x7fd456da8040>, because it is not built.\n",
      "WARNING:tensorflow:Skipping full serialization of Keras layer <keras.layers.core.lambda_layer.Lambda object at 0x7fd43016d610>, because it is not built.\n",
      "W0102 16:49:10.532971 140551340148544 save_impl.py:66] Skipping full serialization of Keras layer <keras.layers.core.lambda_layer.Lambda object at 0x7fd43016d610>, because it is not built.\n",
      "WARNING:tensorflow:Skipping full serialization of Keras layer <object_detection.core.freezable_batch_norm.FreezableBatchNorm object at 0x7fd430165280>, because it is not built.\n",
      "W0102 16:49:10.533054 140551340148544 save_impl.py:66] Skipping full serialization of Keras layer <object_detection.core.freezable_batch_norm.FreezableBatchNorm object at 0x7fd430165280>, because it is not built.\n",
      "WARNING:tensorflow:Skipping full serialization of Keras layer <keras.layers.core.lambda_layer.Lambda object at 0x7fd4301651c0>, because it is not built.\n",
      "W0102 16:49:10.533219 140551340148544 save_impl.py:66] Skipping full serialization of Keras layer <keras.layers.core.lambda_layer.Lambda object at 0x7fd4301651c0>, because it is not built.\n",
      "WARNING:tensorflow:Skipping full serialization of Keras layer <object_detection.core.freezable_batch_norm.FreezableBatchNorm object at 0x7fd430185130>, because it is not built.\n",
      "W0102 16:49:10.533294 140551340148544 save_impl.py:66] Skipping full serialization of Keras layer <object_detection.core.freezable_batch_norm.FreezableBatchNorm object at 0x7fd430185130>, because it is not built.\n",
      "WARNING:tensorflow:Skipping full serialization of Keras layer <keras.layers.core.lambda_layer.Lambda object at 0x7fd430185070>, because it is not built.\n",
      "W0102 16:49:10.533368 140551340148544 save_impl.py:66] Skipping full serialization of Keras layer <keras.layers.core.lambda_layer.Lambda object at 0x7fd430185070>, because it is not built.\n",
      "WARNING:tensorflow:Skipping full serialization of Keras layer <object_detection.core.freezable_batch_norm.FreezableBatchNorm object at 0x7fd430185af0>, because it is not built.\n",
      "W0102 16:49:10.533446 140551340148544 save_impl.py:66] Skipping full serialization of Keras layer <object_detection.core.freezable_batch_norm.FreezableBatchNorm object at 0x7fd430185af0>, because it is not built.\n",
      "WARNING:tensorflow:Skipping full serialization of Keras layer <keras.layers.core.lambda_layer.Lambda object at 0x7fd430185ac0>, because it is not built.\n",
      "W0102 16:49:10.533518 140551340148544 save_impl.py:66] Skipping full serialization of Keras layer <keras.layers.core.lambda_layer.Lambda object at 0x7fd430185ac0>, because it is not built.\n",
      "WARNING:tensorflow:Skipping full serialization of Keras layer <object_detection.core.freezable_batch_norm.FreezableBatchNorm object at 0x7fd430112910>, because it is not built.\n",
      "W0102 16:49:10.533587 140551340148544 save_impl.py:66] Skipping full serialization of Keras layer <object_detection.core.freezable_batch_norm.FreezableBatchNorm object at 0x7fd430112910>, because it is not built.\n",
      "WARNING:tensorflow:Skipping full serialization of Keras layer <keras.layers.core.lambda_layer.Lambda object at 0x7fd430131d60>, because it is not built.\n",
      "W0102 16:49:10.533654 140551340148544 save_impl.py:66] Skipping full serialization of Keras layer <keras.layers.core.lambda_layer.Lambda object at 0x7fd430131d60>, because it is not built.\n",
      "WARNING:tensorflow:Skipping full serialization of Keras layer <object_detection.core.freezable_batch_norm.FreezableBatchNorm object at 0x7fd4300f4460>, because it is not built.\n",
      "W0102 16:49:10.533722 140551340148544 save_impl.py:66] Skipping full serialization of Keras layer <object_detection.core.freezable_batch_norm.FreezableBatchNorm object at 0x7fd4300f4460>, because it is not built.\n",
      "WARNING:tensorflow:Skipping full serialization of Keras layer <keras.layers.core.lambda_layer.Lambda object at 0x7fd4300f4520>, because it is not built.\n",
      "W0102 16:49:10.533788 140551340148544 save_impl.py:66] Skipping full serialization of Keras layer <keras.layers.core.lambda_layer.Lambda object at 0x7fd4300f4520>, because it is not built.\n",
      "WARNING:tensorflow:Skipping full serialization of Keras layer <object_detection.core.freezable_batch_norm.FreezableBatchNorm object at 0x7fd4300f4a30>, because it is not built.\n",
      "W0102 16:49:10.533855 140551340148544 save_impl.py:66] Skipping full serialization of Keras layer <object_detection.core.freezable_batch_norm.FreezableBatchNorm object at 0x7fd4300f4a30>, because it is not built.\n",
      "WARNING:tensorflow:Skipping full serialization of Keras layer <keras.layers.core.lambda_layer.Lambda object at 0x7fd4300f4af0>, because it is not built.\n",
      "W0102 16:49:10.533924 140551340148544 save_impl.py:66] Skipping full serialization of Keras layer <keras.layers.core.lambda_layer.Lambda object at 0x7fd4300f4af0>, because it is not built.\n",
      "WARNING:tensorflow:Skipping full serialization of Keras layer <object_detection.core.freezable_batch_norm.FreezableBatchNorm object at 0x7fd4300f4fd0>, because it is not built.\n",
      "W0102 16:49:10.533996 140551340148544 save_impl.py:66] Skipping full serialization of Keras layer <object_detection.core.freezable_batch_norm.FreezableBatchNorm object at 0x7fd4300f4fd0>, because it is not built.\n",
      "WARNING:tensorflow:Skipping full serialization of Keras layer <keras.layers.core.lambda_layer.Lambda object at 0x7fd4300f9100>, because it is not built.\n",
      "W0102 16:49:10.534064 140551340148544 save_impl.py:66] Skipping full serialization of Keras layer <keras.layers.core.lambda_layer.Lambda object at 0x7fd4300f9100>, because it is not built.\n"
     ]
    },
    {
     "name": "stdout",
     "output_type": "stream",
     "text": [
      "W0102 16:49:27.252423 140551340148544 save.py:271] Found untraced functions such as WeightSharedConvolutionalBoxPredictor_layer_call_fn, WeightSharedConvolutionalBoxPredictor_layer_call_and_return_conditional_losses, WeightSharedConvolutionalBoxHead_layer_call_fn, WeightSharedConvolutionalBoxHead_layer_call_and_return_conditional_losses, WeightSharedConvolutionalClassHead_layer_call_fn while saving (showing 5 of 173). These functions will not be directly callable after loading.\n",
      "INFO:tensorflow:Assets written to: Tensorflow/workspace/models/my_ssd_mobnet/tfliteexport/saved_model/assets\n",
      "I0102 16:49:31.880456 140551340148544 builder_impl.py:797] Assets written to: Tensorflow/workspace/models/my_ssd_mobnet/tfliteexport/saved_model/assets\n"
     ]
    }
   ],
   "source": [
    "!{command}"
   ]
  },
  {
   "cell_type": "code",
   "execution_count": 126,
   "metadata": {
    "id": "iJfYMbN6pfDL"
   },
   "outputs": [],
   "source": [
    "FROZEN_TFLITE_PATH = os.path.join(paths['TFLITE_PATH'], 'saved_model')\n",
    "TFLITE_MODEL = os.path.join(paths['TFLITE_PATH'], 'saved_model', 'detect.tflite')"
   ]
  },
  {
   "cell_type": "code",
   "execution_count": 127,
   "metadata": {},
   "outputs": [],
   "source": [
    "command = \"tflite_convert \\\n",
    "--saved_model_dir={} \\\n",
    "--output_file={} \\\n",
    "--input_shapes=1,300,300,3 \\\n",
    "--input_arrays=normalized_input_image_tensor \\\n",
    "--output_arrays='TFLite_Detection_PostProcess','TFLite_Detection_PostProcess:1','TFLite_Detection_PostProcess:2','TFLite_Detection_PostProcess:3' \\\n",
    "--inference_type=FLOAT \\\n",
    "--allow_custom_ops\".format(FROZEN_TFLITE_PATH, TFLITE_MODEL, )"
   ]
  },
  {
   "cell_type": "code",
   "execution_count": 128,
   "metadata": {
    "colab": {
     "base_uri": "https://localhost:8080/"
    },
    "id": "E8GwUeoFpfDL",
    "outputId": "fac43ea4-cc85-471b-a362-e994b06fd583"
   },
   "outputs": [
    {
     "name": "stdout",
     "output_type": "stream",
     "text": [
      "tflite_convert --saved_model_dir=Tensorflow/workspace/models/my_ssd_mobnet/tfliteexport/saved_model --output_file=Tensorflow/workspace/models/my_ssd_mobnet/tfliteexport/saved_model/detect.tflite --input_shapes=1,300,300,3 --input_arrays=normalized_input_image_tensor --output_arrays='TFLite_Detection_PostProcess','TFLite_Detection_PostProcess:1','TFLite_Detection_PostProcess:2','TFLite_Detection_PostProcess:3' --inference_type=FLOAT --allow_custom_ops\n"
     ]
    }
   ],
   "source": [
    "print(command)"
   ]
  },
  {
   "cell_type": "code",
   "execution_count": 129,
   "metadata": {
    "colab": {
     "base_uri": "https://localhost:8080/"
    },
    "id": "Nbd7gqHMpfDL",
    "outputId": "7c8fe6d5-2415-4641-8548-39d425c202f7"
   },
   "outputs": [
    {
     "name": "stdout",
     "output_type": "stream",
     "text": [
      "2023-01-02 16:50:02.073464: I tensorflow/core/platform/cpu_feature_guard.cc:193] This TensorFlow binary is optimized with oneAPI Deep Neural Network Library (oneDNN) to use the following CPU instructions in performance-critical operations:  AVX2 FMA\n",
      "To enable them in other operations, rebuild TensorFlow with the appropriate compiler flags.\n",
      "2023-01-02 16:50:03.016205: W tensorflow/compiler/xla/stream_executor/platform/default/dso_loader.cc:64] Could not load dynamic library 'libnvinfer.so.7'; dlerror: libnvinfer.so.7: cannot open shared object file: No such file or directory; LD_LIBRARY_PATH: /home/shivani/PycharmProjects/obj-localization-animal/venv/lib/python3.8/site-packages/cv2/../../lib64:\n",
      "2023-01-02 16:50:03.016296: W tensorflow/compiler/xla/stream_executor/platform/default/dso_loader.cc:64] Could not load dynamic library 'libnvinfer_plugin.so.7'; dlerror: libnvinfer_plugin.so.7: cannot open shared object file: No such file or directory; LD_LIBRARY_PATH: /home/shivani/PycharmProjects/obj-localization-animal/venv/lib/python3.8/site-packages/cv2/../../lib64:\n",
      "2023-01-02 16:50:03.016313: W tensorflow/compiler/tf2tensorrt/utils/py_utils.cc:38] TF-TRT Warning: Cannot dlopen some TensorRT libraries. If you would like to use Nvidia GPU with TensorRT, please make sure the missing libraries mentioned above are installed properly.\n",
      "2023-01-02 16:50:04.383587: E tensorflow/compiler/xla/stream_executor/cuda/cuda_driver.cc:267] failed call to cuInit: CUDA_ERROR_NO_DEVICE: no CUDA-capable device is detected\n",
      "2023-01-02 16:50:13.061337: W tensorflow/compiler/mlir/lite/python/tf_tfl_flatbuffer_helpers.cc:362] Ignored output_format.\n",
      "2023-01-02 16:50:13.061382: W tensorflow/compiler/mlir/lite/python/tf_tfl_flatbuffer_helpers.cc:365] Ignored drop_control_dependency.\n"
     ]
    }
   ],
   "source": [
    "!{command}"
   ]
  },
  {
   "cell_type": "markdown",
   "metadata": {
    "id": "5NQqZRdA21Uc"
   },
   "source": [
    "# 13. Zip and Export Models "
   ]
  },
  {
   "cell_type": "code",
   "execution_count": null,
   "metadata": {
    "id": "tTVTGCQp2ZJJ"
   },
   "outputs": [],
   "source": [
    "!tar -czf models.tar.gz {paths['CHECKPOINT_PATH']}"
   ]
  },
  {
   "cell_type": "code",
   "execution_count": null,
   "metadata": {
    "colab": {
     "base_uri": "https://localhost:8080/"
    },
    "id": "whShhB0x3PYJ",
    "outputId": "b773201d-35c9-46a8-b893-4a76bd4d5d97"
   },
   "outputs": [],
   "source": [
    "from google.colab import drive\n",
    "drive.mount('/content/drive')"
   ]
  }
 ],
 "metadata": {
  "accelerator": "GPU",
  "colab": {
   "name": "3. Training and Detection.ipynb",
   "provenance": []
  },
  "kernelspec": {
   "display_name": "shivani",
   "language": "python",
   "name": "shivani"
  },
  "language_info": {
   "codemirror_mode": {
    "name": "ipython",
    "version": 3
   },
   "file_extension": ".py",
   "mimetype": "text/x-python",
   "name": "python",
   "nbconvert_exporter": "python",
   "pygments_lexer": "ipython3",
   "version": "3.8.10"
  }
 },
 "nbformat": 4,
 "nbformat_minor": 1
}
